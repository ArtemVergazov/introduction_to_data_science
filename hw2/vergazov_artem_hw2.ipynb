{
 "cells": [
  {
   "cell_type": "markdown",
   "metadata": {},
   "source": [
    "## Skoltech\n",
    "## Intro to data science, fall 2021\n",
    "## Assigment 2\n",
    "\n",
    "### Goals\n",
    "- Make exploratory data analysis\n",
    "- Apply feature engineering and feature selection\n",
    "- Try to solve classification tasks and use classification performance metrics\n",
    "\n",
    "\n",
    "# Submiting the answers\n",
    "\n",
    "Google form to submit your answers: https://docs.google.com/forms/d/e/1FAIpQLSfAQzhQGmdCYLtaeeaAn2mgNut5HO4U6l3G1KUbBO0qDtA7FA/viewform\n",
    "\n",
    "Use your **skoltech email**. For Name, Surname use **exactly the same spelling** as in canvas system.\n",
    "\n",
    "---\n",
    "\n",
    "If your answer is a ``float number``, then you must round it up to **3 decimals after the floating point**, e.g. 3.142 for pi or 9.78 for 9.780023\n",
    "\n",
    "---\n",
    "\n",
    "If your answer is a ``list of float or integer numbers``, then they should be reported in descending order, divided by a comma, e.g.:\n",
    "\n",
    "10.453,9.112,5.001,5.000,1.02\n",
    "\n",
    "If your answer is a ``list of str or letters``, then they should be in alphabetical order , e.g.:\n",
    "\n",
    "charlie,foxtrot,kilo,uniform\n",
    "\n",
    "a,c,f\n",
    "\n",
    "---\n",
    "\n",
    "The last part (Q5) does not have corresponding fields in the google form. It is **not optional** and it will be graded manually from your .ipynb file.\n",
    "\n",
    "---\n",
    "\n",
    "If you have any questions regarding this Home Assignment, you can ask them on piazza:https://piazza.com/class/ku068l4dg0068n"
   ]
  },
  {
   "cell_type": "markdown",
   "metadata": {},
   "source": [
    "## Dataset\n",
    "Customer Personality Analysis is a detailed analysis of a company’s ideal customers. It helps a business to better understand its customers and makes it easier for them to modify products according to the specific needs, behaviors and concerns of different types of customers.\n",
    "\n",
    "#### Attributes\n",
    "\n",
    "**People**\n",
    "\n",
    "-   ID: Customer's unique identifier\n",
    "-   Year_Birth: Customer's birth year\n",
    "-   Education: Customer's education level\n",
    "-   Marital_Status: Customer's marital status\n",
    "-   Kidhome: Number of children in customer's household\n",
    "-   Teenhome: Number of teenagers in customer's household\n",
    "-   Dt_Customer: Date of customer's enrollment with the company\n",
    "-   Recency: Number of days since customer's last purchase\n",
    "-   Complain: 1 if customer complained in the last 2 years, 0 otherwise\n",
    "\n",
    "\n",
    "**Products**\n",
    "\n",
    "-   MntWines: Amount spent on wine in last 2 years\n",
    "-   MntFruits: Amount spent on fruits in last 2 years\n",
    "-   MntMeatProducts: Amount spent on meat in last 2 years\n",
    "-   MntFishProducts: Amount spent on fish in last 2 years\n",
    "-   MntSweetProducts: Amount spent on sweets in last 2 years\n",
    "-   MntGoldProds: Amount spent on gold in last 2 years\n",
    "\n",
    "**Promotion**\n",
    "\n",
    "-   NumDealsPurchases: Number of purchases made with a discount\n",
    "-   AcceptedCmp: 1 if customer accepted the offer in the last campaign, 0 otherwise\n",
    "\n",
    "**Behavior**\n",
    "\n",
    "-   NumWebPurchases: Number of purchases made through the company’s web site\n",
    "-   NumCatalogPurchases: Number of purchases made using a catalogue\n",
    "-   NumStorePurchases: Number of purchases made directly in stores\n",
    "-   NumWebVisitsMonth: Number of visits to company’s web site in the last month\n",
    "-   NumDealsPurchases: Number of purchases made with a discount\n"
   ]
  },
  {
   "cell_type": "markdown",
   "metadata": {
    "tags": []
   },
   "source": [
    "#### Import basic libraries"
   ]
  },
  {
   "cell_type": "code",
   "execution_count": 1,
   "metadata": {
    "id": "IxQ5oO5xbtyW"
   },
   "outputs": [],
   "source": [
    "import pandas as pd\n",
    "import numpy as np\n",
    "import matplotlib.pyplot as plt\n",
    "%matplotlib inline\n",
    "import seaborn as sns\n",
    "sns.set()"
   ]
  },
  {
   "cell_type": "code",
   "execution_count": 2,
   "metadata": {},
   "outputs": [],
   "source": [
    "from jupyterthemes import jtplot\n",
    "jtplot.style()"
   ]
  },
  {
   "cell_type": "markdown",
   "metadata": {},
   "source": [
    "#### Read the data"
   ]
  },
  {
   "cell_type": "code",
   "execution_count": 3,
   "metadata": {
    "id": "mBWPB2ajcTnj"
   },
   "outputs": [],
   "source": [
    "df = pd.read_csv('marketing_campaign.csv', sep='\\t', index_col='ID')"
   ]
  },
  {
   "cell_type": "code",
   "execution_count": 4,
   "metadata": {},
   "outputs": [],
   "source": [
    "pd.set_option('display.max_columns', 30)"
   ]
  },
  {
   "cell_type": "markdown",
   "metadata": {
    "tags": []
   },
   "source": [
    "## 1. Data exploration\n",
    "\n",
    "Let's take a closer look at the data."
   ]
  },
  {
   "cell_type": "code",
   "execution_count": 5,
   "metadata": {},
   "outputs": [
    {
     "data": {
      "text/html": [
       "<div>\n",
       "<style scoped>\n",
       "    .dataframe tbody tr th:only-of-type {\n",
       "        vertical-align: middle;\n",
       "    }\n",
       "\n",
       "    .dataframe tbody tr th {\n",
       "        vertical-align: top;\n",
       "    }\n",
       "\n",
       "    .dataframe thead th {\n",
       "        text-align: right;\n",
       "    }\n",
       "</style>\n",
       "<table border=\"1\" class=\"dataframe\">\n",
       "  <thead>\n",
       "    <tr style=\"text-align: right;\">\n",
       "      <th></th>\n",
       "      <th>Year_Birth</th>\n",
       "      <th>Education</th>\n",
       "      <th>Marital_Status</th>\n",
       "      <th>Kidhome</th>\n",
       "      <th>Teenhome</th>\n",
       "      <th>Dt_Customer</th>\n",
       "      <th>Recency</th>\n",
       "      <th>MntWines</th>\n",
       "      <th>MntFruits</th>\n",
       "      <th>MntMeatProducts</th>\n",
       "      <th>MntFishProducts</th>\n",
       "      <th>MntSweetProducts</th>\n",
       "      <th>MntGoldProds</th>\n",
       "      <th>NumDealsPurchases</th>\n",
       "      <th>NumWebPurchases</th>\n",
       "      <th>NumCatalogPurchases</th>\n",
       "      <th>NumStorePurchases</th>\n",
       "      <th>NumWebVisitsMonth</th>\n",
       "      <th>Complain</th>\n",
       "      <th>Z_CostContact</th>\n",
       "      <th>Z_Revenue</th>\n",
       "      <th>AcceptedCmp</th>\n",
       "    </tr>\n",
       "    <tr>\n",
       "      <th>ID</th>\n",
       "      <th></th>\n",
       "      <th></th>\n",
       "      <th></th>\n",
       "      <th></th>\n",
       "      <th></th>\n",
       "      <th></th>\n",
       "      <th></th>\n",
       "      <th></th>\n",
       "      <th></th>\n",
       "      <th></th>\n",
       "      <th></th>\n",
       "      <th></th>\n",
       "      <th></th>\n",
       "      <th></th>\n",
       "      <th></th>\n",
       "      <th></th>\n",
       "      <th></th>\n",
       "      <th></th>\n",
       "      <th></th>\n",
       "      <th></th>\n",
       "      <th></th>\n",
       "      <th></th>\n",
       "    </tr>\n",
       "  </thead>\n",
       "  <tbody>\n",
       "    <tr>\n",
       "      <th>5524</th>\n",
       "      <td>1963</td>\n",
       "      <td>Graduation</td>\n",
       "      <td>Single</td>\n",
       "      <td>0</td>\n",
       "      <td>0</td>\n",
       "      <td>2018-04-09</td>\n",
       "      <td>58</td>\n",
       "      <td>635</td>\n",
       "      <td>88</td>\n",
       "      <td>546</td>\n",
       "      <td>172</td>\n",
       "      <td>88</td>\n",
       "      <td>88</td>\n",
       "      <td>3</td>\n",
       "      <td>8</td>\n",
       "      <td>10</td>\n",
       "      <td>4</td>\n",
       "      <td>7</td>\n",
       "      <td>0</td>\n",
       "      <td>3</td>\n",
       "      <td>11</td>\n",
       "      <td>1</td>\n",
       "    </tr>\n",
       "    <tr>\n",
       "      <th>2174</th>\n",
       "      <td>1960</td>\n",
       "      <td>Graduation</td>\n",
       "      <td>Single</td>\n",
       "      <td>1</td>\n",
       "      <td>1</td>\n",
       "      <td>2020-08-03</td>\n",
       "      <td>38</td>\n",
       "      <td>11</td>\n",
       "      <td>1</td>\n",
       "      <td>6</td>\n",
       "      <td>2</td>\n",
       "      <td>1</td>\n",
       "      <td>6</td>\n",
       "      <td>2</td>\n",
       "      <td>1</td>\n",
       "      <td>1</td>\n",
       "      <td>2</td>\n",
       "      <td>5</td>\n",
       "      <td>0</td>\n",
       "      <td>3</td>\n",
       "      <td>11</td>\n",
       "      <td>0</td>\n",
       "    </tr>\n",
       "    <tr>\n",
       "      <th>4141</th>\n",
       "      <td>1971</td>\n",
       "      <td>Graduation</td>\n",
       "      <td>Together</td>\n",
       "      <td>0</td>\n",
       "      <td>0</td>\n",
       "      <td>2019-08-21</td>\n",
       "      <td>26</td>\n",
       "      <td>426</td>\n",
       "      <td>49</td>\n",
       "      <td>127</td>\n",
       "      <td>111</td>\n",
       "      <td>21</td>\n",
       "      <td>42</td>\n",
       "      <td>1</td>\n",
       "      <td>8</td>\n",
       "      <td>2</td>\n",
       "      <td>10</td>\n",
       "      <td>4</td>\n",
       "      <td>0</td>\n",
       "      <td>3</td>\n",
       "      <td>11</td>\n",
       "      <td>0</td>\n",
       "    </tr>\n",
       "    <tr>\n",
       "      <th>6182</th>\n",
       "      <td>1990</td>\n",
       "      <td>Graduation</td>\n",
       "      <td>Together</td>\n",
       "      <td>1</td>\n",
       "      <td>0</td>\n",
       "      <td>2020-10-02</td>\n",
       "      <td>26</td>\n",
       "      <td>11</td>\n",
       "      <td>4</td>\n",
       "      <td>20</td>\n",
       "      <td>10</td>\n",
       "      <td>3</td>\n",
       "      <td>5</td>\n",
       "      <td>2</td>\n",
       "      <td>2</td>\n",
       "      <td>0</td>\n",
       "      <td>4</td>\n",
       "      <td>6</td>\n",
       "      <td>0</td>\n",
       "      <td>3</td>\n",
       "      <td>11</td>\n",
       "      <td>0</td>\n",
       "    </tr>\n",
       "    <tr>\n",
       "      <th>5324</th>\n",
       "      <td>1987</td>\n",
       "      <td>PhD</td>\n",
       "      <td>Married</td>\n",
       "      <td>1</td>\n",
       "      <td>0</td>\n",
       "      <td>2020-01-19</td>\n",
       "      <td>94</td>\n",
       "      <td>173</td>\n",
       "      <td>43</td>\n",
       "      <td>118</td>\n",
       "      <td>46</td>\n",
       "      <td>27</td>\n",
       "      <td>15</td>\n",
       "      <td>5</td>\n",
       "      <td>5</td>\n",
       "      <td>3</td>\n",
       "      <td>6</td>\n",
       "      <td>5</td>\n",
       "      <td>0</td>\n",
       "      <td>3</td>\n",
       "      <td>11</td>\n",
       "      <td>0</td>\n",
       "    </tr>\n",
       "    <tr>\n",
       "      <th>...</th>\n",
       "      <td>...</td>\n",
       "      <td>...</td>\n",
       "      <td>...</td>\n",
       "      <td>...</td>\n",
       "      <td>...</td>\n",
       "      <td>...</td>\n",
       "      <td>...</td>\n",
       "      <td>...</td>\n",
       "      <td>...</td>\n",
       "      <td>...</td>\n",
       "      <td>...</td>\n",
       "      <td>...</td>\n",
       "      <td>...</td>\n",
       "      <td>...</td>\n",
       "      <td>...</td>\n",
       "      <td>...</td>\n",
       "      <td>...</td>\n",
       "      <td>...</td>\n",
       "      <td>...</td>\n",
       "      <td>...</td>\n",
       "      <td>...</td>\n",
       "      <td>...</td>\n",
       "    </tr>\n",
       "    <tr>\n",
       "      <th>10870</th>\n",
       "      <td>1973</td>\n",
       "      <td>Graduation</td>\n",
       "      <td>Married</td>\n",
       "      <td>0</td>\n",
       "      <td>1</td>\n",
       "      <td>2019-06-13</td>\n",
       "      <td>46</td>\n",
       "      <td>709</td>\n",
       "      <td>43</td>\n",
       "      <td>182</td>\n",
       "      <td>42</td>\n",
       "      <td>118</td>\n",
       "      <td>247</td>\n",
       "      <td>2</td>\n",
       "      <td>9</td>\n",
       "      <td>3</td>\n",
       "      <td>4</td>\n",
       "      <td>5</td>\n",
       "      <td>0</td>\n",
       "      <td>3</td>\n",
       "      <td>11</td>\n",
       "      <td>0</td>\n",
       "    </tr>\n",
       "    <tr>\n",
       "      <th>4001</th>\n",
       "      <td>1952</td>\n",
       "      <td>PhD</td>\n",
       "      <td>Together</td>\n",
       "      <td>2</td>\n",
       "      <td>1</td>\n",
       "      <td>2020-10-06</td>\n",
       "      <td>56</td>\n",
       "      <td>406</td>\n",
       "      <td>0</td>\n",
       "      <td>30</td>\n",
       "      <td>0</td>\n",
       "      <td>0</td>\n",
       "      <td>8</td>\n",
       "      <td>7</td>\n",
       "      <td>8</td>\n",
       "      <td>2</td>\n",
       "      <td>5</td>\n",
       "      <td>7</td>\n",
       "      <td>0</td>\n",
       "      <td>3</td>\n",
       "      <td>11</td>\n",
       "      <td>0</td>\n",
       "    </tr>\n",
       "    <tr>\n",
       "      <th>7270</th>\n",
       "      <td>1987</td>\n",
       "      <td>Graduation</td>\n",
       "      <td>Divorced</td>\n",
       "      <td>0</td>\n",
       "      <td>0</td>\n",
       "      <td>2020-01-25</td>\n",
       "      <td>91</td>\n",
       "      <td>908</td>\n",
       "      <td>48</td>\n",
       "      <td>217</td>\n",
       "      <td>32</td>\n",
       "      <td>12</td>\n",
       "      <td>24</td>\n",
       "      <td>1</td>\n",
       "      <td>2</td>\n",
       "      <td>3</td>\n",
       "      <td>13</td>\n",
       "      <td>6</td>\n",
       "      <td>0</td>\n",
       "      <td>3</td>\n",
       "      <td>11</td>\n",
       "      <td>0</td>\n",
       "    </tr>\n",
       "    <tr>\n",
       "      <th>8235</th>\n",
       "      <td>1962</td>\n",
       "      <td>Master</td>\n",
       "      <td>Together</td>\n",
       "      <td>0</td>\n",
       "      <td>1</td>\n",
       "      <td>2020-01-24</td>\n",
       "      <td>8</td>\n",
       "      <td>428</td>\n",
       "      <td>30</td>\n",
       "      <td>214</td>\n",
       "      <td>80</td>\n",
       "      <td>30</td>\n",
       "      <td>61</td>\n",
       "      <td>2</td>\n",
       "      <td>6</td>\n",
       "      <td>5</td>\n",
       "      <td>10</td>\n",
       "      <td>3</td>\n",
       "      <td>0</td>\n",
       "      <td>3</td>\n",
       "      <td>11</td>\n",
       "      <td>0</td>\n",
       "    </tr>\n",
       "    <tr>\n",
       "      <th>9405</th>\n",
       "      <td>1960</td>\n",
       "      <td>PhD</td>\n",
       "      <td>Married</td>\n",
       "      <td>1</td>\n",
       "      <td>1</td>\n",
       "      <td>2018-10-15</td>\n",
       "      <td>40</td>\n",
       "      <td>84</td>\n",
       "      <td>3</td>\n",
       "      <td>61</td>\n",
       "      <td>2</td>\n",
       "      <td>1</td>\n",
       "      <td>21</td>\n",
       "      <td>3</td>\n",
       "      <td>3</td>\n",
       "      <td>1</td>\n",
       "      <td>4</td>\n",
       "      <td>7</td>\n",
       "      <td>0</td>\n",
       "      <td>3</td>\n",
       "      <td>11</td>\n",
       "      <td>1</td>\n",
       "    </tr>\n",
       "  </tbody>\n",
       "</table>\n",
       "<p>2240 rows × 22 columns</p>\n",
       "</div>"
      ],
      "text/plain": [
       "       Year_Birth   Education Marital_Status  Kidhome  Teenhome Dt_Customer  \\\n",
       "ID                                                                            \n",
       "5524         1963  Graduation         Single        0         0  2018-04-09   \n",
       "2174         1960  Graduation         Single        1         1  2020-08-03   \n",
       "4141         1971  Graduation       Together        0         0  2019-08-21   \n",
       "6182         1990  Graduation       Together        1         0  2020-10-02   \n",
       "5324         1987         PhD        Married        1         0  2020-01-19   \n",
       "...           ...         ...            ...      ...       ...         ...   \n",
       "10870        1973  Graduation        Married        0         1  2019-06-13   \n",
       "4001         1952         PhD       Together        2         1  2020-10-06   \n",
       "7270         1987  Graduation       Divorced        0         0  2020-01-25   \n",
       "8235         1962      Master       Together        0         1  2020-01-24   \n",
       "9405         1960         PhD        Married        1         1  2018-10-15   \n",
       "\n",
       "       Recency  MntWines  MntFruits  MntMeatProducts  MntFishProducts  \\\n",
       "ID                                                                      \n",
       "5524        58       635         88              546              172   \n",
       "2174        38        11          1                6                2   \n",
       "4141        26       426         49              127              111   \n",
       "6182        26        11          4               20               10   \n",
       "5324        94       173         43              118               46   \n",
       "...        ...       ...        ...              ...              ...   \n",
       "10870       46       709         43              182               42   \n",
       "4001        56       406          0               30                0   \n",
       "7270        91       908         48              217               32   \n",
       "8235         8       428         30              214               80   \n",
       "9405        40        84          3               61                2   \n",
       "\n",
       "       MntSweetProducts  MntGoldProds  NumDealsPurchases  NumWebPurchases  \\\n",
       "ID                                                                          \n",
       "5524                 88            88                  3                8   \n",
       "2174                  1             6                  2                1   \n",
       "4141                 21            42                  1                8   \n",
       "6182                  3             5                  2                2   \n",
       "5324                 27            15                  5                5   \n",
       "...                 ...           ...                ...              ...   \n",
       "10870               118           247                  2                9   \n",
       "4001                  0             8                  7                8   \n",
       "7270                 12            24                  1                2   \n",
       "8235                 30            61                  2                6   \n",
       "9405                  1            21                  3                3   \n",
       "\n",
       "       NumCatalogPurchases  NumStorePurchases  NumWebVisitsMonth  Complain  \\\n",
       "ID                                                                           \n",
       "5524                    10                  4                  7         0   \n",
       "2174                     1                  2                  5         0   \n",
       "4141                     2                 10                  4         0   \n",
       "6182                     0                  4                  6         0   \n",
       "5324                     3                  6                  5         0   \n",
       "...                    ...                ...                ...       ...   \n",
       "10870                    3                  4                  5         0   \n",
       "4001                     2                  5                  7         0   \n",
       "7270                     3                 13                  6         0   \n",
       "8235                     5                 10                  3         0   \n",
       "9405                     1                  4                  7         0   \n",
       "\n",
       "       Z_CostContact  Z_Revenue  AcceptedCmp  \n",
       "ID                                            \n",
       "5524               3         11            1  \n",
       "2174               3         11            0  \n",
       "4141               3         11            0  \n",
       "6182               3         11            0  \n",
       "5324               3         11            0  \n",
       "...              ...        ...          ...  \n",
       "10870              3         11            0  \n",
       "4001               3         11            0  \n",
       "7270               3         11            0  \n",
       "8235               3         11            0  \n",
       "9405               3         11            1  \n",
       "\n",
       "[2240 rows x 22 columns]"
      ]
     },
     "execution_count": 5,
     "metadata": {},
     "output_type": "execute_result"
    }
   ],
   "source": [
    "df"
   ]
  },
  {
   "cell_type": "code",
   "execution_count": 6,
   "metadata": {},
   "outputs": [
    {
     "data": {
      "text/html": [
       "<div>\n",
       "<style scoped>\n",
       "    .dataframe tbody tr th:only-of-type {\n",
       "        vertical-align: middle;\n",
       "    }\n",
       "\n",
       "    .dataframe tbody tr th {\n",
       "        vertical-align: top;\n",
       "    }\n",
       "\n",
       "    .dataframe thead th {\n",
       "        text-align: right;\n",
       "    }\n",
       "</style>\n",
       "<table border=\"1\" class=\"dataframe\">\n",
       "  <thead>\n",
       "    <tr style=\"text-align: right;\">\n",
       "      <th></th>\n",
       "      <th>Year_Birth</th>\n",
       "      <th>Kidhome</th>\n",
       "      <th>Teenhome</th>\n",
       "      <th>Recency</th>\n",
       "      <th>MntWines</th>\n",
       "      <th>MntFruits</th>\n",
       "      <th>MntMeatProducts</th>\n",
       "      <th>MntFishProducts</th>\n",
       "      <th>MntSweetProducts</th>\n",
       "      <th>MntGoldProds</th>\n",
       "      <th>NumDealsPurchases</th>\n",
       "      <th>NumWebPurchases</th>\n",
       "      <th>NumCatalogPurchases</th>\n",
       "      <th>NumStorePurchases</th>\n",
       "      <th>NumWebVisitsMonth</th>\n",
       "      <th>Complain</th>\n",
       "      <th>Z_CostContact</th>\n",
       "      <th>Z_Revenue</th>\n",
       "      <th>AcceptedCmp</th>\n",
       "    </tr>\n",
       "  </thead>\n",
       "  <tbody>\n",
       "    <tr>\n",
       "      <th>count</th>\n",
       "      <td>2240.000000</td>\n",
       "      <td>2240.000000</td>\n",
       "      <td>2240.000000</td>\n",
       "      <td>2240.000000</td>\n",
       "      <td>2240.000000</td>\n",
       "      <td>2240.000000</td>\n",
       "      <td>2240.000000</td>\n",
       "      <td>2240.000000</td>\n",
       "      <td>2240.000000</td>\n",
       "      <td>2240.000000</td>\n",
       "      <td>2240.000000</td>\n",
       "      <td>2240.000000</td>\n",
       "      <td>2240.000000</td>\n",
       "      <td>2240.000000</td>\n",
       "      <td>2240.000000</td>\n",
       "      <td>2240.000000</td>\n",
       "      <td>2240.0</td>\n",
       "      <td>2240.0</td>\n",
       "      <td>2240.000000</td>\n",
       "    </tr>\n",
       "    <tr>\n",
       "      <th>mean</th>\n",
       "      <td>1974.805804</td>\n",
       "      <td>0.444196</td>\n",
       "      <td>0.506250</td>\n",
       "      <td>49.109375</td>\n",
       "      <td>303.935714</td>\n",
       "      <td>26.302232</td>\n",
       "      <td>166.950000</td>\n",
       "      <td>37.525446</td>\n",
       "      <td>27.062946</td>\n",
       "      <td>44.021875</td>\n",
       "      <td>2.325000</td>\n",
       "      <td>4.084821</td>\n",
       "      <td>2.662054</td>\n",
       "      <td>5.790179</td>\n",
       "      <td>5.316518</td>\n",
       "      <td>0.009375</td>\n",
       "      <td>3.0</td>\n",
       "      <td>11.0</td>\n",
       "      <td>0.149107</td>\n",
       "    </tr>\n",
       "    <tr>\n",
       "      <th>std</th>\n",
       "      <td>11.984069</td>\n",
       "      <td>0.538398</td>\n",
       "      <td>0.544538</td>\n",
       "      <td>28.962453</td>\n",
       "      <td>336.597393</td>\n",
       "      <td>39.773434</td>\n",
       "      <td>225.715373</td>\n",
       "      <td>54.628979</td>\n",
       "      <td>41.280498</td>\n",
       "      <td>52.167439</td>\n",
       "      <td>1.932238</td>\n",
       "      <td>2.778714</td>\n",
       "      <td>2.923101</td>\n",
       "      <td>3.250958</td>\n",
       "      <td>2.426645</td>\n",
       "      <td>0.096391</td>\n",
       "      <td>0.0</td>\n",
       "      <td>0.0</td>\n",
       "      <td>0.356274</td>\n",
       "    </tr>\n",
       "    <tr>\n",
       "      <th>min</th>\n",
       "      <td>1899.000000</td>\n",
       "      <td>0.000000</td>\n",
       "      <td>0.000000</td>\n",
       "      <td>0.000000</td>\n",
       "      <td>0.000000</td>\n",
       "      <td>0.000000</td>\n",
       "      <td>0.000000</td>\n",
       "      <td>0.000000</td>\n",
       "      <td>0.000000</td>\n",
       "      <td>0.000000</td>\n",
       "      <td>0.000000</td>\n",
       "      <td>0.000000</td>\n",
       "      <td>0.000000</td>\n",
       "      <td>0.000000</td>\n",
       "      <td>0.000000</td>\n",
       "      <td>0.000000</td>\n",
       "      <td>3.0</td>\n",
       "      <td>11.0</td>\n",
       "      <td>0.000000</td>\n",
       "    </tr>\n",
       "    <tr>\n",
       "      <th>25%</th>\n",
       "      <td>1965.000000</td>\n",
       "      <td>0.000000</td>\n",
       "      <td>0.000000</td>\n",
       "      <td>24.000000</td>\n",
       "      <td>23.750000</td>\n",
       "      <td>1.000000</td>\n",
       "      <td>16.000000</td>\n",
       "      <td>3.000000</td>\n",
       "      <td>1.000000</td>\n",
       "      <td>9.000000</td>\n",
       "      <td>1.000000</td>\n",
       "      <td>2.000000</td>\n",
       "      <td>0.000000</td>\n",
       "      <td>3.000000</td>\n",
       "      <td>3.000000</td>\n",
       "      <td>0.000000</td>\n",
       "      <td>3.0</td>\n",
       "      <td>11.0</td>\n",
       "      <td>0.000000</td>\n",
       "    </tr>\n",
       "    <tr>\n",
       "      <th>50%</th>\n",
       "      <td>1976.000000</td>\n",
       "      <td>0.000000</td>\n",
       "      <td>0.000000</td>\n",
       "      <td>49.000000</td>\n",
       "      <td>173.500000</td>\n",
       "      <td>8.000000</td>\n",
       "      <td>67.000000</td>\n",
       "      <td>12.000000</td>\n",
       "      <td>8.000000</td>\n",
       "      <td>24.000000</td>\n",
       "      <td>2.000000</td>\n",
       "      <td>4.000000</td>\n",
       "      <td>2.000000</td>\n",
       "      <td>5.000000</td>\n",
       "      <td>6.000000</td>\n",
       "      <td>0.000000</td>\n",
       "      <td>3.0</td>\n",
       "      <td>11.0</td>\n",
       "      <td>0.000000</td>\n",
       "    </tr>\n",
       "    <tr>\n",
       "      <th>75%</th>\n",
       "      <td>1983.000000</td>\n",
       "      <td>1.000000</td>\n",
       "      <td>1.000000</td>\n",
       "      <td>74.000000</td>\n",
       "      <td>504.250000</td>\n",
       "      <td>33.000000</td>\n",
       "      <td>232.000000</td>\n",
       "      <td>50.000000</td>\n",
       "      <td>33.000000</td>\n",
       "      <td>56.000000</td>\n",
       "      <td>3.000000</td>\n",
       "      <td>6.000000</td>\n",
       "      <td>4.000000</td>\n",
       "      <td>8.000000</td>\n",
       "      <td>7.000000</td>\n",
       "      <td>0.000000</td>\n",
       "      <td>3.0</td>\n",
       "      <td>11.0</td>\n",
       "      <td>0.000000</td>\n",
       "    </tr>\n",
       "    <tr>\n",
       "      <th>max</th>\n",
       "      <td>2002.000000</td>\n",
       "      <td>2.000000</td>\n",
       "      <td>2.000000</td>\n",
       "      <td>99.000000</td>\n",
       "      <td>1493.000000</td>\n",
       "      <td>199.000000</td>\n",
       "      <td>1725.000000</td>\n",
       "      <td>259.000000</td>\n",
       "      <td>263.000000</td>\n",
       "      <td>362.000000</td>\n",
       "      <td>15.000000</td>\n",
       "      <td>27.000000</td>\n",
       "      <td>28.000000</td>\n",
       "      <td>13.000000</td>\n",
       "      <td>20.000000</td>\n",
       "      <td>1.000000</td>\n",
       "      <td>3.0</td>\n",
       "      <td>11.0</td>\n",
       "      <td>1.000000</td>\n",
       "    </tr>\n",
       "  </tbody>\n",
       "</table>\n",
       "</div>"
      ],
      "text/plain": [
       "        Year_Birth      Kidhome     Teenhome      Recency     MntWines  \\\n",
       "count  2240.000000  2240.000000  2240.000000  2240.000000  2240.000000   \n",
       "mean   1974.805804     0.444196     0.506250    49.109375   303.935714   \n",
       "std      11.984069     0.538398     0.544538    28.962453   336.597393   \n",
       "min    1899.000000     0.000000     0.000000     0.000000     0.000000   \n",
       "25%    1965.000000     0.000000     0.000000    24.000000    23.750000   \n",
       "50%    1976.000000     0.000000     0.000000    49.000000   173.500000   \n",
       "75%    1983.000000     1.000000     1.000000    74.000000   504.250000   \n",
       "max    2002.000000     2.000000     2.000000    99.000000  1493.000000   \n",
       "\n",
       "         MntFruits  MntMeatProducts  MntFishProducts  MntSweetProducts  \\\n",
       "count  2240.000000      2240.000000      2240.000000       2240.000000   \n",
       "mean     26.302232       166.950000        37.525446         27.062946   \n",
       "std      39.773434       225.715373        54.628979         41.280498   \n",
       "min       0.000000         0.000000         0.000000          0.000000   \n",
       "25%       1.000000        16.000000         3.000000          1.000000   \n",
       "50%       8.000000        67.000000        12.000000          8.000000   \n",
       "75%      33.000000       232.000000        50.000000         33.000000   \n",
       "max     199.000000      1725.000000       259.000000        263.000000   \n",
       "\n",
       "       MntGoldProds  NumDealsPurchases  NumWebPurchases  NumCatalogPurchases  \\\n",
       "count   2240.000000        2240.000000      2240.000000          2240.000000   \n",
       "mean      44.021875           2.325000         4.084821             2.662054   \n",
       "std       52.167439           1.932238         2.778714             2.923101   \n",
       "min        0.000000           0.000000         0.000000             0.000000   \n",
       "25%        9.000000           1.000000         2.000000             0.000000   \n",
       "50%       24.000000           2.000000         4.000000             2.000000   \n",
       "75%       56.000000           3.000000         6.000000             4.000000   \n",
       "max      362.000000          15.000000        27.000000            28.000000   \n",
       "\n",
       "       NumStorePurchases  NumWebVisitsMonth     Complain  Z_CostContact  \\\n",
       "count        2240.000000        2240.000000  2240.000000         2240.0   \n",
       "mean            5.790179           5.316518     0.009375            3.0   \n",
       "std             3.250958           2.426645     0.096391            0.0   \n",
       "min             0.000000           0.000000     0.000000            3.0   \n",
       "25%             3.000000           3.000000     0.000000            3.0   \n",
       "50%             5.000000           6.000000     0.000000            3.0   \n",
       "75%             8.000000           7.000000     0.000000            3.0   \n",
       "max            13.000000          20.000000     1.000000            3.0   \n",
       "\n",
       "       Z_Revenue  AcceptedCmp  \n",
       "count     2240.0  2240.000000  \n",
       "mean        11.0     0.149107  \n",
       "std          0.0     0.356274  \n",
       "min         11.0     0.000000  \n",
       "25%         11.0     0.000000  \n",
       "50%         11.0     0.000000  \n",
       "75%         11.0     0.000000  \n",
       "max         11.0     1.000000  "
      ]
     },
     "execution_count": 6,
     "metadata": {},
     "output_type": "execute_result"
    }
   ],
   "source": [
    "df.describe()"
   ]
  },
  {
   "cell_type": "code",
   "execution_count": 7,
   "metadata": {},
   "outputs": [
    {
     "data": {
      "text/html": [
       "<div>\n",
       "<style scoped>\n",
       "    .dataframe tbody tr th:only-of-type {\n",
       "        vertical-align: middle;\n",
       "    }\n",
       "\n",
       "    .dataframe tbody tr th {\n",
       "        vertical-align: top;\n",
       "    }\n",
       "\n",
       "    .dataframe thead th {\n",
       "        text-align: right;\n",
       "    }\n",
       "</style>\n",
       "<table border=\"1\" class=\"dataframe\">\n",
       "  <thead>\n",
       "    <tr style=\"text-align: right;\">\n",
       "      <th></th>\n",
       "      <th>Education</th>\n",
       "      <th>Marital_Status</th>\n",
       "      <th>Dt_Customer</th>\n",
       "    </tr>\n",
       "  </thead>\n",
       "  <tbody>\n",
       "    <tr>\n",
       "      <th>count</th>\n",
       "      <td>2240</td>\n",
       "      <td>2240</td>\n",
       "      <td>2240</td>\n",
       "    </tr>\n",
       "    <tr>\n",
       "      <th>unique</th>\n",
       "      <td>5</td>\n",
       "      <td>8</td>\n",
       "      <td>663</td>\n",
       "    </tr>\n",
       "    <tr>\n",
       "      <th>top</th>\n",
       "      <td>Graduation</td>\n",
       "      <td>Married</td>\n",
       "      <td>2018-08-31</td>\n",
       "    </tr>\n",
       "    <tr>\n",
       "      <th>freq</th>\n",
       "      <td>1127</td>\n",
       "      <td>864</td>\n",
       "      <td>12</td>\n",
       "    </tr>\n",
       "  </tbody>\n",
       "</table>\n",
       "</div>"
      ],
      "text/plain": [
       "         Education Marital_Status Dt_Customer\n",
       "count         2240           2240        2240\n",
       "unique           5              8         663\n",
       "top     Graduation        Married  2018-08-31\n",
       "freq          1127            864          12"
      ]
     },
     "execution_count": 7,
     "metadata": {},
     "output_type": "execute_result"
    }
   ],
   "source": [
    "df.describe(include=object)"
   ]
  },
  {
   "cell_type": "code",
   "execution_count": 8,
   "metadata": {
    "scrolled": true
   },
   "outputs": [
    {
     "data": {
      "text/plain": [
       "Graduation    1127\n",
       "PhD            486\n",
       "Master         370\n",
       "2n Cycle       203\n",
       "Basic           54\n",
       "Name: Education, dtype: int64"
      ]
     },
     "execution_count": 8,
     "metadata": {},
     "output_type": "execute_result"
    }
   ],
   "source": [
    "df.Education.value_counts()"
   ]
  },
  {
   "cell_type": "code",
   "execution_count": 9,
   "metadata": {},
   "outputs": [
    {
     "data": {
      "text/plain": [
       "Married     864\n",
       "Together    580\n",
       "Single      480\n",
       "Divorced    232\n",
       "Widow        77\n",
       "Alone         3\n",
       "YOLO          2\n",
       "Absurd        2\n",
       "Name: Marital_Status, dtype: int64"
      ]
     },
     "execution_count": 9,
     "metadata": {},
     "output_type": "execute_result"
    }
   ],
   "source": [
    "df.Marital_Status.value_counts()"
   ]
  },
  {
   "cell_type": "markdown",
   "metadata": {},
   "source": [
    "### Q1.1\n",
    "\n",
    "#### How many columns in the dataset?"
   ]
  },
  {
   "cell_type": "code",
   "execution_count": 10,
   "metadata": {},
   "outputs": [
    {
     "data": {
      "text/plain": [
       "22"
      ]
     },
     "execution_count": 10,
     "metadata": {},
     "output_type": "execute_result"
    }
   ],
   "source": [
    "len(df.columns)"
   ]
  },
  {
   "cell_type": "markdown",
   "metadata": {},
   "source": [
    "### Q1.2\n",
    "\n",
    "#### How many unique marital statuses are there?"
   ]
  },
  {
   "cell_type": "code",
   "execution_count": 11,
   "metadata": {},
   "outputs": [
    {
     "data": {
      "text/plain": [
       "8"
      ]
     },
     "execution_count": 11,
     "metadata": {},
     "output_type": "execute_result"
    }
   ],
   "source": [
    "df.Marital_Status.nunique()"
   ]
  },
  {
   "cell_type": "markdown",
   "metadata": {
    "tags": []
   },
   "source": [
    "### Q1.3\n",
    "#### What is the average age, if we assume now it is 2021? E.g. if we would have two people born in 2001 and 1999, the average age would be 21. Please answer with an integer."
   ]
  },
  {
   "cell_type": "code",
   "execution_count": 12,
   "metadata": {},
   "outputs": [
    {
     "data": {
      "text/plain": [
       "46.19419642857133"
      ]
     },
     "execution_count": 12,
     "metadata": {},
     "output_type": "execute_result"
    }
   ],
   "source": [
    "2021 - df.Year_Birth.mean()"
   ]
  },
  {
   "cell_type": "markdown",
   "metadata": {},
   "source": [
    "### Q1.4\n",
    "#### There are some columns related to spendings by category, they are starting with 'Mnt': MntWines, MntFruits, etc. In which category people spent the most on average?"
   ]
  },
  {
   "cell_type": "code",
   "execution_count": 13,
   "metadata": {},
   "outputs": [
    {
     "data": {
      "text/plain": [
       "MntWines            303.935714\n",
       "MntFruits            26.302232\n",
       "MntMeatProducts     166.950000\n",
       "MntFishProducts      37.525446\n",
       "MntSweetProducts     27.062946\n",
       "MntGoldProds         44.021875\n",
       "dtype: float64"
      ]
     },
     "execution_count": 13,
     "metadata": {},
     "output_type": "execute_result"
    }
   ],
   "source": [
    "df.loc[:, df.columns.str.startswith('Mnt')].mean()"
   ]
  },
  {
   "cell_type": "markdown",
   "metadata": {},
   "source": [
    "### Q1.5\n",
    "\n",
    "There are columns describing how customers make their orders, these columns start with num, e.g. 'NumDealsPurchases',\n",
    " or 'NumWebPurchases'. Build a histogram for the number of web visits (NumWebVisitsMonth). What is the 'most popular' number of visits, i.e. what number of visits encounters most often in the column?"
   ]
  },
  {
   "cell_type": "code",
   "execution_count": 14,
   "metadata": {},
   "outputs": [
    {
     "data": {
      "image/png": "[encoded data removed]",
      "text/plain": [
       "<Figure size 460.8x403.2 with 1 Axes>"
      ]
     },
     "metadata": {},
     "output_type": "display_data"
    }
   ],
   "source": [
    "bins = sorted(df.NumWebVisitsMonth.unique())\n",
    "plt.hist(df.NumWebVisitsMonth, bins=bins)\n",
    "plt.gca().set_xticks(bins)\n",
    "plt.gca().set_xticklabels(bins);"
   ]
  },
  {
   "cell_type": "code",
   "execution_count": 15,
   "metadata": {},
   "outputs": [
    {
     "data": {
      "text/plain": [
       "0    7\n",
       "dtype: int64"
      ]
     },
     "execution_count": 15,
     "metadata": {},
     "output_type": "execute_result"
    }
   ],
   "source": [
    "df.NumWebVisitsMonth.mode()"
   ]
  },
  {
   "cell_type": "markdown",
   "metadata": {},
   "source": [
    "### Q1.6 \n",
    "\n",
    "Let's try to analyze different features together. Build a [pairplot](https://seaborn.pydata.org/generated/seaborn.pairplot.html) for all the 'Num..' columns with 'AcceptedCmp' as a 'hue' argument. The hue argument adds a color marker to the plots and it will allow us to analyze how customers with different behavior patterns react to the marketing proposals. Note, to use the column as hue, it should be passed with the rest of the columns; also you can pass `kind='scatter', plot_kws=dict(alpha=0.2)` arguments to make the dots semi-transparent.\n",
    "\n",
    "Which of the statements are true, if judged from the plot?\n",
    "- (a) The people, who don't visit web site don't buy with a discount\n",
    "- (b) All the people who often visit the website buy a lot online\n",
    "- (c) People, who buy with a discount, much more often accept marketing campaign\n",
    "- (d) There is not any clear dependency between web visits and the number of catalog purchases"
   ]
  },
  {
   "cell_type": "code",
   "execution_count": 16,
   "metadata": {},
   "outputs": [
    {
     "data": {
      "image/png": "[encoded data removed]",
      "text/plain": [
       "<Figure size 985.455x900 with 30 Axes>"
      ]
     },
     "metadata": {},
     "output_type": "display_data"
    }
   ],
   "source": [
    "numCols = list(df.columns[df.columns.str.startswith('Num')])\n",
    "sns.pairplot(\n",
    "    df,\n",
    "    hue='AcceptedCmp',\n",
    "    vars=numCols,\n",
    "    kind='scatter',\n",
    "#     plot_kws={'alpha': .2},\n",
    ");"
   ]
  },
  {
   "cell_type": "code",
   "execution_count": 17,
   "metadata": {},
   "outputs": [
    {
     "data": {
      "text/plain": [
       "(5.316517857142857, 4.084821428571429)"
      ]
     },
     "execution_count": 17,
     "metadata": {},
     "output_type": "execute_result"
    }
   ],
   "source": [
    "df.NumWebVisitsMonth.mean(), df.NumWebPurchases.mean()"
   ]
  },
  {
   "cell_type": "code",
   "execution_count": 18,
   "metadata": {},
   "outputs": [
    {
     "data": {
      "text/plain": [
       "2.325"
      ]
     },
     "execution_count": 18,
     "metadata": {},
     "output_type": "execute_result"
    }
   ],
   "source": [
    "df.NumDealsPurchases.mean()"
   ]
  },
  {
   "cell_type": "code",
   "execution_count": null,
   "metadata": {},
   "outputs": [],
   "source": []
  },
  {
   "cell_type": "markdown",
   "metadata": {},
   "source": [
    "### Q1.7\n",
    "\n",
    "Build a [crosstab](https://pandas.pydata.org/docs/reference/api/pandas.crosstab.html) for teen at home ('Teenhome') and kids at home ('Kidhome'). How many customers have 2 kids and a single teenager?"
   ]
  },
  {
   "cell_type": "code",
   "execution_count": 19,
   "metadata": {},
   "outputs": [
    {
     "data": {
      "text/html": [
       "<div>\n",
       "<style scoped>\n",
       "    .dataframe tbody tr th:only-of-type {\n",
       "        vertical-align: middle;\n",
       "    }\n",
       "\n",
       "    .dataframe tbody tr th {\n",
       "        vertical-align: top;\n",
       "    }\n",
       "\n",
       "    .dataframe thead th {\n",
       "        text-align: right;\n",
       "    }\n",
       "</style>\n",
       "<table border=\"1\" class=\"dataframe\">\n",
       "  <thead>\n",
       "    <tr style=\"text-align: right;\">\n",
       "      <th>Kidhome</th>\n",
       "      <th>0</th>\n",
       "      <th>1</th>\n",
       "      <th>2</th>\n",
       "    </tr>\n",
       "    <tr>\n",
       "      <th>Teenhome</th>\n",
       "      <th></th>\n",
       "      <th></th>\n",
       "      <th></th>\n",
       "    </tr>\n",
       "  </thead>\n",
       "  <tbody>\n",
       "    <tr>\n",
       "      <th>0</th>\n",
       "      <td>638</td>\n",
       "      <td>503</td>\n",
       "      <td>17</td>\n",
       "    </tr>\n",
       "    <tr>\n",
       "      <th>1</th>\n",
       "      <td>625</td>\n",
       "      <td>374</td>\n",
       "      <td>31</td>\n",
       "    </tr>\n",
       "    <tr>\n",
       "      <th>2</th>\n",
       "      <td>30</td>\n",
       "      <td>22</td>\n",
       "      <td>0</td>\n",
       "    </tr>\n",
       "  </tbody>\n",
       "</table>\n",
       "</div>"
      ],
      "text/plain": [
       "Kidhome     0    1   2\n",
       "Teenhome              \n",
       "0         638  503  17\n",
       "1         625  374  31\n",
       "2          30   22   0"
      ]
     },
     "execution_count": 19,
     "metadata": {},
     "output_type": "execute_result"
    }
   ],
   "source": [
    "pd.crosstab(df.Teenhome, df.Kidhome)"
   ]
  },
  {
   "cell_type": "markdown",
   "metadata": {},
   "source": [
    "### Q1.8\n",
    "There is a 'Dt_Customer' column with a customer registration date. In which month there were a maximum number of registrations? Answer with the name, i.e. 'January'. Hint: you probably want to convert the column to datetime from string."
   ]
  },
  {
   "cell_type": "code",
   "execution_count": 20,
   "metadata": {},
   "outputs": [],
   "source": [
    "df.Dt_Customer = df.Dt_Customer.apply(pd.to_datetime)"
   ]
  },
  {
   "cell_type": "code",
   "execution_count": 21,
   "metadata": {},
   "outputs": [
    {
     "data": {
      "text/plain": [
       "Year_Birth                      int64\n",
       "Education                      object\n",
       "Marital_Status                 object\n",
       "Kidhome                         int64\n",
       "Teenhome                        int64\n",
       "Dt_Customer            datetime64[ns]\n",
       "Recency                         int64\n",
       "MntWines                        int64\n",
       "MntFruits                       int64\n",
       "MntMeatProducts                 int64\n",
       "MntFishProducts                 int64\n",
       "MntSweetProducts                int64\n",
       "MntGoldProds                    int64\n",
       "NumDealsPurchases               int64\n",
       "NumWebPurchases                 int64\n",
       "NumCatalogPurchases             int64\n",
       "NumStorePurchases               int64\n",
       "NumWebVisitsMonth               int64\n",
       "Complain                        int64\n",
       "Z_CostContact                   int64\n",
       "Z_Revenue                       int64\n",
       "AcceptedCmp                     int64\n",
       "dtype: object"
      ]
     },
     "execution_count": 21,
     "metadata": {},
     "output_type": "execute_result"
    }
   ],
   "source": [
    "df.dtypes"
   ]
  },
  {
   "cell_type": "code",
   "execution_count": 22,
   "metadata": {},
   "outputs": [
    {
     "data": {
      "text/plain": [
       "count       2240\n",
       "unique        12\n",
       "top       August\n",
       "freq         211\n",
       "Name: Dt_Customer, dtype: object"
      ]
     },
     "execution_count": 22,
     "metadata": {},
     "output_type": "execute_result"
    }
   ],
   "source": [
    "df.Dt_Customer.dt.month_name().describe()"
   ]
  },
  {
   "cell_type": "code",
   "execution_count": null,
   "metadata": {},
   "outputs": [],
   "source": []
  },
  {
   "cell_type": "code",
   "execution_count": null,
   "metadata": {},
   "outputs": [],
   "source": []
  },
  {
   "cell_type": "code",
   "execution_count": null,
   "metadata": {},
   "outputs": [],
   "source": []
  },
  {
   "cell_type": "markdown",
   "metadata": {},
   "source": [
    "## 2. Preprocessing\n",
    "The goal of the segment is to prepare data for further work"
   ]
  },
  {
   "cell_type": "code",
   "execution_count": null,
   "metadata": {},
   "outputs": [],
   "source": []
  },
  {
   "cell_type": "code",
   "execution_count": null,
   "metadata": {},
   "outputs": [],
   "source": []
  },
  {
   "cell_type": "markdown",
   "metadata": {},
   "source": [
    "### Q2.1\n",
    "There are two columns, that has the same value for all the people and they don't have a description in the sections above. Let's drop them. As an answer, write the names of these columns divided by a comma."
   ]
  },
  {
   "cell_type": "code",
   "execution_count": 23,
   "metadata": {},
   "outputs": [
    {
     "data": {
      "text/html": [
       "<div>\n",
       "<style scoped>\n",
       "    .dataframe tbody tr th:only-of-type {\n",
       "        vertical-align: middle;\n",
       "    }\n",
       "\n",
       "    .dataframe tbody tr th {\n",
       "        vertical-align: top;\n",
       "    }\n",
       "\n",
       "    .dataframe thead th {\n",
       "        text-align: right;\n",
       "    }\n",
       "</style>\n",
       "<table border=\"1\" class=\"dataframe\">\n",
       "  <thead>\n",
       "    <tr style=\"text-align: right;\">\n",
       "      <th></th>\n",
       "      <th>Year_Birth</th>\n",
       "      <th>Education</th>\n",
       "      <th>Marital_Status</th>\n",
       "      <th>Kidhome</th>\n",
       "      <th>Teenhome</th>\n",
       "      <th>Dt_Customer</th>\n",
       "      <th>Recency</th>\n",
       "      <th>MntWines</th>\n",
       "      <th>MntFruits</th>\n",
       "      <th>MntMeatProducts</th>\n",
       "      <th>MntFishProducts</th>\n",
       "      <th>MntSweetProducts</th>\n",
       "      <th>MntGoldProds</th>\n",
       "      <th>NumDealsPurchases</th>\n",
       "      <th>NumWebPurchases</th>\n",
       "      <th>NumCatalogPurchases</th>\n",
       "      <th>NumStorePurchases</th>\n",
       "      <th>NumWebVisitsMonth</th>\n",
       "      <th>Complain</th>\n",
       "      <th>Z_CostContact</th>\n",
       "      <th>Z_Revenue</th>\n",
       "      <th>AcceptedCmp</th>\n",
       "    </tr>\n",
       "    <tr>\n",
       "      <th>ID</th>\n",
       "      <th></th>\n",
       "      <th></th>\n",
       "      <th></th>\n",
       "      <th></th>\n",
       "      <th></th>\n",
       "      <th></th>\n",
       "      <th></th>\n",
       "      <th></th>\n",
       "      <th></th>\n",
       "      <th></th>\n",
       "      <th></th>\n",
       "      <th></th>\n",
       "      <th></th>\n",
       "      <th></th>\n",
       "      <th></th>\n",
       "      <th></th>\n",
       "      <th></th>\n",
       "      <th></th>\n",
       "      <th></th>\n",
       "      <th></th>\n",
       "      <th></th>\n",
       "      <th></th>\n",
       "    </tr>\n",
       "  </thead>\n",
       "  <tbody>\n",
       "    <tr>\n",
       "      <th>5524</th>\n",
       "      <td>1963</td>\n",
       "      <td>Graduation</td>\n",
       "      <td>Single</td>\n",
       "      <td>0</td>\n",
       "      <td>0</td>\n",
       "      <td>2018-04-09</td>\n",
       "      <td>58</td>\n",
       "      <td>635</td>\n",
       "      <td>88</td>\n",
       "      <td>546</td>\n",
       "      <td>172</td>\n",
       "      <td>88</td>\n",
       "      <td>88</td>\n",
       "      <td>3</td>\n",
       "      <td>8</td>\n",
       "      <td>10</td>\n",
       "      <td>4</td>\n",
       "      <td>7</td>\n",
       "      <td>0</td>\n",
       "      <td>3</td>\n",
       "      <td>11</td>\n",
       "      <td>1</td>\n",
       "    </tr>\n",
       "    <tr>\n",
       "      <th>2174</th>\n",
       "      <td>1960</td>\n",
       "      <td>Graduation</td>\n",
       "      <td>Single</td>\n",
       "      <td>1</td>\n",
       "      <td>1</td>\n",
       "      <td>2020-08-03</td>\n",
       "      <td>38</td>\n",
       "      <td>11</td>\n",
       "      <td>1</td>\n",
       "      <td>6</td>\n",
       "      <td>2</td>\n",
       "      <td>1</td>\n",
       "      <td>6</td>\n",
       "      <td>2</td>\n",
       "      <td>1</td>\n",
       "      <td>1</td>\n",
       "      <td>2</td>\n",
       "      <td>5</td>\n",
       "      <td>0</td>\n",
       "      <td>3</td>\n",
       "      <td>11</td>\n",
       "      <td>0</td>\n",
       "    </tr>\n",
       "    <tr>\n",
       "      <th>4141</th>\n",
       "      <td>1971</td>\n",
       "      <td>Graduation</td>\n",
       "      <td>Together</td>\n",
       "      <td>0</td>\n",
       "      <td>0</td>\n",
       "      <td>2019-08-21</td>\n",
       "      <td>26</td>\n",
       "      <td>426</td>\n",
       "      <td>49</td>\n",
       "      <td>127</td>\n",
       "      <td>111</td>\n",
       "      <td>21</td>\n",
       "      <td>42</td>\n",
       "      <td>1</td>\n",
       "      <td>8</td>\n",
       "      <td>2</td>\n",
       "      <td>10</td>\n",
       "      <td>4</td>\n",
       "      <td>0</td>\n",
       "      <td>3</td>\n",
       "      <td>11</td>\n",
       "      <td>0</td>\n",
       "    </tr>\n",
       "    <tr>\n",
       "      <th>6182</th>\n",
       "      <td>1990</td>\n",
       "      <td>Graduation</td>\n",
       "      <td>Together</td>\n",
       "      <td>1</td>\n",
       "      <td>0</td>\n",
       "      <td>2020-10-02</td>\n",
       "      <td>26</td>\n",
       "      <td>11</td>\n",
       "      <td>4</td>\n",
       "      <td>20</td>\n",
       "      <td>10</td>\n",
       "      <td>3</td>\n",
       "      <td>5</td>\n",
       "      <td>2</td>\n",
       "      <td>2</td>\n",
       "      <td>0</td>\n",
       "      <td>4</td>\n",
       "      <td>6</td>\n",
       "      <td>0</td>\n",
       "      <td>3</td>\n",
       "      <td>11</td>\n",
       "      <td>0</td>\n",
       "    </tr>\n",
       "    <tr>\n",
       "      <th>5324</th>\n",
       "      <td>1987</td>\n",
       "      <td>PhD</td>\n",
       "      <td>Married</td>\n",
       "      <td>1</td>\n",
       "      <td>0</td>\n",
       "      <td>2020-01-19</td>\n",
       "      <td>94</td>\n",
       "      <td>173</td>\n",
       "      <td>43</td>\n",
       "      <td>118</td>\n",
       "      <td>46</td>\n",
       "      <td>27</td>\n",
       "      <td>15</td>\n",
       "      <td>5</td>\n",
       "      <td>5</td>\n",
       "      <td>3</td>\n",
       "      <td>6</td>\n",
       "      <td>5</td>\n",
       "      <td>0</td>\n",
       "      <td>3</td>\n",
       "      <td>11</td>\n",
       "      <td>0</td>\n",
       "    </tr>\n",
       "  </tbody>\n",
       "</table>\n",
       "</div>"
      ],
      "text/plain": [
       "      Year_Birth   Education Marital_Status  Kidhome  Teenhome Dt_Customer  \\\n",
       "ID                                                                           \n",
       "5524        1963  Graduation         Single        0         0  2018-04-09   \n",
       "2174        1960  Graduation         Single        1         1  2020-08-03   \n",
       "4141        1971  Graduation       Together        0         0  2019-08-21   \n",
       "6182        1990  Graduation       Together        1         0  2020-10-02   \n",
       "5324        1987         PhD        Married        1         0  2020-01-19   \n",
       "\n",
       "      Recency  MntWines  MntFruits  MntMeatProducts  MntFishProducts  \\\n",
       "ID                                                                     \n",
       "5524       58       635         88              546              172   \n",
       "2174       38        11          1                6                2   \n",
       "4141       26       426         49              127              111   \n",
       "6182       26        11          4               20               10   \n",
       "5324       94       173         43              118               46   \n",
       "\n",
       "      MntSweetProducts  MntGoldProds  NumDealsPurchases  NumWebPurchases  \\\n",
       "ID                                                                         \n",
       "5524                88            88                  3                8   \n",
       "2174                 1             6                  2                1   \n",
       "4141                21            42                  1                8   \n",
       "6182                 3             5                  2                2   \n",
       "5324                27            15                  5                5   \n",
       "\n",
       "      NumCatalogPurchases  NumStorePurchases  NumWebVisitsMonth  Complain  \\\n",
       "ID                                                                          \n",
       "5524                   10                  4                  7         0   \n",
       "2174                    1                  2                  5         0   \n",
       "4141                    2                 10                  4         0   \n",
       "6182                    0                  4                  6         0   \n",
       "5324                    3                  6                  5         0   \n",
       "\n",
       "      Z_CostContact  Z_Revenue  AcceptedCmp  \n",
       "ID                                           \n",
       "5524              3         11            1  \n",
       "2174              3         11            0  \n",
       "4141              3         11            0  \n",
       "6182              3         11            0  \n",
       "5324              3         11            0  "
      ]
     },
     "execution_count": 23,
     "metadata": {},
     "output_type": "execute_result"
    }
   ],
   "source": [
    "df.head()"
   ]
  },
  {
   "cell_type": "code",
   "execution_count": 24,
   "metadata": {},
   "outputs": [],
   "source": [
    "df.drop(labels=['Z_CostContact', 'Z_Revenue'], axis=1, inplace=True)"
   ]
  },
  {
   "cell_type": "code",
   "execution_count": 25,
   "metadata": {},
   "outputs": [
    {
     "data": {
      "text/html": [
       "<div>\n",
       "<style scoped>\n",
       "    .dataframe tbody tr th:only-of-type {\n",
       "        vertical-align: middle;\n",
       "    }\n",
       "\n",
       "    .dataframe tbody tr th {\n",
       "        vertical-align: top;\n",
       "    }\n",
       "\n",
       "    .dataframe thead th {\n",
       "        text-align: right;\n",
       "    }\n",
       "</style>\n",
       "<table border=\"1\" class=\"dataframe\">\n",
       "  <thead>\n",
       "    <tr style=\"text-align: right;\">\n",
       "      <th></th>\n",
       "      <th>Year_Birth</th>\n",
       "      <th>Education</th>\n",
       "      <th>Marital_Status</th>\n",
       "      <th>Kidhome</th>\n",
       "      <th>Teenhome</th>\n",
       "      <th>Dt_Customer</th>\n",
       "      <th>Recency</th>\n",
       "      <th>MntWines</th>\n",
       "      <th>MntFruits</th>\n",
       "      <th>MntMeatProducts</th>\n",
       "      <th>MntFishProducts</th>\n",
       "      <th>MntSweetProducts</th>\n",
       "      <th>MntGoldProds</th>\n",
       "      <th>NumDealsPurchases</th>\n",
       "      <th>NumWebPurchases</th>\n",
       "      <th>NumCatalogPurchases</th>\n",
       "      <th>NumStorePurchases</th>\n",
       "      <th>NumWebVisitsMonth</th>\n",
       "      <th>Complain</th>\n",
       "      <th>AcceptedCmp</th>\n",
       "    </tr>\n",
       "    <tr>\n",
       "      <th>ID</th>\n",
       "      <th></th>\n",
       "      <th></th>\n",
       "      <th></th>\n",
       "      <th></th>\n",
       "      <th></th>\n",
       "      <th></th>\n",
       "      <th></th>\n",
       "      <th></th>\n",
       "      <th></th>\n",
       "      <th></th>\n",
       "      <th></th>\n",
       "      <th></th>\n",
       "      <th></th>\n",
       "      <th></th>\n",
       "      <th></th>\n",
       "      <th></th>\n",
       "      <th></th>\n",
       "      <th></th>\n",
       "      <th></th>\n",
       "      <th></th>\n",
       "    </tr>\n",
       "  </thead>\n",
       "  <tbody>\n",
       "    <tr>\n",
       "      <th>5524</th>\n",
       "      <td>1963</td>\n",
       "      <td>Graduation</td>\n",
       "      <td>Single</td>\n",
       "      <td>0</td>\n",
       "      <td>0</td>\n",
       "      <td>2018-04-09</td>\n",
       "      <td>58</td>\n",
       "      <td>635</td>\n",
       "      <td>88</td>\n",
       "      <td>546</td>\n",
       "      <td>172</td>\n",
       "      <td>88</td>\n",
       "      <td>88</td>\n",
       "      <td>3</td>\n",
       "      <td>8</td>\n",
       "      <td>10</td>\n",
       "      <td>4</td>\n",
       "      <td>7</td>\n",
       "      <td>0</td>\n",
       "      <td>1</td>\n",
       "    </tr>\n",
       "    <tr>\n",
       "      <th>2174</th>\n",
       "      <td>1960</td>\n",
       "      <td>Graduation</td>\n",
       "      <td>Single</td>\n",
       "      <td>1</td>\n",
       "      <td>1</td>\n",
       "      <td>2020-08-03</td>\n",
       "      <td>38</td>\n",
       "      <td>11</td>\n",
       "      <td>1</td>\n",
       "      <td>6</td>\n",
       "      <td>2</td>\n",
       "      <td>1</td>\n",
       "      <td>6</td>\n",
       "      <td>2</td>\n",
       "      <td>1</td>\n",
       "      <td>1</td>\n",
       "      <td>2</td>\n",
       "      <td>5</td>\n",
       "      <td>0</td>\n",
       "      <td>0</td>\n",
       "    </tr>\n",
       "    <tr>\n",
       "      <th>4141</th>\n",
       "      <td>1971</td>\n",
       "      <td>Graduation</td>\n",
       "      <td>Together</td>\n",
       "      <td>0</td>\n",
       "      <td>0</td>\n",
       "      <td>2019-08-21</td>\n",
       "      <td>26</td>\n",
       "      <td>426</td>\n",
       "      <td>49</td>\n",
       "      <td>127</td>\n",
       "      <td>111</td>\n",
       "      <td>21</td>\n",
       "      <td>42</td>\n",
       "      <td>1</td>\n",
       "      <td>8</td>\n",
       "      <td>2</td>\n",
       "      <td>10</td>\n",
       "      <td>4</td>\n",
       "      <td>0</td>\n",
       "      <td>0</td>\n",
       "    </tr>\n",
       "    <tr>\n",
       "      <th>6182</th>\n",
       "      <td>1990</td>\n",
       "      <td>Graduation</td>\n",
       "      <td>Together</td>\n",
       "      <td>1</td>\n",
       "      <td>0</td>\n",
       "      <td>2020-10-02</td>\n",
       "      <td>26</td>\n",
       "      <td>11</td>\n",
       "      <td>4</td>\n",
       "      <td>20</td>\n",
       "      <td>10</td>\n",
       "      <td>3</td>\n",
       "      <td>5</td>\n",
       "      <td>2</td>\n",
       "      <td>2</td>\n",
       "      <td>0</td>\n",
       "      <td>4</td>\n",
       "      <td>6</td>\n",
       "      <td>0</td>\n",
       "      <td>0</td>\n",
       "    </tr>\n",
       "    <tr>\n",
       "      <th>5324</th>\n",
       "      <td>1987</td>\n",
       "      <td>PhD</td>\n",
       "      <td>Married</td>\n",
       "      <td>1</td>\n",
       "      <td>0</td>\n",
       "      <td>2020-01-19</td>\n",
       "      <td>94</td>\n",
       "      <td>173</td>\n",
       "      <td>43</td>\n",
       "      <td>118</td>\n",
       "      <td>46</td>\n",
       "      <td>27</td>\n",
       "      <td>15</td>\n",
       "      <td>5</td>\n",
       "      <td>5</td>\n",
       "      <td>3</td>\n",
       "      <td>6</td>\n",
       "      <td>5</td>\n",
       "      <td>0</td>\n",
       "      <td>0</td>\n",
       "    </tr>\n",
       "  </tbody>\n",
       "</table>\n",
       "</div>"
      ],
      "text/plain": [
       "      Year_Birth   Education Marital_Status  Kidhome  Teenhome Dt_Customer  \\\n",
       "ID                                                                           \n",
       "5524        1963  Graduation         Single        0         0  2018-04-09   \n",
       "2174        1960  Graduation         Single        1         1  2020-08-03   \n",
       "4141        1971  Graduation       Together        0         0  2019-08-21   \n",
       "6182        1990  Graduation       Together        1         0  2020-10-02   \n",
       "5324        1987         PhD        Married        1         0  2020-01-19   \n",
       "\n",
       "      Recency  MntWines  MntFruits  MntMeatProducts  MntFishProducts  \\\n",
       "ID                                                                     \n",
       "5524       58       635         88              546              172   \n",
       "2174       38        11          1                6                2   \n",
       "4141       26       426         49              127              111   \n",
       "6182       26        11          4               20               10   \n",
       "5324       94       173         43              118               46   \n",
       "\n",
       "      MntSweetProducts  MntGoldProds  NumDealsPurchases  NumWebPurchases  \\\n",
       "ID                                                                         \n",
       "5524                88            88                  3                8   \n",
       "2174                 1             6                  2                1   \n",
       "4141                21            42                  1                8   \n",
       "6182                 3             5                  2                2   \n",
       "5324                27            15                  5                5   \n",
       "\n",
       "      NumCatalogPurchases  NumStorePurchases  NumWebVisitsMonth  Complain  \\\n",
       "ID                                                                          \n",
       "5524                   10                  4                  7         0   \n",
       "2174                    1                  2                  5         0   \n",
       "4141                    2                 10                  4         0   \n",
       "6182                    0                  4                  6         0   \n",
       "5324                    3                  6                  5         0   \n",
       "\n",
       "      AcceptedCmp  \n",
       "ID                 \n",
       "5524            1  \n",
       "2174            0  \n",
       "4141            0  \n",
       "6182            0  \n",
       "5324            0  "
      ]
     },
     "execution_count": 25,
     "metadata": {},
     "output_type": "execute_result"
    }
   ],
   "source": [
    "df.head()"
   ]
  },
  {
   "cell_type": "markdown",
   "metadata": {},
   "source": [
    "### Q2.2\n",
    "As we could see before, there are some strange rare marital statuses. We going to leave only three options - 'Married', 'Together' and 'Single'. All other options should be changed to 'Single'. How many people are now in this category?"
   ]
  },
  {
   "cell_type": "code",
   "execution_count": 26,
   "metadata": {},
   "outputs": [
    {
     "data": {
      "text/plain": [
       "Married     864\n",
       "Together    580\n",
       "Single      480\n",
       "Divorced    232\n",
       "Widow        77\n",
       "Alone         3\n",
       "YOLO          2\n",
       "Absurd        2\n",
       "Name: Marital_Status, dtype: int64"
      ]
     },
     "execution_count": 26,
     "metadata": {},
     "output_type": "execute_result"
    }
   ],
   "source": [
    "df.Marital_Status.value_counts()"
   ]
  },
  {
   "cell_type": "code",
   "execution_count": 27,
   "metadata": {},
   "outputs": [],
   "source": [
    "optionsToLeave = df.Marital_Status.isin({'Married', 'Together', 'Single'})\n",
    "df.loc[~optionsToLeave, 'Marital_Status'] = 'Single'"
   ]
  },
  {
   "cell_type": "code",
   "execution_count": 28,
   "metadata": {},
   "outputs": [
    {
     "data": {
      "text/plain": [
       "Married     864\n",
       "Single      796\n",
       "Together    580\n",
       "Name: Marital_Status, dtype: int64"
      ]
     },
     "execution_count": 28,
     "metadata": {},
     "output_type": "execute_result"
    }
   ],
   "source": [
    "df.Marital_Status.value_counts()"
   ]
  },
  {
   "cell_type": "markdown",
   "metadata": {},
   "source": [
    "### Q2.3\n",
    "\n",
    "Now it's time to talk about the task for today. Our big retail company \"Y6\" want to launch a marketing campaign, but we want to make the marketing proposal only to people, who would accept it with the high probability. So we need to build a model that would predict it.\n",
    "\n",
    "Let's divide the dataset into a target (the 'AcceptedCmp' column) and data (the rest of the columns). How many positive labels are there in target?\n"
   ]
  },
  {
   "cell_type": "code",
   "execution_count": 29,
   "metadata": {},
   "outputs": [
    {
     "data": {
      "text/html": [
       "<div>\n",
       "<style scoped>\n",
       "    .dataframe tbody tr th:only-of-type {\n",
       "        vertical-align: middle;\n",
       "    }\n",
       "\n",
       "    .dataframe tbody tr th {\n",
       "        vertical-align: top;\n",
       "    }\n",
       "\n",
       "    .dataframe thead th {\n",
       "        text-align: right;\n",
       "    }\n",
       "</style>\n",
       "<table border=\"1\" class=\"dataframe\">\n",
       "  <thead>\n",
       "    <tr style=\"text-align: right;\">\n",
       "      <th></th>\n",
       "      <th>Year_Birth</th>\n",
       "      <th>Education</th>\n",
       "      <th>Marital_Status</th>\n",
       "      <th>Kidhome</th>\n",
       "      <th>Teenhome</th>\n",
       "      <th>Dt_Customer</th>\n",
       "      <th>Recency</th>\n",
       "      <th>MntWines</th>\n",
       "      <th>MntFruits</th>\n",
       "      <th>MntMeatProducts</th>\n",
       "      <th>MntFishProducts</th>\n",
       "      <th>MntSweetProducts</th>\n",
       "      <th>MntGoldProds</th>\n",
       "      <th>NumDealsPurchases</th>\n",
       "      <th>NumWebPurchases</th>\n",
       "      <th>NumCatalogPurchases</th>\n",
       "      <th>NumStorePurchases</th>\n",
       "      <th>NumWebVisitsMonth</th>\n",
       "      <th>Complain</th>\n",
       "      <th>AcceptedCmp</th>\n",
       "    </tr>\n",
       "    <tr>\n",
       "      <th>ID</th>\n",
       "      <th></th>\n",
       "      <th></th>\n",
       "      <th></th>\n",
       "      <th></th>\n",
       "      <th></th>\n",
       "      <th></th>\n",
       "      <th></th>\n",
       "      <th></th>\n",
       "      <th></th>\n",
       "      <th></th>\n",
       "      <th></th>\n",
       "      <th></th>\n",
       "      <th></th>\n",
       "      <th></th>\n",
       "      <th></th>\n",
       "      <th></th>\n",
       "      <th></th>\n",
       "      <th></th>\n",
       "      <th></th>\n",
       "      <th></th>\n",
       "    </tr>\n",
       "  </thead>\n",
       "  <tbody>\n",
       "    <tr>\n",
       "      <th>5524</th>\n",
       "      <td>1963</td>\n",
       "      <td>Graduation</td>\n",
       "      <td>Single</td>\n",
       "      <td>0</td>\n",
       "      <td>0</td>\n",
       "      <td>2018-04-09</td>\n",
       "      <td>58</td>\n",
       "      <td>635</td>\n",
       "      <td>88</td>\n",
       "      <td>546</td>\n",
       "      <td>172</td>\n",
       "      <td>88</td>\n",
       "      <td>88</td>\n",
       "      <td>3</td>\n",
       "      <td>8</td>\n",
       "      <td>10</td>\n",
       "      <td>4</td>\n",
       "      <td>7</td>\n",
       "      <td>0</td>\n",
       "      <td>1</td>\n",
       "    </tr>\n",
       "    <tr>\n",
       "      <th>2174</th>\n",
       "      <td>1960</td>\n",
       "      <td>Graduation</td>\n",
       "      <td>Single</td>\n",
       "      <td>1</td>\n",
       "      <td>1</td>\n",
       "      <td>2020-08-03</td>\n",
       "      <td>38</td>\n",
       "      <td>11</td>\n",
       "      <td>1</td>\n",
       "      <td>6</td>\n",
       "      <td>2</td>\n",
       "      <td>1</td>\n",
       "      <td>6</td>\n",
       "      <td>2</td>\n",
       "      <td>1</td>\n",
       "      <td>1</td>\n",
       "      <td>2</td>\n",
       "      <td>5</td>\n",
       "      <td>0</td>\n",
       "      <td>0</td>\n",
       "    </tr>\n",
       "    <tr>\n",
       "      <th>4141</th>\n",
       "      <td>1971</td>\n",
       "      <td>Graduation</td>\n",
       "      <td>Together</td>\n",
       "      <td>0</td>\n",
       "      <td>0</td>\n",
       "      <td>2019-08-21</td>\n",
       "      <td>26</td>\n",
       "      <td>426</td>\n",
       "      <td>49</td>\n",
       "      <td>127</td>\n",
       "      <td>111</td>\n",
       "      <td>21</td>\n",
       "      <td>42</td>\n",
       "      <td>1</td>\n",
       "      <td>8</td>\n",
       "      <td>2</td>\n",
       "      <td>10</td>\n",
       "      <td>4</td>\n",
       "      <td>0</td>\n",
       "      <td>0</td>\n",
       "    </tr>\n",
       "    <tr>\n",
       "      <th>6182</th>\n",
       "      <td>1990</td>\n",
       "      <td>Graduation</td>\n",
       "      <td>Together</td>\n",
       "      <td>1</td>\n",
       "      <td>0</td>\n",
       "      <td>2020-10-02</td>\n",
       "      <td>26</td>\n",
       "      <td>11</td>\n",
       "      <td>4</td>\n",
       "      <td>20</td>\n",
       "      <td>10</td>\n",
       "      <td>3</td>\n",
       "      <td>5</td>\n",
       "      <td>2</td>\n",
       "      <td>2</td>\n",
       "      <td>0</td>\n",
       "      <td>4</td>\n",
       "      <td>6</td>\n",
       "      <td>0</td>\n",
       "      <td>0</td>\n",
       "    </tr>\n",
       "    <tr>\n",
       "      <th>5324</th>\n",
       "      <td>1987</td>\n",
       "      <td>PhD</td>\n",
       "      <td>Married</td>\n",
       "      <td>1</td>\n",
       "      <td>0</td>\n",
       "      <td>2020-01-19</td>\n",
       "      <td>94</td>\n",
       "      <td>173</td>\n",
       "      <td>43</td>\n",
       "      <td>118</td>\n",
       "      <td>46</td>\n",
       "      <td>27</td>\n",
       "      <td>15</td>\n",
       "      <td>5</td>\n",
       "      <td>5</td>\n",
       "      <td>3</td>\n",
       "      <td>6</td>\n",
       "      <td>5</td>\n",
       "      <td>0</td>\n",
       "      <td>0</td>\n",
       "    </tr>\n",
       "  </tbody>\n",
       "</table>\n",
       "</div>"
      ],
      "text/plain": [
       "      Year_Birth   Education Marital_Status  Kidhome  Teenhome Dt_Customer  \\\n",
       "ID                                                                           \n",
       "5524        1963  Graduation         Single        0         0  2018-04-09   \n",
       "2174        1960  Graduation         Single        1         1  2020-08-03   \n",
       "4141        1971  Graduation       Together        0         0  2019-08-21   \n",
       "6182        1990  Graduation       Together        1         0  2020-10-02   \n",
       "5324        1987         PhD        Married        1         0  2020-01-19   \n",
       "\n",
       "      Recency  MntWines  MntFruits  MntMeatProducts  MntFishProducts  \\\n",
       "ID                                                                     \n",
       "5524       58       635         88              546              172   \n",
       "2174       38        11          1                6                2   \n",
       "4141       26       426         49              127              111   \n",
       "6182       26        11          4               20               10   \n",
       "5324       94       173         43              118               46   \n",
       "\n",
       "      MntSweetProducts  MntGoldProds  NumDealsPurchases  NumWebPurchases  \\\n",
       "ID                                                                         \n",
       "5524                88            88                  3                8   \n",
       "2174                 1             6                  2                1   \n",
       "4141                21            42                  1                8   \n",
       "6182                 3             5                  2                2   \n",
       "5324                27            15                  5                5   \n",
       "\n",
       "      NumCatalogPurchases  NumStorePurchases  NumWebVisitsMonth  Complain  \\\n",
       "ID                                                                          \n",
       "5524                   10                  4                  7         0   \n",
       "2174                    1                  2                  5         0   \n",
       "4141                    2                 10                  4         0   \n",
       "6182                    0                  4                  6         0   \n",
       "5324                    3                  6                  5         0   \n",
       "\n",
       "      AcceptedCmp  \n",
       "ID                 \n",
       "5524            1  \n",
       "2174            0  \n",
       "4141            0  \n",
       "6182            0  \n",
       "5324            0  "
      ]
     },
     "execution_count": 29,
     "metadata": {},
     "output_type": "execute_result"
    }
   ],
   "source": [
    "df.head()"
   ]
  },
  {
   "cell_type": "code",
   "execution_count": 30,
   "metadata": {},
   "outputs": [
    {
     "data": {
      "text/plain": [
       "0    1906\n",
       "1     334\n",
       "Name: AcceptedCmp, dtype: int64"
      ]
     },
     "execution_count": 30,
     "metadata": {},
     "output_type": "execute_result"
    }
   ],
   "source": [
    "target = df.AcceptedCmp\n",
    "target.value_counts()"
   ]
  },
  {
   "cell_type": "code",
   "execution_count": 31,
   "metadata": {},
   "outputs": [
    {
     "data": {
      "text/html": [
       "<div>\n",
       "<style scoped>\n",
       "    .dataframe tbody tr th:only-of-type {\n",
       "        vertical-align: middle;\n",
       "    }\n",
       "\n",
       "    .dataframe tbody tr th {\n",
       "        vertical-align: top;\n",
       "    }\n",
       "\n",
       "    .dataframe thead th {\n",
       "        text-align: right;\n",
       "    }\n",
       "</style>\n",
       "<table border=\"1\" class=\"dataframe\">\n",
       "  <thead>\n",
       "    <tr style=\"text-align: right;\">\n",
       "      <th></th>\n",
       "      <th>Year_Birth</th>\n",
       "      <th>Education</th>\n",
       "      <th>Marital_Status</th>\n",
       "      <th>Kidhome</th>\n",
       "      <th>Teenhome</th>\n",
       "      <th>Dt_Customer</th>\n",
       "      <th>Recency</th>\n",
       "      <th>MntWines</th>\n",
       "      <th>MntFruits</th>\n",
       "      <th>MntMeatProducts</th>\n",
       "      <th>MntFishProducts</th>\n",
       "      <th>MntSweetProducts</th>\n",
       "      <th>MntGoldProds</th>\n",
       "      <th>NumDealsPurchases</th>\n",
       "      <th>NumWebPurchases</th>\n",
       "      <th>NumCatalogPurchases</th>\n",
       "      <th>NumStorePurchases</th>\n",
       "      <th>NumWebVisitsMonth</th>\n",
       "      <th>Complain</th>\n",
       "    </tr>\n",
       "    <tr>\n",
       "      <th>ID</th>\n",
       "      <th></th>\n",
       "      <th></th>\n",
       "      <th></th>\n",
       "      <th></th>\n",
       "      <th></th>\n",
       "      <th></th>\n",
       "      <th></th>\n",
       "      <th></th>\n",
       "      <th></th>\n",
       "      <th></th>\n",
       "      <th></th>\n",
       "      <th></th>\n",
       "      <th></th>\n",
       "      <th></th>\n",
       "      <th></th>\n",
       "      <th></th>\n",
       "      <th></th>\n",
       "      <th></th>\n",
       "      <th></th>\n",
       "    </tr>\n",
       "  </thead>\n",
       "  <tbody>\n",
       "    <tr>\n",
       "      <th>5524</th>\n",
       "      <td>1963</td>\n",
       "      <td>Graduation</td>\n",
       "      <td>Single</td>\n",
       "      <td>0</td>\n",
       "      <td>0</td>\n",
       "      <td>2018-04-09</td>\n",
       "      <td>58</td>\n",
       "      <td>635</td>\n",
       "      <td>88</td>\n",
       "      <td>546</td>\n",
       "      <td>172</td>\n",
       "      <td>88</td>\n",
       "      <td>88</td>\n",
       "      <td>3</td>\n",
       "      <td>8</td>\n",
       "      <td>10</td>\n",
       "      <td>4</td>\n",
       "      <td>7</td>\n",
       "      <td>0</td>\n",
       "    </tr>\n",
       "    <tr>\n",
       "      <th>2174</th>\n",
       "      <td>1960</td>\n",
       "      <td>Graduation</td>\n",
       "      <td>Single</td>\n",
       "      <td>1</td>\n",
       "      <td>1</td>\n",
       "      <td>2020-08-03</td>\n",
       "      <td>38</td>\n",
       "      <td>11</td>\n",
       "      <td>1</td>\n",
       "      <td>6</td>\n",
       "      <td>2</td>\n",
       "      <td>1</td>\n",
       "      <td>6</td>\n",
       "      <td>2</td>\n",
       "      <td>1</td>\n",
       "      <td>1</td>\n",
       "      <td>2</td>\n",
       "      <td>5</td>\n",
       "      <td>0</td>\n",
       "    </tr>\n",
       "    <tr>\n",
       "      <th>4141</th>\n",
       "      <td>1971</td>\n",
       "      <td>Graduation</td>\n",
       "      <td>Together</td>\n",
       "      <td>0</td>\n",
       "      <td>0</td>\n",
       "      <td>2019-08-21</td>\n",
       "      <td>26</td>\n",
       "      <td>426</td>\n",
       "      <td>49</td>\n",
       "      <td>127</td>\n",
       "      <td>111</td>\n",
       "      <td>21</td>\n",
       "      <td>42</td>\n",
       "      <td>1</td>\n",
       "      <td>8</td>\n",
       "      <td>2</td>\n",
       "      <td>10</td>\n",
       "      <td>4</td>\n",
       "      <td>0</td>\n",
       "    </tr>\n",
       "    <tr>\n",
       "      <th>6182</th>\n",
       "      <td>1990</td>\n",
       "      <td>Graduation</td>\n",
       "      <td>Together</td>\n",
       "      <td>1</td>\n",
       "      <td>0</td>\n",
       "      <td>2020-10-02</td>\n",
       "      <td>26</td>\n",
       "      <td>11</td>\n",
       "      <td>4</td>\n",
       "      <td>20</td>\n",
       "      <td>10</td>\n",
       "      <td>3</td>\n",
       "      <td>5</td>\n",
       "      <td>2</td>\n",
       "      <td>2</td>\n",
       "      <td>0</td>\n",
       "      <td>4</td>\n",
       "      <td>6</td>\n",
       "      <td>0</td>\n",
       "    </tr>\n",
       "    <tr>\n",
       "      <th>5324</th>\n",
       "      <td>1987</td>\n",
       "      <td>PhD</td>\n",
       "      <td>Married</td>\n",
       "      <td>1</td>\n",
       "      <td>0</td>\n",
       "      <td>2020-01-19</td>\n",
       "      <td>94</td>\n",
       "      <td>173</td>\n",
       "      <td>43</td>\n",
       "      <td>118</td>\n",
       "      <td>46</td>\n",
       "      <td>27</td>\n",
       "      <td>15</td>\n",
       "      <td>5</td>\n",
       "      <td>5</td>\n",
       "      <td>3</td>\n",
       "      <td>6</td>\n",
       "      <td>5</td>\n",
       "      <td>0</td>\n",
       "    </tr>\n",
       "  </tbody>\n",
       "</table>\n",
       "</div>"
      ],
      "text/plain": [
       "      Year_Birth   Education Marital_Status  Kidhome  Teenhome Dt_Customer  \\\n",
       "ID                                                                           \n",
       "5524        1963  Graduation         Single        0         0  2018-04-09   \n",
       "2174        1960  Graduation         Single        1         1  2020-08-03   \n",
       "4141        1971  Graduation       Together        0         0  2019-08-21   \n",
       "6182        1990  Graduation       Together        1         0  2020-10-02   \n",
       "5324        1987         PhD        Married        1         0  2020-01-19   \n",
       "\n",
       "      Recency  MntWines  MntFruits  MntMeatProducts  MntFishProducts  \\\n",
       "ID                                                                     \n",
       "5524       58       635         88              546              172   \n",
       "2174       38        11          1                6                2   \n",
       "4141       26       426         49              127              111   \n",
       "6182       26        11          4               20               10   \n",
       "5324       94       173         43              118               46   \n",
       "\n",
       "      MntSweetProducts  MntGoldProds  NumDealsPurchases  NumWebPurchases  \\\n",
       "ID                                                                         \n",
       "5524                88            88                  3                8   \n",
       "2174                 1             6                  2                1   \n",
       "4141                21            42                  1                8   \n",
       "6182                 3             5                  2                2   \n",
       "5324                27            15                  5                5   \n",
       "\n",
       "      NumCatalogPurchases  NumStorePurchases  NumWebVisitsMonth  Complain  \n",
       "ID                                                                         \n",
       "5524                   10                  4                  7         0  \n",
       "2174                    1                  2                  5         0  \n",
       "4141                    2                 10                  4         0  \n",
       "6182                    0                  4                  6         0  \n",
       "5324                    3                  6                  5         0  "
      ]
     },
     "execution_count": 31,
     "metadata": {},
     "output_type": "execute_result"
    }
   ],
   "source": [
    "data = df.drop('AcceptedCmp', axis=1)\n",
    "data.head()"
   ]
  },
  {
   "cell_type": "code",
   "execution_count": null,
   "metadata": {},
   "outputs": [],
   "source": []
  },
  {
   "cell_type": "code",
   "execution_count": null,
   "metadata": {},
   "outputs": [],
   "source": []
  },
  {
   "cell_type": "markdown",
   "metadata": {},
   "source": [
    "### Q2.4\n",
    "\n",
    "To honestly estimate the performance of the model, we need to split the dataset into train and test parts. In reality, a test could be millions of customers and a train could be a small playground to estimate the campaign. Our current dataset is not that big, so let's say the test would be just 30% of the dataset. Use `train_test_split` to make a split. Please set the `random_state` argument to 42 and don't forget to shuffle and stratify.\n",
    "How many positive labels do you have in test targets?"
   ]
  },
  {
   "cell_type": "code",
   "execution_count": 32,
   "metadata": {},
   "outputs": [],
   "source": [
    "from sklearn.model_selection import train_test_split"
   ]
  },
  {
   "cell_type": "code",
   "execution_count": 33,
   "metadata": {},
   "outputs": [],
   "source": [
    "data_train, data_test, target_train, target_test = train_test_split(\n",
    "    data, target,\n",
    "    test_size=.3,\n",
    "    random_state=42,\n",
    "    shuffle=True,\n",
    "    stratify=target,\n",
    ")"
   ]
  },
  {
   "cell_type": "code",
   "execution_count": 34,
   "metadata": {},
   "outputs": [
    {
     "data": {
      "text/plain": [
       "((1568, 19), (672, 19), (1568,), (672,))"
      ]
     },
     "execution_count": 34,
     "metadata": {},
     "output_type": "execute_result"
    }
   ],
   "source": [
    "data_train.shape, data_test.shape, target_train.shape, target_test.shape"
   ]
  },
  {
   "cell_type": "code",
   "execution_count": 35,
   "metadata": {},
   "outputs": [
    {
     "data": {
      "text/plain": [
       "0    572\n",
       "1    100\n",
       "Name: AcceptedCmp, dtype: int64"
      ]
     },
     "execution_count": 35,
     "metadata": {},
     "output_type": "execute_result"
    }
   ],
   "source": [
    "target_test.value_counts()"
   ]
  },
  {
   "cell_type": "markdown",
   "metadata": {
    "tags": []
   },
   "source": [
    "## 3. Basic models\n",
    "\n",
    "Let's start with the most basic models. We going to use logistic regression, and classifier, and random forest without any modification or param tuning. This way we could be sure our future modification would indeed make the model stronger.\n",
    "\n",
    "Some of the features are not usable in the current form, e.g. `Dt_Customer` as a date or `Education` as categorical, so let's make a copy of x with the following columns for the section:\n",
    "\n",
    "'Year_Birth', 'Kidhome',\n",
    "'Teenhome',  'Recency', 'MntWines', 'MntFruits',\n",
    "'MntMeatProducts', 'MntFishProducts', 'MntSweetProducts',\n",
    "'MntGoldProds', 'NumDealsPurchases', 'NumWebPurchases',\n",
    "'NumCatalogPurchases', 'NumStorePurchases', 'NumWebVisitsMonth', 'Complain'"
   ]
  },
  {
   "cell_type": "code",
   "execution_count": 36,
   "metadata": {},
   "outputs": [],
   "source": [
    "X_num_train = data_train.drop(\n",
    "    labels=['Education', 'Marital_Status', 'Dt_Customer'],\n",
    "    axis=1,\n",
    ")\n",
    "X_num_test = data_test.drop(\n",
    "    labels=['Education', 'Marital_Status', 'Dt_Customer'],\n",
    "    axis=1,\n",
    ")"
   ]
  },
  {
   "cell_type": "code",
   "execution_count": null,
   "metadata": {},
   "outputs": [],
   "source": []
  },
  {
   "cell_type": "code",
   "execution_count": null,
   "metadata": {},
   "outputs": [],
   "source": []
  },
  {
   "cell_type": "markdown",
   "metadata": {},
   "source": [
    "### Q3.1\n",
    "\n",
    "Build a logistic regression model. Set max_iter parameter to 5000. What is the f1_score for the model?\n"
   ]
  },
  {
   "cell_type": "code",
   "execution_count": 37,
   "metadata": {},
   "outputs": [],
   "source": [
    "from sklearn.linear_model import LogisticRegression\n",
    "from sklearn.metrics import f1_score"
   ]
  },
  {
   "cell_type": "code",
   "execution_count": 38,
   "metadata": {},
   "outputs": [
    {
     "data": {
      "text/plain": [
       "LogisticRegression(max_iter=5000)"
      ]
     },
     "execution_count": 38,
     "metadata": {},
     "output_type": "execute_result"
    }
   ],
   "source": [
    "clf = LogisticRegression(max_iter=5000)\n",
    "clf.fit(X_num_train, target_train)"
   ]
  },
  {
   "cell_type": "code",
   "execution_count": 39,
   "metadata": {},
   "outputs": [],
   "source": [
    "target_pred = clf.predict(X_num_test)"
   ]
  },
  {
   "cell_type": "code",
   "execution_count": 40,
   "metadata": {},
   "outputs": [
    {
     "data": {
      "text/plain": [
       "0.27067669172932335"
      ]
     },
     "execution_count": 40,
     "metadata": {},
     "output_type": "execute_result"
    }
   ],
   "source": [
    "f1_score(target_test, target_pred)"
   ]
  },
  {
   "cell_type": "code",
   "execution_count": null,
   "metadata": {},
   "outputs": [],
   "source": []
  },
  {
   "cell_type": "code",
   "execution_count": null,
   "metadata": {},
   "outputs": [],
   "source": []
  },
  {
   "cell_type": "markdown",
   "metadata": {},
   "source": [
    "### Q3.2\n",
    "\n",
    "Build a k-neighbors classifier. What is the f1_score for the model?"
   ]
  },
  {
   "cell_type": "code",
   "execution_count": 41,
   "metadata": {},
   "outputs": [],
   "source": [
    "from sklearn.neighbors import KNeighborsClassifier"
   ]
  },
  {
   "cell_type": "code",
   "execution_count": 42,
   "metadata": {},
   "outputs": [],
   "source": [
    "clf = KNeighborsClassifier()"
   ]
  },
  {
   "cell_type": "code",
   "execution_count": 43,
   "metadata": {},
   "outputs": [
    {
     "data": {
      "text/plain": [
       "KNeighborsClassifier()"
      ]
     },
     "execution_count": 43,
     "metadata": {},
     "output_type": "execute_result"
    }
   ],
   "source": [
    "clf.fit(X_num_train, target_train)"
   ]
  },
  {
   "cell_type": "code",
   "execution_count": 44,
   "metadata": {},
   "outputs": [],
   "source": [
    "target_pred = clf.predict(X_num_test)"
   ]
  },
  {
   "cell_type": "code",
   "execution_count": 45,
   "metadata": {},
   "outputs": [
    {
     "data": {
      "text/plain": [
       "0.26666666666666666"
      ]
     },
     "execution_count": 45,
     "metadata": {},
     "output_type": "execute_result"
    }
   ],
   "source": [
    "f1_score(target_test, target_pred)"
   ]
  },
  {
   "cell_type": "markdown",
   "metadata": {},
   "source": [
    "### Q3.3\n",
    "\n",
    "Build a random forest classifier. What is the f1_score for the model?"
   ]
  },
  {
   "cell_type": "code",
   "execution_count": 46,
   "metadata": {},
   "outputs": [],
   "source": [
    "from sklearn.ensemble import RandomForestClassifier"
   ]
  },
  {
   "cell_type": "code",
   "execution_count": 47,
   "metadata": {},
   "outputs": [],
   "source": [
    "clf = RandomForestClassifier(random_state=42)"
   ]
  },
  {
   "cell_type": "code",
   "execution_count": 48,
   "metadata": {},
   "outputs": [
    {
     "data": {
      "text/plain": [
       "RandomForestClassifier(random_state=42)"
      ]
     },
     "execution_count": 48,
     "metadata": {},
     "output_type": "execute_result"
    }
   ],
   "source": [
    "clf.fit(X_num_train, target_train)"
   ]
  },
  {
   "cell_type": "code",
   "execution_count": 49,
   "metadata": {},
   "outputs": [],
   "source": [
    "target_pred = clf.predict(X_num_test)"
   ]
  },
  {
   "cell_type": "code",
   "execution_count": 50,
   "metadata": {},
   "outputs": [
    {
     "data": {
      "text/plain": [
       "0.3582089552238806"
      ]
     },
     "execution_count": 50,
     "metadata": {},
     "output_type": "execute_result"
    }
   ],
   "source": [
    "f1_score(target_test, target_pred)"
   ]
  },
  {
   "cell_type": "code",
   "execution_count": null,
   "metadata": {},
   "outputs": [],
   "source": []
  },
  {
   "cell_type": "code",
   "execution_count": null,
   "metadata": {},
   "outputs": [],
   "source": []
  },
  {
   "cell_type": "code",
   "execution_count": null,
   "metadata": {},
   "outputs": [],
   "source": []
  },
  {
   "cell_type": "markdown",
   "metadata": {},
   "source": [
    "### Q3.4\n",
    "\n",
    "The models without fine-tuning are not as effective. First, let's try to regularize the regression with the L2 norm. Use 5-split cross-validation grid search to find the optimal C. What is the f1 score for the model trained on the full train dataset with this regularization?"
   ]
  },
  {
   "cell_type": "code",
   "execution_count": 51,
   "metadata": {},
   "outputs": [],
   "source": [
    "from sklearn.model_selection import GridSearchCV, KFold"
   ]
  },
  {
   "cell_type": "code",
   "execution_count": 52,
   "metadata": {},
   "outputs": [],
   "source": [
    "cv = KFold(n_splits=5, shuffle=True, random_state=42)\n",
    "clf = LogisticRegression(max_iter=5000)"
   ]
  },
  {
   "cell_type": "code",
   "execution_count": 53,
   "metadata": {},
   "outputs": [],
   "source": [
    "start, stop = 1, 4\n",
    "paramGrid = {\n",
    "    'C': np.logspace(start, stop, num=stop - start + 1)\n",
    "}"
   ]
  },
  {
   "cell_type": "code",
   "execution_count": 54,
   "metadata": {},
   "outputs": [],
   "source": [
    "gridSearch = GridSearchCV(clf, param_grid=paramGrid, cv=cv)"
   ]
  },
  {
   "cell_type": "code",
   "execution_count": 55,
   "metadata": {},
   "outputs": [
    {
     "data": {
      "text/plain": [
       "GridSearchCV(cv=KFold(n_splits=5, random_state=42, shuffle=True),\n",
       "             estimator=LogisticRegression(max_iter=5000),\n",
       "             param_grid={'C': array([   10.,   100.,  1000., 10000.])})"
      ]
     },
     "execution_count": 55,
     "metadata": {},
     "output_type": "execute_result"
    }
   ],
   "source": [
    "gridSearch.fit(X_num_train, target_train)"
   ]
  },
  {
   "cell_type": "code",
   "execution_count": 56,
   "metadata": {},
   "outputs": [
    {
     "data": {
      "text/plain": [
       "LogisticRegression(C=10.0, max_iter=5000)"
      ]
     },
     "execution_count": 56,
     "metadata": {},
     "output_type": "execute_result"
    }
   ],
   "source": [
    "gridSearch.best_estimator_"
   ]
  },
  {
   "cell_type": "code",
   "execution_count": 57,
   "metadata": {},
   "outputs": [
    {
     "data": {
      "text/plain": [
       "0.8628721434240247"
      ]
     },
     "execution_count": 57,
     "metadata": {},
     "output_type": "execute_result"
    }
   ],
   "source": [
    "gridSearch.best_score_"
   ]
  },
  {
   "cell_type": "code",
   "execution_count": 58,
   "metadata": {},
   "outputs": [],
   "source": [
    "clf = gridSearch.best_estimator_"
   ]
  },
  {
   "cell_type": "code",
   "execution_count": 59,
   "metadata": {},
   "outputs": [
    {
     "data": {
      "text/plain": [
       "LogisticRegression(C=10.0, max_iter=5000)"
      ]
     },
     "execution_count": 59,
     "metadata": {},
     "output_type": "execute_result"
    }
   ],
   "source": [
    "clf.fit(X_num_train, target_train)"
   ]
  },
  {
   "cell_type": "code",
   "execution_count": 60,
   "metadata": {},
   "outputs": [],
   "source": [
    "target_pred = clf.predict(X_num_test)"
   ]
  },
  {
   "cell_type": "code",
   "execution_count": 61,
   "metadata": {},
   "outputs": [
    {
     "data": {
      "text/plain": [
       "0.27067669172932335"
      ]
     },
     "execution_count": 61,
     "metadata": {},
     "output_type": "execute_result"
    }
   ],
   "source": [
    "f1_score(target_test, target_pred)"
   ]
  },
  {
   "cell_type": "markdown",
   "metadata": {},
   "source": [
    "### Q3.5\n",
    "\n",
    "Fine-tune a k-NN classifier, try to find an optimal number of neighbors, weights, and p with a 5-split cross-validation. What is the f1 score for a model trained on a full train dataset with these parameters?"
   ]
  },
  {
   "cell_type": "code",
   "execution_count": 62,
   "metadata": {},
   "outputs": [],
   "source": [
    "cv = KFold(n_splits=5, shuffle=True, random_state=42)\n",
    "clf = KNeighborsClassifier()"
   ]
  },
  {
   "cell_type": "code",
   "execution_count": 63,
   "metadata": {},
   "outputs": [],
   "source": [
    "paramGrid = {\n",
    "    'n_neighbors': range(2, 10, 2),\n",
    "    'weights': ['uniform', 'distance'],\n",
    "    'p': [1, 2, np.inf]\n",
    "}"
   ]
  },
  {
   "cell_type": "code",
   "execution_count": 64,
   "metadata": {},
   "outputs": [],
   "source": [
    "gridSearch = GridSearchCV(clf, param_grid=paramGrid, cv=cv)"
   ]
  },
  {
   "cell_type": "code",
   "execution_count": 65,
   "metadata": {},
   "outputs": [
    {
     "data": {
      "text/plain": [
       "GridSearchCV(cv=KFold(n_splits=5, random_state=42, shuffle=True),\n",
       "             estimator=KNeighborsClassifier(),\n",
       "             param_grid={'n_neighbors': range(2, 10, 2), 'p': [1, 2, inf],\n",
       "                         'weights': ['uniform', 'distance']})"
      ]
     },
     "execution_count": 65,
     "metadata": {},
     "output_type": "execute_result"
    }
   ],
   "source": [
    "gridSearch.fit(X_num_train, target_train)"
   ]
  },
  {
   "cell_type": "code",
   "execution_count": 66,
   "metadata": {},
   "outputs": [
    {
     "data": {
      "text/plain": [
       "KNeighborsClassifier(n_neighbors=8, weights='distance')"
      ]
     },
     "execution_count": 66,
     "metadata": {},
     "output_type": "execute_result"
    }
   ],
   "source": [
    "gridSearch.best_estimator_"
   ]
  },
  {
   "cell_type": "code",
   "execution_count": 67,
   "metadata": {},
   "outputs": [
    {
     "data": {
      "text/plain": [
       "{'n_neighbors': 8, 'p': 2, 'weights': 'distance'}"
      ]
     },
     "execution_count": 67,
     "metadata": {},
     "output_type": "execute_result"
    }
   ],
   "source": [
    "gridSearch.best_params_"
   ]
  },
  {
   "cell_type": "code",
   "execution_count": 68,
   "metadata": {},
   "outputs": [
    {
     "data": {
      "text/plain": [
       "0.8533220732178833"
      ]
     },
     "execution_count": 68,
     "metadata": {},
     "output_type": "execute_result"
    }
   ],
   "source": [
    "gridSearch.best_score_"
   ]
  },
  {
   "cell_type": "code",
   "execution_count": 69,
   "metadata": {},
   "outputs": [],
   "source": [
    "clf = gridSearch.best_estimator_"
   ]
  },
  {
   "cell_type": "code",
   "execution_count": 70,
   "metadata": {},
   "outputs": [
    {
     "data": {
      "text/plain": [
       "KNeighborsClassifier(n_neighbors=8, weights='distance')"
      ]
     },
     "execution_count": 70,
     "metadata": {},
     "output_type": "execute_result"
    }
   ],
   "source": [
    "clf.fit(X_num_train, target_train)"
   ]
  },
  {
   "cell_type": "code",
   "execution_count": 71,
   "metadata": {},
   "outputs": [],
   "source": [
    "target_pred = clf.predict(X_num_test)"
   ]
  },
  {
   "cell_type": "code",
   "execution_count": 72,
   "metadata": {},
   "outputs": [
    {
     "data": {
      "text/plain": [
       "0.33333333333333337"
      ]
     },
     "execution_count": 72,
     "metadata": {},
     "output_type": "execute_result"
    }
   ],
   "source": [
    "f1_score(target_test, target_pred)"
   ]
  },
  {
   "cell_type": "code",
   "execution_count": null,
   "metadata": {},
   "outputs": [],
   "source": []
  },
  {
   "cell_type": "markdown",
   "metadata": {},
   "source": [
    "### Q3.6\n",
    "\n",
    "Use the 5-split CV to find the optimal number of estimators and max_features for the random forest. What is the f1 score for random forest trained on a full train dataset with these parameters?"
   ]
  },
  {
   "cell_type": "code",
   "execution_count": 73,
   "metadata": {},
   "outputs": [],
   "source": [
    "cv = KFold(n_splits=5, shuffle=True, random_state=42)\n",
    "clf = RandomForestClassifier(random_state=42)"
   ]
  },
  {
   "cell_type": "code",
   "execution_count": 74,
   "metadata": {},
   "outputs": [],
   "source": [
    "paramGrid = {\n",
    "    'n_estimators': range(50, 300, 50),\n",
    "    'max_features': ['auto', 'log2'],\n",
    "}"
   ]
  },
  {
   "cell_type": "code",
   "execution_count": 75,
   "metadata": {},
   "outputs": [],
   "source": [
    "gridSearch = GridSearchCV(clf, param_grid=paramGrid, cv=cv)"
   ]
  },
  {
   "cell_type": "code",
   "execution_count": 76,
   "metadata": {},
   "outputs": [
    {
     "data": {
      "text/plain": [
       "GridSearchCV(cv=KFold(n_splits=5, random_state=42, shuffle=True),\n",
       "             estimator=RandomForestClassifier(random_state=42),\n",
       "             param_grid={'max_features': ['auto', 'log2'],\n",
       "                         'n_estimators': range(50, 300, 50)})"
      ]
     },
     "execution_count": 76,
     "metadata": {},
     "output_type": "execute_result"
    }
   ],
   "source": [
    "gridSearch.fit(X_num_train, target_train)"
   ]
  },
  {
   "cell_type": "code",
   "execution_count": 77,
   "metadata": {},
   "outputs": [
    {
     "data": {
      "text/plain": [
       "RandomForestClassifier(n_estimators=150, random_state=42)"
      ]
     },
     "execution_count": 77,
     "metadata": {},
     "output_type": "execute_result"
    }
   ],
   "source": [
    "gridSearch.best_estimator_"
   ]
  },
  {
   "cell_type": "code",
   "execution_count": 78,
   "metadata": {},
   "outputs": [
    {
     "data": {
      "text/plain": [
       "0.8730917156753015"
      ]
     },
     "execution_count": 78,
     "metadata": {},
     "output_type": "execute_result"
    }
   ],
   "source": [
    "gridSearch.best_score_"
   ]
  },
  {
   "cell_type": "code",
   "execution_count": 79,
   "metadata": {},
   "outputs": [],
   "source": [
    "clf = gridSearch.best_estimator_"
   ]
  },
  {
   "cell_type": "code",
   "execution_count": 80,
   "metadata": {},
   "outputs": [
    {
     "data": {
      "text/plain": [
       "RandomForestClassifier(n_estimators=150, random_state=42)"
      ]
     },
     "execution_count": 80,
     "metadata": {},
     "output_type": "execute_result"
    }
   ],
   "source": [
    "clf.fit(X_num_train, target_train)"
   ]
  },
  {
   "cell_type": "code",
   "execution_count": 81,
   "metadata": {},
   "outputs": [
    {
     "data": {
      "text/plain": [
       "0.373134328358209"
      ]
     },
     "execution_count": 81,
     "metadata": {},
     "output_type": "execute_result"
    }
   ],
   "source": [
    "target_pred = clf.predict(X_num_test)\n",
    "f1_score(target_test, target_pred)"
   ]
  },
  {
   "cell_type": "markdown",
   "metadata": {},
   "source": [
    "## 4. Working with features\n",
    "\n",
    "Machine learning is sometimes called data science because everything depends on data. In this section, we'll apply some of the most popular modifications for data. IMPORTANT: In the previous section we took a subset of the columns; now it's time to work with all of them."
   ]
  },
  {
   "cell_type": "markdown",
   "metadata": {},
   "source": [
    "### Q4.1\n",
    "\n",
    "One of the standard procedures is data standardizations - it strongly influences the results of k-NN and make the convergence of other algorithms (i.e. logreg and neural nets) much faster. Let's apply `StandardScaler` for all the numerical columns - 'Recency', 'Year_Birth', 'MntWines', 'MntFruits', 'MntMeatProducts', 'MntFishProducts', 'MntSweetProducts', 'MntGoldProds', 'NumDealsPurchases', 'NumWebPurchases', 'NumCatalogPurchases', 'NumStorePurchases', 'NumWebVisitsMonth'. \n",
    "\n",
    "What is the maximum value of MntWines now in the test set?"
   ]
  },
  {
   "cell_type": "code",
   "execution_count": 82,
   "metadata": {},
   "outputs": [],
   "source": [
    "from sklearn.preprocessing import StandardScaler"
   ]
  },
  {
   "cell_type": "code",
   "execution_count": 83,
   "metadata": {},
   "outputs": [
    {
     "data": {
      "text/plain": [
       "13"
      ]
     },
     "execution_count": 83,
     "metadata": {},
     "output_type": "execute_result"
    }
   ],
   "source": [
    "numCols = [\n",
    "    'Recency',\n",
    "    'Year_Birth',\n",
    "    'MntWines',\n",
    "    'MntFruits',\n",
    "    'MntMeatProducts',\n",
    "    'MntFishProducts',\n",
    "    'MntSweetProducts',\n",
    "    'MntGoldProds',\n",
    "    'NumDealsPurchases',\n",
    "    'NumWebPurchases',\n",
    "    'NumCatalogPurchases',\n",
    "    'NumStorePurchases',\n",
    "    'NumWebVisitsMonth'\n",
    "]\n",
    "len(numCols)"
   ]
  },
  {
   "cell_type": "code",
   "execution_count": 84,
   "metadata": {},
   "outputs": [],
   "source": [
    "numData = df.loc[:, numCols]\n",
    "scaler = StandardScaler().fit(df.loc[:, numCols])"
   ]
  },
  {
   "cell_type": "code",
   "execution_count": 85,
   "metadata": {},
   "outputs": [],
   "source": [
    "numData.loc[:, :] = scaler.transform(df.loc[:, numCols])"
   ]
  },
  {
   "cell_type": "code",
   "execution_count": 86,
   "metadata": {},
   "outputs": [
    {
     "data": {
      "text/plain": [
       "count    2.240000e+03\n",
       "mean    -9.605412e-17\n",
       "std      1.000223e+00\n",
       "min     -9.031668e-01\n",
       "25%     -8.325919e-01\n",
       "50%     -3.875991e-01\n",
       "75%      5.952483e-01\n",
       "max      3.533390e+00\n",
       "Name: MntWines, dtype: float64"
      ]
     },
     "execution_count": 86,
     "metadata": {},
     "output_type": "execute_result"
    }
   ],
   "source": [
    "numData.MntWines.describe()"
   ]
  },
  {
   "cell_type": "code",
   "execution_count": 87,
   "metadata": {},
   "outputs": [
    {
     "data": {
      "text/plain": [
       "3.533389791120421"
      ]
     },
     "execution_count": 87,
     "metadata": {},
     "output_type": "execute_result"
    }
   ],
   "source": [
    "numData.MntWines.max()"
   ]
  },
  {
   "cell_type": "code",
   "execution_count": null,
   "metadata": {},
   "outputs": [],
   "source": []
  },
  {
   "cell_type": "code",
   "execution_count": null,
   "metadata": {},
   "outputs": [],
   "source": []
  },
  {
   "cell_type": "markdown",
   "metadata": {},
   "source": [
    "### Q4.2\n",
    "We have two categorical columns - education and marital status. We can't use them directly with our models, so let's use one-hot encoding - create a separate binary column for each possible value and drop the original 'Education' and 'Marital_Status' columns.\n",
    "\n",
    "How many columns do we have now?"
   ]
  },
  {
   "cell_type": "code",
   "execution_count": 88,
   "metadata": {},
   "outputs": [],
   "source": [
    "catCols = ['Education', 'Marital_Status']"
   ]
  },
  {
   "cell_type": "code",
   "execution_count": 89,
   "metadata": {},
   "outputs": [],
   "source": [
    "catData = pd.get_dummies(\n",
    "    df.loc[:, catCols],\n",
    "    prefix=catCols,\n",
    "    columns=catCols,\n",
    ")"
   ]
  },
  {
   "cell_type": "code",
   "execution_count": 90,
   "metadata": {},
   "outputs": [
    {
     "data": {
      "text/html": [
       "<div>\n",
       "<style scoped>\n",
       "    .dataframe tbody tr th:only-of-type {\n",
       "        vertical-align: middle;\n",
       "    }\n",
       "\n",
       "    .dataframe tbody tr th {\n",
       "        vertical-align: top;\n",
       "    }\n",
       "\n",
       "    .dataframe thead th {\n",
       "        text-align: right;\n",
       "    }\n",
       "</style>\n",
       "<table border=\"1\" class=\"dataframe\">\n",
       "  <thead>\n",
       "    <tr style=\"text-align: right;\">\n",
       "      <th></th>\n",
       "      <th>Education_2n Cycle</th>\n",
       "      <th>Education_Basic</th>\n",
       "      <th>Education_Graduation</th>\n",
       "      <th>Education_Master</th>\n",
       "      <th>Education_PhD</th>\n",
       "      <th>Marital_Status_Married</th>\n",
       "      <th>Marital_Status_Single</th>\n",
       "      <th>Marital_Status_Together</th>\n",
       "    </tr>\n",
       "    <tr>\n",
       "      <th>ID</th>\n",
       "      <th></th>\n",
       "      <th></th>\n",
       "      <th></th>\n",
       "      <th></th>\n",
       "      <th></th>\n",
       "      <th></th>\n",
       "      <th></th>\n",
       "      <th></th>\n",
       "    </tr>\n",
       "  </thead>\n",
       "  <tbody>\n",
       "    <tr>\n",
       "      <th>5524</th>\n",
       "      <td>0</td>\n",
       "      <td>0</td>\n",
       "      <td>1</td>\n",
       "      <td>0</td>\n",
       "      <td>0</td>\n",
       "      <td>0</td>\n",
       "      <td>1</td>\n",
       "      <td>0</td>\n",
       "    </tr>\n",
       "    <tr>\n",
       "      <th>2174</th>\n",
       "      <td>0</td>\n",
       "      <td>0</td>\n",
       "      <td>1</td>\n",
       "      <td>0</td>\n",
       "      <td>0</td>\n",
       "      <td>0</td>\n",
       "      <td>1</td>\n",
       "      <td>0</td>\n",
       "    </tr>\n",
       "    <tr>\n",
       "      <th>4141</th>\n",
       "      <td>0</td>\n",
       "      <td>0</td>\n",
       "      <td>1</td>\n",
       "      <td>0</td>\n",
       "      <td>0</td>\n",
       "      <td>0</td>\n",
       "      <td>0</td>\n",
       "      <td>1</td>\n",
       "    </tr>\n",
       "    <tr>\n",
       "      <th>6182</th>\n",
       "      <td>0</td>\n",
       "      <td>0</td>\n",
       "      <td>1</td>\n",
       "      <td>0</td>\n",
       "      <td>0</td>\n",
       "      <td>0</td>\n",
       "      <td>0</td>\n",
       "      <td>1</td>\n",
       "    </tr>\n",
       "    <tr>\n",
       "      <th>5324</th>\n",
       "      <td>0</td>\n",
       "      <td>0</td>\n",
       "      <td>0</td>\n",
       "      <td>0</td>\n",
       "      <td>1</td>\n",
       "      <td>1</td>\n",
       "      <td>0</td>\n",
       "      <td>0</td>\n",
       "    </tr>\n",
       "    <tr>\n",
       "      <th>...</th>\n",
       "      <td>...</td>\n",
       "      <td>...</td>\n",
       "      <td>...</td>\n",
       "      <td>...</td>\n",
       "      <td>...</td>\n",
       "      <td>...</td>\n",
       "      <td>...</td>\n",
       "      <td>...</td>\n",
       "    </tr>\n",
       "    <tr>\n",
       "      <th>10870</th>\n",
       "      <td>0</td>\n",
       "      <td>0</td>\n",
       "      <td>1</td>\n",
       "      <td>0</td>\n",
       "      <td>0</td>\n",
       "      <td>1</td>\n",
       "      <td>0</td>\n",
       "      <td>0</td>\n",
       "    </tr>\n",
       "    <tr>\n",
       "      <th>4001</th>\n",
       "      <td>0</td>\n",
       "      <td>0</td>\n",
       "      <td>0</td>\n",
       "      <td>0</td>\n",
       "      <td>1</td>\n",
       "      <td>0</td>\n",
       "      <td>0</td>\n",
       "      <td>1</td>\n",
       "    </tr>\n",
       "    <tr>\n",
       "      <th>7270</th>\n",
       "      <td>0</td>\n",
       "      <td>0</td>\n",
       "      <td>1</td>\n",
       "      <td>0</td>\n",
       "      <td>0</td>\n",
       "      <td>0</td>\n",
       "      <td>1</td>\n",
       "      <td>0</td>\n",
       "    </tr>\n",
       "    <tr>\n",
       "      <th>8235</th>\n",
       "      <td>0</td>\n",
       "      <td>0</td>\n",
       "      <td>0</td>\n",
       "      <td>1</td>\n",
       "      <td>0</td>\n",
       "      <td>0</td>\n",
       "      <td>0</td>\n",
       "      <td>1</td>\n",
       "    </tr>\n",
       "    <tr>\n",
       "      <th>9405</th>\n",
       "      <td>0</td>\n",
       "      <td>0</td>\n",
       "      <td>0</td>\n",
       "      <td>0</td>\n",
       "      <td>1</td>\n",
       "      <td>1</td>\n",
       "      <td>0</td>\n",
       "      <td>0</td>\n",
       "    </tr>\n",
       "  </tbody>\n",
       "</table>\n",
       "<p>2240 rows × 8 columns</p>\n",
       "</div>"
      ],
      "text/plain": [
       "       Education_2n Cycle  Education_Basic  Education_Graduation  \\\n",
       "ID                                                                 \n",
       "5524                    0                0                     1   \n",
       "2174                    0                0                     1   \n",
       "4141                    0                0                     1   \n",
       "6182                    0                0                     1   \n",
       "5324                    0                0                     0   \n",
       "...                   ...              ...                   ...   \n",
       "10870                   0                0                     1   \n",
       "4001                    0                0                     0   \n",
       "7270                    0                0                     1   \n",
       "8235                    0                0                     0   \n",
       "9405                    0                0                     0   \n",
       "\n",
       "       Education_Master  Education_PhD  Marital_Status_Married  \\\n",
       "ID                                                               \n",
       "5524                  0              0                       0   \n",
       "2174                  0              0                       0   \n",
       "4141                  0              0                       0   \n",
       "6182                  0              0                       0   \n",
       "5324                  0              1                       1   \n",
       "...                 ...            ...                     ...   \n",
       "10870                 0              0                       1   \n",
       "4001                  0              1                       0   \n",
       "7270                  0              0                       0   \n",
       "8235                  1              0                       0   \n",
       "9405                  0              1                       1   \n",
       "\n",
       "       Marital_Status_Single  Marital_Status_Together  \n",
       "ID                                                     \n",
       "5524                       1                        0  \n",
       "2174                       1                        0  \n",
       "4141                       0                        1  \n",
       "6182                       0                        1  \n",
       "5324                       0                        0  \n",
       "...                      ...                      ...  \n",
       "10870                      0                        0  \n",
       "4001                       0                        1  \n",
       "7270                       1                        0  \n",
       "8235                       0                        1  \n",
       "9405                       0                        0  \n",
       "\n",
       "[2240 rows x 8 columns]"
      ]
     },
     "execution_count": 90,
     "metadata": {},
     "output_type": "execute_result"
    }
   ],
   "source": [
    "catData"
   ]
  },
  {
   "cell_type": "code",
   "execution_count": 91,
   "metadata": {},
   "outputs": [],
   "source": [
    "data_pp = df.copy()\n",
    "data_pp.loc[:, numCols] = numData\n",
    "data_pp[catData.columns] = catData\n",
    "data_pp.drop(labels=catCols, inplace=True, axis=1)"
   ]
  },
  {
   "cell_type": "code",
   "execution_count": 92,
   "metadata": {},
   "outputs": [
    {
     "data": {
      "text/html": [
       "<div>\n",
       "<style scoped>\n",
       "    .dataframe tbody tr th:only-of-type {\n",
       "        vertical-align: middle;\n",
       "    }\n",
       "\n",
       "    .dataframe tbody tr th {\n",
       "        vertical-align: top;\n",
       "    }\n",
       "\n",
       "    .dataframe thead th {\n",
       "        text-align: right;\n",
       "    }\n",
       "</style>\n",
       "<table border=\"1\" class=\"dataframe\">\n",
       "  <thead>\n",
       "    <tr style=\"text-align: right;\">\n",
       "      <th></th>\n",
       "      <th>Year_Birth</th>\n",
       "      <th>Kidhome</th>\n",
       "      <th>Teenhome</th>\n",
       "      <th>Dt_Customer</th>\n",
       "      <th>Recency</th>\n",
       "      <th>MntWines</th>\n",
       "      <th>MntFruits</th>\n",
       "      <th>MntMeatProducts</th>\n",
       "      <th>MntFishProducts</th>\n",
       "      <th>MntSweetProducts</th>\n",
       "      <th>MntGoldProds</th>\n",
       "      <th>NumDealsPurchases</th>\n",
       "      <th>NumWebPurchases</th>\n",
       "      <th>NumCatalogPurchases</th>\n",
       "      <th>NumStorePurchases</th>\n",
       "      <th>NumWebVisitsMonth</th>\n",
       "      <th>Complain</th>\n",
       "      <th>AcceptedCmp</th>\n",
       "      <th>Education_2n Cycle</th>\n",
       "      <th>Education_Basic</th>\n",
       "      <th>Education_Graduation</th>\n",
       "      <th>Education_Master</th>\n",
       "      <th>Education_PhD</th>\n",
       "      <th>Marital_Status_Married</th>\n",
       "      <th>Marital_Status_Single</th>\n",
       "      <th>Marital_Status_Together</th>\n",
       "    </tr>\n",
       "    <tr>\n",
       "      <th>ID</th>\n",
       "      <th></th>\n",
       "      <th></th>\n",
       "      <th></th>\n",
       "      <th></th>\n",
       "      <th></th>\n",
       "      <th></th>\n",
       "      <th></th>\n",
       "      <th></th>\n",
       "      <th></th>\n",
       "      <th></th>\n",
       "      <th></th>\n",
       "      <th></th>\n",
       "      <th></th>\n",
       "      <th></th>\n",
       "      <th></th>\n",
       "      <th></th>\n",
       "      <th></th>\n",
       "      <th></th>\n",
       "      <th></th>\n",
       "      <th></th>\n",
       "      <th></th>\n",
       "      <th></th>\n",
       "      <th></th>\n",
       "      <th></th>\n",
       "      <th></th>\n",
       "      <th></th>\n",
       "    </tr>\n",
       "  </thead>\n",
       "  <tbody>\n",
       "    <tr>\n",
       "      <th>5524</th>\n",
       "      <td>-0.985345</td>\n",
       "      <td>0</td>\n",
       "      <td>0</td>\n",
       "      <td>2018-04-09</td>\n",
       "      <td>0.307039</td>\n",
       "      <td>0.983781</td>\n",
       "      <td>1.551577</td>\n",
       "      <td>1.679702</td>\n",
       "      <td>2.462147</td>\n",
       "      <td>1.476500</td>\n",
       "      <td>0.843207</td>\n",
       "      <td>0.349414</td>\n",
       "      <td>1.409304</td>\n",
       "      <td>2.510890</td>\n",
       "      <td>-0.550785</td>\n",
       "      <td>0.693904</td>\n",
       "      <td>0</td>\n",
       "      <td>1</td>\n",
       "      <td>0</td>\n",
       "      <td>0</td>\n",
       "      <td>1</td>\n",
       "      <td>0</td>\n",
       "      <td>0</td>\n",
       "      <td>0</td>\n",
       "      <td>1</td>\n",
       "      <td>0</td>\n",
       "    </tr>\n",
       "    <tr>\n",
       "      <th>2174</th>\n",
       "      <td>-1.235733</td>\n",
       "      <td>1</td>\n",
       "      <td>1</td>\n",
       "      <td>2020-08-03</td>\n",
       "      <td>-0.383664</td>\n",
       "      <td>-0.870479</td>\n",
       "      <td>-0.636301</td>\n",
       "      <td>-0.713225</td>\n",
       "      <td>-0.650449</td>\n",
       "      <td>-0.631503</td>\n",
       "      <td>-0.729006</td>\n",
       "      <td>-0.168236</td>\n",
       "      <td>-1.110409</td>\n",
       "      <td>-0.568720</td>\n",
       "      <td>-1.166125</td>\n",
       "      <td>-0.130463</td>\n",
       "      <td>0</td>\n",
       "      <td>0</td>\n",
       "      <td>0</td>\n",
       "      <td>0</td>\n",
       "      <td>1</td>\n",
       "      <td>0</td>\n",
       "      <td>0</td>\n",
       "      <td>0</td>\n",
       "      <td>1</td>\n",
       "      <td>0</td>\n",
       "    </tr>\n",
       "    <tr>\n",
       "      <th>4141</th>\n",
       "      <td>-0.317643</td>\n",
       "      <td>0</td>\n",
       "      <td>0</td>\n",
       "      <td>2019-08-21</td>\n",
       "      <td>-0.798086</td>\n",
       "      <td>0.362723</td>\n",
       "      <td>0.570804</td>\n",
       "      <td>-0.177032</td>\n",
       "      <td>1.345274</td>\n",
       "      <td>-0.146905</td>\n",
       "      <td>-0.038766</td>\n",
       "      <td>-0.685887</td>\n",
       "      <td>1.409304</td>\n",
       "      <td>-0.226541</td>\n",
       "      <td>1.295237</td>\n",
       "      <td>-0.542647</td>\n",
       "      <td>0</td>\n",
       "      <td>0</td>\n",
       "      <td>0</td>\n",
       "      <td>0</td>\n",
       "      <td>1</td>\n",
       "      <td>0</td>\n",
       "      <td>0</td>\n",
       "      <td>0</td>\n",
       "      <td>0</td>\n",
       "      <td>1</td>\n",
       "    </tr>\n",
       "    <tr>\n",
       "      <th>6182</th>\n",
       "      <td>1.268149</td>\n",
       "      <td>1</td>\n",
       "      <td>0</td>\n",
       "      <td>2020-10-02</td>\n",
       "      <td>-0.798086</td>\n",
       "      <td>-0.870479</td>\n",
       "      <td>-0.560857</td>\n",
       "      <td>-0.651187</td>\n",
       "      <td>-0.503974</td>\n",
       "      <td>-0.583043</td>\n",
       "      <td>-0.748179</td>\n",
       "      <td>-0.168236</td>\n",
       "      <td>-0.750450</td>\n",
       "      <td>-0.910898</td>\n",
       "      <td>-0.550785</td>\n",
       "      <td>0.281720</td>\n",
       "      <td>0</td>\n",
       "      <td>0</td>\n",
       "      <td>0</td>\n",
       "      <td>0</td>\n",
       "      <td>1</td>\n",
       "      <td>0</td>\n",
       "      <td>0</td>\n",
       "      <td>0</td>\n",
       "      <td>0</td>\n",
       "      <td>1</td>\n",
       "    </tr>\n",
       "    <tr>\n",
       "      <th>5324</th>\n",
       "      <td>1.017761</td>\n",
       "      <td>1</td>\n",
       "      <td>0</td>\n",
       "      <td>2020-01-19</td>\n",
       "      <td>1.550305</td>\n",
       "      <td>-0.389085</td>\n",
       "      <td>0.419916</td>\n",
       "      <td>-0.216914</td>\n",
       "      <td>0.155164</td>\n",
       "      <td>-0.001525</td>\n",
       "      <td>-0.556446</td>\n",
       "      <td>1.384715</td>\n",
       "      <td>0.329427</td>\n",
       "      <td>0.115638</td>\n",
       "      <td>0.064556</td>\n",
       "      <td>-0.130463</td>\n",
       "      <td>0</td>\n",
       "      <td>0</td>\n",
       "      <td>0</td>\n",
       "      <td>0</td>\n",
       "      <td>0</td>\n",
       "      <td>0</td>\n",
       "      <td>1</td>\n",
       "      <td>1</td>\n",
       "      <td>0</td>\n",
       "      <td>0</td>\n",
       "    </tr>\n",
       "  </tbody>\n",
       "</table>\n",
       "</div>"
      ],
      "text/plain": [
       "      Year_Birth  Kidhome  Teenhome Dt_Customer   Recency  MntWines  \\\n",
       "ID                                                                    \n",
       "5524   -0.985345        0         0  2018-04-09  0.307039  0.983781   \n",
       "2174   -1.235733        1         1  2020-08-03 -0.383664 -0.870479   \n",
       "4141   -0.317643        0         0  2019-08-21 -0.798086  0.362723   \n",
       "6182    1.268149        1         0  2020-10-02 -0.798086 -0.870479   \n",
       "5324    1.017761        1         0  2020-01-19  1.550305 -0.389085   \n",
       "\n",
       "      MntFruits  MntMeatProducts  MntFishProducts  MntSweetProducts  \\\n",
       "ID                                                                    \n",
       "5524   1.551577         1.679702         2.462147          1.476500   \n",
       "2174  -0.636301        -0.713225        -0.650449         -0.631503   \n",
       "4141   0.570804        -0.177032         1.345274         -0.146905   \n",
       "6182  -0.560857        -0.651187        -0.503974         -0.583043   \n",
       "5324   0.419916        -0.216914         0.155164         -0.001525   \n",
       "\n",
       "      MntGoldProds  NumDealsPurchases  NumWebPurchases  NumCatalogPurchases  \\\n",
       "ID                                                                            \n",
       "5524      0.843207           0.349414         1.409304             2.510890   \n",
       "2174     -0.729006          -0.168236        -1.110409            -0.568720   \n",
       "4141     -0.038766          -0.685887         1.409304            -0.226541   \n",
       "6182     -0.748179          -0.168236        -0.750450            -0.910898   \n",
       "5324     -0.556446           1.384715         0.329427             0.115638   \n",
       "\n",
       "      NumStorePurchases  NumWebVisitsMonth  Complain  AcceptedCmp  \\\n",
       "ID                                                                  \n",
       "5524          -0.550785           0.693904         0            1   \n",
       "2174          -1.166125          -0.130463         0            0   \n",
       "4141           1.295237          -0.542647         0            0   \n",
       "6182          -0.550785           0.281720         0            0   \n",
       "5324           0.064556          -0.130463         0            0   \n",
       "\n",
       "      Education_2n Cycle  Education_Basic  Education_Graduation  \\\n",
       "ID                                                                \n",
       "5524                   0                0                     1   \n",
       "2174                   0                0                     1   \n",
       "4141                   0                0                     1   \n",
       "6182                   0                0                     1   \n",
       "5324                   0                0                     0   \n",
       "\n",
       "      Education_Master  Education_PhD  Marital_Status_Married  \\\n",
       "ID                                                              \n",
       "5524                 0              0                       0   \n",
       "2174                 0              0                       0   \n",
       "4141                 0              0                       0   \n",
       "6182                 0              0                       0   \n",
       "5324                 0              1                       1   \n",
       "\n",
       "      Marital_Status_Single  Marital_Status_Together  \n",
       "ID                                                    \n",
       "5524                      1                        0  \n",
       "2174                      1                        0  \n",
       "4141                      0                        1  \n",
       "6182                      0                        1  \n",
       "5324                      0                        0  "
      ]
     },
     "execution_count": 92,
     "metadata": {},
     "output_type": "execute_result"
    }
   ],
   "source": [
    "data_pp.head()"
   ]
  },
  {
   "cell_type": "code",
   "execution_count": 93,
   "metadata": {},
   "outputs": [
    {
     "data": {
      "text/plain": [
       "(2240, 26)"
      ]
     },
     "execution_count": 93,
     "metadata": {},
     "output_type": "execute_result"
    }
   ],
   "source": [
    "data_pp.shape"
   ]
  },
  {
   "cell_type": "markdown",
   "metadata": {},
   "source": [
    "### Q4.3 \n",
    "We have a datetime column - customer registration date `Dt_Customer`. We can't use it directly, but we could use some derivative features. Let's create new columns 'recent_customer' with value `1` if a user was registered after `01/06/2020` and `0` otherways. The original `Dt_Customer` column should be dropped. How many recent customers do we have in the train set?\n",
    "\n",
    "Hints: you can use `pd.to_datetime` for the column and `datetime.datetime` to create a new date."
   ]
  },
  {
   "cell_type": "code",
   "execution_count": 94,
   "metadata": {},
   "outputs": [],
   "source": [
    "data_pp['recent_customer'] =\\\n",
    "    data_pp.Dt_Customer > pd.to_datetime('2020/06/01')"
   ]
  },
  {
   "cell_type": "code",
   "execution_count": 95,
   "metadata": {},
   "outputs": [
    {
     "data": {
      "text/html": [
       "<div>\n",
       "<style scoped>\n",
       "    .dataframe tbody tr th:only-of-type {\n",
       "        vertical-align: middle;\n",
       "    }\n",
       "\n",
       "    .dataframe tbody tr th {\n",
       "        vertical-align: top;\n",
       "    }\n",
       "\n",
       "    .dataframe thead th {\n",
       "        text-align: right;\n",
       "    }\n",
       "</style>\n",
       "<table border=\"1\" class=\"dataframe\">\n",
       "  <thead>\n",
       "    <tr style=\"text-align: right;\">\n",
       "      <th></th>\n",
       "      <th>Year_Birth</th>\n",
       "      <th>Kidhome</th>\n",
       "      <th>Teenhome</th>\n",
       "      <th>Dt_Customer</th>\n",
       "      <th>Recency</th>\n",
       "      <th>MntWines</th>\n",
       "      <th>MntFruits</th>\n",
       "      <th>MntMeatProducts</th>\n",
       "      <th>MntFishProducts</th>\n",
       "      <th>MntSweetProducts</th>\n",
       "      <th>MntGoldProds</th>\n",
       "      <th>NumDealsPurchases</th>\n",
       "      <th>NumWebPurchases</th>\n",
       "      <th>NumCatalogPurchases</th>\n",
       "      <th>NumStorePurchases</th>\n",
       "      <th>NumWebVisitsMonth</th>\n",
       "      <th>Complain</th>\n",
       "      <th>AcceptedCmp</th>\n",
       "      <th>Education_2n Cycle</th>\n",
       "      <th>Education_Basic</th>\n",
       "      <th>Education_Graduation</th>\n",
       "      <th>Education_Master</th>\n",
       "      <th>Education_PhD</th>\n",
       "      <th>Marital_Status_Married</th>\n",
       "      <th>Marital_Status_Single</th>\n",
       "      <th>Marital_Status_Together</th>\n",
       "      <th>recent_customer</th>\n",
       "    </tr>\n",
       "    <tr>\n",
       "      <th>ID</th>\n",
       "      <th></th>\n",
       "      <th></th>\n",
       "      <th></th>\n",
       "      <th></th>\n",
       "      <th></th>\n",
       "      <th></th>\n",
       "      <th></th>\n",
       "      <th></th>\n",
       "      <th></th>\n",
       "      <th></th>\n",
       "      <th></th>\n",
       "      <th></th>\n",
       "      <th></th>\n",
       "      <th></th>\n",
       "      <th></th>\n",
       "      <th></th>\n",
       "      <th></th>\n",
       "      <th></th>\n",
       "      <th></th>\n",
       "      <th></th>\n",
       "      <th></th>\n",
       "      <th></th>\n",
       "      <th></th>\n",
       "      <th></th>\n",
       "      <th></th>\n",
       "      <th></th>\n",
       "      <th></th>\n",
       "    </tr>\n",
       "  </thead>\n",
       "  <tbody>\n",
       "    <tr>\n",
       "      <th>5524</th>\n",
       "      <td>-0.985345</td>\n",
       "      <td>0</td>\n",
       "      <td>0</td>\n",
       "      <td>2018-04-09</td>\n",
       "      <td>0.307039</td>\n",
       "      <td>0.983781</td>\n",
       "      <td>1.551577</td>\n",
       "      <td>1.679702</td>\n",
       "      <td>2.462147</td>\n",
       "      <td>1.476500</td>\n",
       "      <td>0.843207</td>\n",
       "      <td>0.349414</td>\n",
       "      <td>1.409304</td>\n",
       "      <td>2.510890</td>\n",
       "      <td>-0.550785</td>\n",
       "      <td>0.693904</td>\n",
       "      <td>0</td>\n",
       "      <td>1</td>\n",
       "      <td>0</td>\n",
       "      <td>0</td>\n",
       "      <td>1</td>\n",
       "      <td>0</td>\n",
       "      <td>0</td>\n",
       "      <td>0</td>\n",
       "      <td>1</td>\n",
       "      <td>0</td>\n",
       "      <td>False</td>\n",
       "    </tr>\n",
       "    <tr>\n",
       "      <th>2174</th>\n",
       "      <td>-1.235733</td>\n",
       "      <td>1</td>\n",
       "      <td>1</td>\n",
       "      <td>2020-08-03</td>\n",
       "      <td>-0.383664</td>\n",
       "      <td>-0.870479</td>\n",
       "      <td>-0.636301</td>\n",
       "      <td>-0.713225</td>\n",
       "      <td>-0.650449</td>\n",
       "      <td>-0.631503</td>\n",
       "      <td>-0.729006</td>\n",
       "      <td>-0.168236</td>\n",
       "      <td>-1.110409</td>\n",
       "      <td>-0.568720</td>\n",
       "      <td>-1.166125</td>\n",
       "      <td>-0.130463</td>\n",
       "      <td>0</td>\n",
       "      <td>0</td>\n",
       "      <td>0</td>\n",
       "      <td>0</td>\n",
       "      <td>1</td>\n",
       "      <td>0</td>\n",
       "      <td>0</td>\n",
       "      <td>0</td>\n",
       "      <td>1</td>\n",
       "      <td>0</td>\n",
       "      <td>True</td>\n",
       "    </tr>\n",
       "    <tr>\n",
       "      <th>4141</th>\n",
       "      <td>-0.317643</td>\n",
       "      <td>0</td>\n",
       "      <td>0</td>\n",
       "      <td>2019-08-21</td>\n",
       "      <td>-0.798086</td>\n",
       "      <td>0.362723</td>\n",
       "      <td>0.570804</td>\n",
       "      <td>-0.177032</td>\n",
       "      <td>1.345274</td>\n",
       "      <td>-0.146905</td>\n",
       "      <td>-0.038766</td>\n",
       "      <td>-0.685887</td>\n",
       "      <td>1.409304</td>\n",
       "      <td>-0.226541</td>\n",
       "      <td>1.295237</td>\n",
       "      <td>-0.542647</td>\n",
       "      <td>0</td>\n",
       "      <td>0</td>\n",
       "      <td>0</td>\n",
       "      <td>0</td>\n",
       "      <td>1</td>\n",
       "      <td>0</td>\n",
       "      <td>0</td>\n",
       "      <td>0</td>\n",
       "      <td>0</td>\n",
       "      <td>1</td>\n",
       "      <td>False</td>\n",
       "    </tr>\n",
       "    <tr>\n",
       "      <th>6182</th>\n",
       "      <td>1.268149</td>\n",
       "      <td>1</td>\n",
       "      <td>0</td>\n",
       "      <td>2020-10-02</td>\n",
       "      <td>-0.798086</td>\n",
       "      <td>-0.870479</td>\n",
       "      <td>-0.560857</td>\n",
       "      <td>-0.651187</td>\n",
       "      <td>-0.503974</td>\n",
       "      <td>-0.583043</td>\n",
       "      <td>-0.748179</td>\n",
       "      <td>-0.168236</td>\n",
       "      <td>-0.750450</td>\n",
       "      <td>-0.910898</td>\n",
       "      <td>-0.550785</td>\n",
       "      <td>0.281720</td>\n",
       "      <td>0</td>\n",
       "      <td>0</td>\n",
       "      <td>0</td>\n",
       "      <td>0</td>\n",
       "      <td>1</td>\n",
       "      <td>0</td>\n",
       "      <td>0</td>\n",
       "      <td>0</td>\n",
       "      <td>0</td>\n",
       "      <td>1</td>\n",
       "      <td>True</td>\n",
       "    </tr>\n",
       "    <tr>\n",
       "      <th>5324</th>\n",
       "      <td>1.017761</td>\n",
       "      <td>1</td>\n",
       "      <td>0</td>\n",
       "      <td>2020-01-19</td>\n",
       "      <td>1.550305</td>\n",
       "      <td>-0.389085</td>\n",
       "      <td>0.419916</td>\n",
       "      <td>-0.216914</td>\n",
       "      <td>0.155164</td>\n",
       "      <td>-0.001525</td>\n",
       "      <td>-0.556446</td>\n",
       "      <td>1.384715</td>\n",
       "      <td>0.329427</td>\n",
       "      <td>0.115638</td>\n",
       "      <td>0.064556</td>\n",
       "      <td>-0.130463</td>\n",
       "      <td>0</td>\n",
       "      <td>0</td>\n",
       "      <td>0</td>\n",
       "      <td>0</td>\n",
       "      <td>0</td>\n",
       "      <td>0</td>\n",
       "      <td>1</td>\n",
       "      <td>1</td>\n",
       "      <td>0</td>\n",
       "      <td>0</td>\n",
       "      <td>False</td>\n",
       "    </tr>\n",
       "    <tr>\n",
       "      <th>...</th>\n",
       "      <td>...</td>\n",
       "      <td>...</td>\n",
       "      <td>...</td>\n",
       "      <td>...</td>\n",
       "      <td>...</td>\n",
       "      <td>...</td>\n",
       "      <td>...</td>\n",
       "      <td>...</td>\n",
       "      <td>...</td>\n",
       "      <td>...</td>\n",
       "      <td>...</td>\n",
       "      <td>...</td>\n",
       "      <td>...</td>\n",
       "      <td>...</td>\n",
       "      <td>...</td>\n",
       "      <td>...</td>\n",
       "      <td>...</td>\n",
       "      <td>...</td>\n",
       "      <td>...</td>\n",
       "      <td>...</td>\n",
       "      <td>...</td>\n",
       "      <td>...</td>\n",
       "      <td>...</td>\n",
       "      <td>...</td>\n",
       "      <td>...</td>\n",
       "      <td>...</td>\n",
       "      <td>...</td>\n",
       "    </tr>\n",
       "    <tr>\n",
       "      <th>10870</th>\n",
       "      <td>-0.150717</td>\n",
       "      <td>0</td>\n",
       "      <td>1</td>\n",
       "      <td>2019-06-13</td>\n",
       "      <td>-0.107383</td>\n",
       "      <td>1.203678</td>\n",
       "      <td>0.419916</td>\n",
       "      <td>0.066692</td>\n",
       "      <td>0.081926</td>\n",
       "      <td>2.203398</td>\n",
       "      <td>3.891766</td>\n",
       "      <td>-0.168236</td>\n",
       "      <td>1.769263</td>\n",
       "      <td>0.115638</td>\n",
       "      <td>-0.550785</td>\n",
       "      <td>-0.130463</td>\n",
       "      <td>0</td>\n",
       "      <td>0</td>\n",
       "      <td>0</td>\n",
       "      <td>0</td>\n",
       "      <td>1</td>\n",
       "      <td>0</td>\n",
       "      <td>0</td>\n",
       "      <td>1</td>\n",
       "      <td>0</td>\n",
       "      <td>0</td>\n",
       "      <td>False</td>\n",
       "    </tr>\n",
       "    <tr>\n",
       "      <th>4001</th>\n",
       "      <td>-1.903435</td>\n",
       "      <td>2</td>\n",
       "      <td>1</td>\n",
       "      <td>2020-10-06</td>\n",
       "      <td>0.237969</td>\n",
       "      <td>0.303291</td>\n",
       "      <td>-0.661449</td>\n",
       "      <td>-0.606873</td>\n",
       "      <td>-0.687068</td>\n",
       "      <td>-0.655733</td>\n",
       "      <td>-0.690659</td>\n",
       "      <td>2.420015</td>\n",
       "      <td>1.409304</td>\n",
       "      <td>-0.226541</td>\n",
       "      <td>-0.243114</td>\n",
       "      <td>0.693904</td>\n",
       "      <td>0</td>\n",
       "      <td>0</td>\n",
       "      <td>0</td>\n",
       "      <td>0</td>\n",
       "      <td>0</td>\n",
       "      <td>0</td>\n",
       "      <td>1</td>\n",
       "      <td>0</td>\n",
       "      <td>0</td>\n",
       "      <td>1</td>\n",
       "      <td>True</td>\n",
       "    </tr>\n",
       "    <tr>\n",
       "      <th>7270</th>\n",
       "      <td>1.017761</td>\n",
       "      <td>0</td>\n",
       "      <td>0</td>\n",
       "      <td>2020-01-25</td>\n",
       "      <td>1.446700</td>\n",
       "      <td>1.795020</td>\n",
       "      <td>0.545656</td>\n",
       "      <td>0.221789</td>\n",
       "      <td>-0.101168</td>\n",
       "      <td>-0.364974</td>\n",
       "      <td>-0.383886</td>\n",
       "      <td>-0.685887</td>\n",
       "      <td>-0.750450</td>\n",
       "      <td>0.115638</td>\n",
       "      <td>2.218248</td>\n",
       "      <td>0.281720</td>\n",
       "      <td>0</td>\n",
       "      <td>0</td>\n",
       "      <td>0</td>\n",
       "      <td>0</td>\n",
       "      <td>1</td>\n",
       "      <td>0</td>\n",
       "      <td>0</td>\n",
       "      <td>0</td>\n",
       "      <td>1</td>\n",
       "      <td>0</td>\n",
       "      <td>False</td>\n",
       "    </tr>\n",
       "    <tr>\n",
       "      <th>8235</th>\n",
       "      <td>-1.068807</td>\n",
       "      <td>0</td>\n",
       "      <td>1</td>\n",
       "      <td>2020-01-24</td>\n",
       "      <td>-1.419719</td>\n",
       "      <td>0.368666</td>\n",
       "      <td>0.092992</td>\n",
       "      <td>0.208495</td>\n",
       "      <td>0.777683</td>\n",
       "      <td>0.071165</td>\n",
       "      <td>0.325527</td>\n",
       "      <td>-0.168236</td>\n",
       "      <td>0.689386</td>\n",
       "      <td>0.799996</td>\n",
       "      <td>1.295237</td>\n",
       "      <td>-0.954831</td>\n",
       "      <td>0</td>\n",
       "      <td>0</td>\n",
       "      <td>0</td>\n",
       "      <td>0</td>\n",
       "      <td>0</td>\n",
       "      <td>1</td>\n",
       "      <td>0</td>\n",
       "      <td>0</td>\n",
       "      <td>0</td>\n",
       "      <td>1</td>\n",
       "      <td>False</td>\n",
       "    </tr>\n",
       "    <tr>\n",
       "      <th>9405</th>\n",
       "      <td>-1.235733</td>\n",
       "      <td>1</td>\n",
       "      <td>1</td>\n",
       "      <td>2018-10-15</td>\n",
       "      <td>-0.314594</td>\n",
       "      <td>-0.653555</td>\n",
       "      <td>-0.586005</td>\n",
       "      <td>-0.469501</td>\n",
       "      <td>-0.650449</td>\n",
       "      <td>-0.631503</td>\n",
       "      <td>-0.441406</td>\n",
       "      <td>0.349414</td>\n",
       "      <td>-0.390491</td>\n",
       "      <td>-0.568720</td>\n",
       "      <td>-0.550785</td>\n",
       "      <td>0.693904</td>\n",
       "      <td>0</td>\n",
       "      <td>1</td>\n",
       "      <td>0</td>\n",
       "      <td>0</td>\n",
       "      <td>0</td>\n",
       "      <td>0</td>\n",
       "      <td>1</td>\n",
       "      <td>1</td>\n",
       "      <td>0</td>\n",
       "      <td>0</td>\n",
       "      <td>False</td>\n",
       "    </tr>\n",
       "  </tbody>\n",
       "</table>\n",
       "<p>2240 rows × 27 columns</p>\n",
       "</div>"
      ],
      "text/plain": [
       "       Year_Birth  Kidhome  Teenhome Dt_Customer   Recency  MntWines  \\\n",
       "ID                                                                     \n",
       "5524    -0.985345        0         0  2018-04-09  0.307039  0.983781   \n",
       "2174    -1.235733        1         1  2020-08-03 -0.383664 -0.870479   \n",
       "4141    -0.317643        0         0  2019-08-21 -0.798086  0.362723   \n",
       "6182     1.268149        1         0  2020-10-02 -0.798086 -0.870479   \n",
       "5324     1.017761        1         0  2020-01-19  1.550305 -0.389085   \n",
       "...           ...      ...       ...         ...       ...       ...   \n",
       "10870   -0.150717        0         1  2019-06-13 -0.107383  1.203678   \n",
       "4001    -1.903435        2         1  2020-10-06  0.237969  0.303291   \n",
       "7270     1.017761        0         0  2020-01-25  1.446700  1.795020   \n",
       "8235    -1.068807        0         1  2020-01-24 -1.419719  0.368666   \n",
       "9405    -1.235733        1         1  2018-10-15 -0.314594 -0.653555   \n",
       "\n",
       "       MntFruits  MntMeatProducts  MntFishProducts  MntSweetProducts  \\\n",
       "ID                                                                     \n",
       "5524    1.551577         1.679702         2.462147          1.476500   \n",
       "2174   -0.636301        -0.713225        -0.650449         -0.631503   \n",
       "4141    0.570804        -0.177032         1.345274         -0.146905   \n",
       "6182   -0.560857        -0.651187        -0.503974         -0.583043   \n",
       "5324    0.419916        -0.216914         0.155164         -0.001525   \n",
       "...          ...              ...              ...               ...   \n",
       "10870   0.419916         0.066692         0.081926          2.203398   \n",
       "4001   -0.661449        -0.606873        -0.687068         -0.655733   \n",
       "7270    0.545656         0.221789        -0.101168         -0.364974   \n",
       "8235    0.092992         0.208495         0.777683          0.071165   \n",
       "9405   -0.586005        -0.469501        -0.650449         -0.631503   \n",
       "\n",
       "       MntGoldProds  NumDealsPurchases  NumWebPurchases  NumCatalogPurchases  \\\n",
       "ID                                                                             \n",
       "5524       0.843207           0.349414         1.409304             2.510890   \n",
       "2174      -0.729006          -0.168236        -1.110409            -0.568720   \n",
       "4141      -0.038766          -0.685887         1.409304            -0.226541   \n",
       "6182      -0.748179          -0.168236        -0.750450            -0.910898   \n",
       "5324      -0.556446           1.384715         0.329427             0.115638   \n",
       "...             ...                ...              ...                  ...   \n",
       "10870      3.891766          -0.168236         1.769263             0.115638   \n",
       "4001      -0.690659           2.420015         1.409304            -0.226541   \n",
       "7270      -0.383886          -0.685887        -0.750450             0.115638   \n",
       "8235       0.325527          -0.168236         0.689386             0.799996   \n",
       "9405      -0.441406           0.349414        -0.390491            -0.568720   \n",
       "\n",
       "       NumStorePurchases  NumWebVisitsMonth  Complain  AcceptedCmp  \\\n",
       "ID                                                                   \n",
       "5524           -0.550785           0.693904         0            1   \n",
       "2174           -1.166125          -0.130463         0            0   \n",
       "4141            1.295237          -0.542647         0            0   \n",
       "6182           -0.550785           0.281720         0            0   \n",
       "5324            0.064556          -0.130463         0            0   \n",
       "...                  ...                ...       ...          ...   \n",
       "10870          -0.550785          -0.130463         0            0   \n",
       "4001           -0.243114           0.693904         0            0   \n",
       "7270            2.218248           0.281720         0            0   \n",
       "8235            1.295237          -0.954831         0            0   \n",
       "9405           -0.550785           0.693904         0            1   \n",
       "\n",
       "       Education_2n Cycle  Education_Basic  Education_Graduation  \\\n",
       "ID                                                                 \n",
       "5524                    0                0                     1   \n",
       "2174                    0                0                     1   \n",
       "4141                    0                0                     1   \n",
       "6182                    0                0                     1   \n",
       "5324                    0                0                     0   \n",
       "...                   ...              ...                   ...   \n",
       "10870                   0                0                     1   \n",
       "4001                    0                0                     0   \n",
       "7270                    0                0                     1   \n",
       "8235                    0                0                     0   \n",
       "9405                    0                0                     0   \n",
       "\n",
       "       Education_Master  Education_PhD  Marital_Status_Married  \\\n",
       "ID                                                               \n",
       "5524                  0              0                       0   \n",
       "2174                  0              0                       0   \n",
       "4141                  0              0                       0   \n",
       "6182                  0              0                       0   \n",
       "5324                  0              1                       1   \n",
       "...                 ...            ...                     ...   \n",
       "10870                 0              0                       1   \n",
       "4001                  0              1                       0   \n",
       "7270                  0              0                       0   \n",
       "8235                  1              0                       0   \n",
       "9405                  0              1                       1   \n",
       "\n",
       "       Marital_Status_Single  Marital_Status_Together  recent_customer  \n",
       "ID                                                                      \n",
       "5524                       1                        0            False  \n",
       "2174                       1                        0             True  \n",
       "4141                       0                        1            False  \n",
       "6182                       0                        1             True  \n",
       "5324                       0                        0            False  \n",
       "...                      ...                      ...              ...  \n",
       "10870                      0                        0            False  \n",
       "4001                       0                        1             True  \n",
       "7270                       1                        0            False  \n",
       "8235                       0                        1            False  \n",
       "9405                       0                        0            False  \n",
       "\n",
       "[2240 rows x 27 columns]"
      ]
     },
     "execution_count": 95,
     "metadata": {},
     "output_type": "execute_result"
    }
   ],
   "source": [
    "data_pp"
   ]
  },
  {
   "cell_type": "code",
   "execution_count": 96,
   "metadata": {},
   "outputs": [],
   "source": [
    "data_pp.drop(labels='Dt_Customer', inplace=True, axis=1)"
   ]
  },
  {
   "cell_type": "code",
   "execution_count": 97,
   "metadata": {},
   "outputs": [
    {
     "data": {
      "text/plain": [
       "False    2059\n",
       "True      181\n",
       "Name: recent_customer, dtype: int64"
      ]
     },
     "execution_count": 97,
     "metadata": {},
     "output_type": "execute_result"
    }
   ],
   "source": [
    "data_pp.recent_customer.value_counts()"
   ]
  },
  {
   "cell_type": "code",
   "execution_count": null,
   "metadata": {},
   "outputs": [],
   "source": []
  },
  {
   "cell_type": "markdown",
   "metadata": {},
   "source": [
    "### Q4.4\n",
    "\n",
    "To check the effects of the modification, train the logistic regression with an optimal C. What is the f1 score now?"
   ]
  },
  {
   "cell_type": "code",
   "execution_count": 98,
   "metadata": {},
   "outputs": [
    {
     "data": {
      "text/html": [
       "<div>\n",
       "<style scoped>\n",
       "    .dataframe tbody tr th:only-of-type {\n",
       "        vertical-align: middle;\n",
       "    }\n",
       "\n",
       "    .dataframe tbody tr th {\n",
       "        vertical-align: top;\n",
       "    }\n",
       "\n",
       "    .dataframe thead th {\n",
       "        text-align: right;\n",
       "    }\n",
       "</style>\n",
       "<table border=\"1\" class=\"dataframe\">\n",
       "  <thead>\n",
       "    <tr style=\"text-align: right;\">\n",
       "      <th></th>\n",
       "      <th>Year_Birth</th>\n",
       "      <th>Kidhome</th>\n",
       "      <th>Teenhome</th>\n",
       "      <th>Recency</th>\n",
       "      <th>MntWines</th>\n",
       "      <th>MntFruits</th>\n",
       "      <th>MntMeatProducts</th>\n",
       "      <th>MntFishProducts</th>\n",
       "      <th>MntSweetProducts</th>\n",
       "      <th>MntGoldProds</th>\n",
       "      <th>NumDealsPurchases</th>\n",
       "      <th>NumWebPurchases</th>\n",
       "      <th>NumCatalogPurchases</th>\n",
       "      <th>NumStorePurchases</th>\n",
       "      <th>NumWebVisitsMonth</th>\n",
       "      <th>Complain</th>\n",
       "      <th>AcceptedCmp</th>\n",
       "      <th>Education_2n Cycle</th>\n",
       "      <th>Education_Basic</th>\n",
       "      <th>Education_Graduation</th>\n",
       "      <th>Education_Master</th>\n",
       "      <th>Education_PhD</th>\n",
       "      <th>Marital_Status_Married</th>\n",
       "      <th>Marital_Status_Single</th>\n",
       "      <th>Marital_Status_Together</th>\n",
       "      <th>recent_customer</th>\n",
       "    </tr>\n",
       "    <tr>\n",
       "      <th>ID</th>\n",
       "      <th></th>\n",
       "      <th></th>\n",
       "      <th></th>\n",
       "      <th></th>\n",
       "      <th></th>\n",
       "      <th></th>\n",
       "      <th></th>\n",
       "      <th></th>\n",
       "      <th></th>\n",
       "      <th></th>\n",
       "      <th></th>\n",
       "      <th></th>\n",
       "      <th></th>\n",
       "      <th></th>\n",
       "      <th></th>\n",
       "      <th></th>\n",
       "      <th></th>\n",
       "      <th></th>\n",
       "      <th></th>\n",
       "      <th></th>\n",
       "      <th></th>\n",
       "      <th></th>\n",
       "      <th></th>\n",
       "      <th></th>\n",
       "      <th></th>\n",
       "      <th></th>\n",
       "    </tr>\n",
       "  </thead>\n",
       "  <tbody>\n",
       "    <tr>\n",
       "      <th>5524</th>\n",
       "      <td>-0.985345</td>\n",
       "      <td>0</td>\n",
       "      <td>0</td>\n",
       "      <td>0.307039</td>\n",
       "      <td>0.983781</td>\n",
       "      <td>1.551577</td>\n",
       "      <td>1.679702</td>\n",
       "      <td>2.462147</td>\n",
       "      <td>1.476500</td>\n",
       "      <td>0.843207</td>\n",
       "      <td>0.349414</td>\n",
       "      <td>1.409304</td>\n",
       "      <td>2.510890</td>\n",
       "      <td>-0.550785</td>\n",
       "      <td>0.693904</td>\n",
       "      <td>0</td>\n",
       "      <td>1</td>\n",
       "      <td>0</td>\n",
       "      <td>0</td>\n",
       "      <td>1</td>\n",
       "      <td>0</td>\n",
       "      <td>0</td>\n",
       "      <td>0</td>\n",
       "      <td>1</td>\n",
       "      <td>0</td>\n",
       "      <td>False</td>\n",
       "    </tr>\n",
       "    <tr>\n",
       "      <th>2174</th>\n",
       "      <td>-1.235733</td>\n",
       "      <td>1</td>\n",
       "      <td>1</td>\n",
       "      <td>-0.383664</td>\n",
       "      <td>-0.870479</td>\n",
       "      <td>-0.636301</td>\n",
       "      <td>-0.713225</td>\n",
       "      <td>-0.650449</td>\n",
       "      <td>-0.631503</td>\n",
       "      <td>-0.729006</td>\n",
       "      <td>-0.168236</td>\n",
       "      <td>-1.110409</td>\n",
       "      <td>-0.568720</td>\n",
       "      <td>-1.166125</td>\n",
       "      <td>-0.130463</td>\n",
       "      <td>0</td>\n",
       "      <td>0</td>\n",
       "      <td>0</td>\n",
       "      <td>0</td>\n",
       "      <td>1</td>\n",
       "      <td>0</td>\n",
       "      <td>0</td>\n",
       "      <td>0</td>\n",
       "      <td>1</td>\n",
       "      <td>0</td>\n",
       "      <td>True</td>\n",
       "    </tr>\n",
       "    <tr>\n",
       "      <th>4141</th>\n",
       "      <td>-0.317643</td>\n",
       "      <td>0</td>\n",
       "      <td>0</td>\n",
       "      <td>-0.798086</td>\n",
       "      <td>0.362723</td>\n",
       "      <td>0.570804</td>\n",
       "      <td>-0.177032</td>\n",
       "      <td>1.345274</td>\n",
       "      <td>-0.146905</td>\n",
       "      <td>-0.038766</td>\n",
       "      <td>-0.685887</td>\n",
       "      <td>1.409304</td>\n",
       "      <td>-0.226541</td>\n",
       "      <td>1.295237</td>\n",
       "      <td>-0.542647</td>\n",
       "      <td>0</td>\n",
       "      <td>0</td>\n",
       "      <td>0</td>\n",
       "      <td>0</td>\n",
       "      <td>1</td>\n",
       "      <td>0</td>\n",
       "      <td>0</td>\n",
       "      <td>0</td>\n",
       "      <td>0</td>\n",
       "      <td>1</td>\n",
       "      <td>False</td>\n",
       "    </tr>\n",
       "    <tr>\n",
       "      <th>6182</th>\n",
       "      <td>1.268149</td>\n",
       "      <td>1</td>\n",
       "      <td>0</td>\n",
       "      <td>-0.798086</td>\n",
       "      <td>-0.870479</td>\n",
       "      <td>-0.560857</td>\n",
       "      <td>-0.651187</td>\n",
       "      <td>-0.503974</td>\n",
       "      <td>-0.583043</td>\n",
       "      <td>-0.748179</td>\n",
       "      <td>-0.168236</td>\n",
       "      <td>-0.750450</td>\n",
       "      <td>-0.910898</td>\n",
       "      <td>-0.550785</td>\n",
       "      <td>0.281720</td>\n",
       "      <td>0</td>\n",
       "      <td>0</td>\n",
       "      <td>0</td>\n",
       "      <td>0</td>\n",
       "      <td>1</td>\n",
       "      <td>0</td>\n",
       "      <td>0</td>\n",
       "      <td>0</td>\n",
       "      <td>0</td>\n",
       "      <td>1</td>\n",
       "      <td>True</td>\n",
       "    </tr>\n",
       "    <tr>\n",
       "      <th>5324</th>\n",
       "      <td>1.017761</td>\n",
       "      <td>1</td>\n",
       "      <td>0</td>\n",
       "      <td>1.550305</td>\n",
       "      <td>-0.389085</td>\n",
       "      <td>0.419916</td>\n",
       "      <td>-0.216914</td>\n",
       "      <td>0.155164</td>\n",
       "      <td>-0.001525</td>\n",
       "      <td>-0.556446</td>\n",
       "      <td>1.384715</td>\n",
       "      <td>0.329427</td>\n",
       "      <td>0.115638</td>\n",
       "      <td>0.064556</td>\n",
       "      <td>-0.130463</td>\n",
       "      <td>0</td>\n",
       "      <td>0</td>\n",
       "      <td>0</td>\n",
       "      <td>0</td>\n",
       "      <td>0</td>\n",
       "      <td>0</td>\n",
       "      <td>1</td>\n",
       "      <td>1</td>\n",
       "      <td>0</td>\n",
       "      <td>0</td>\n",
       "      <td>False</td>\n",
       "    </tr>\n",
       "  </tbody>\n",
       "</table>\n",
       "</div>"
      ],
      "text/plain": [
       "      Year_Birth  Kidhome  Teenhome   Recency  MntWines  MntFruits  \\\n",
       "ID                                                                   \n",
       "5524   -0.985345        0         0  0.307039  0.983781   1.551577   \n",
       "2174   -1.235733        1         1 -0.383664 -0.870479  -0.636301   \n",
       "4141   -0.317643        0         0 -0.798086  0.362723   0.570804   \n",
       "6182    1.268149        1         0 -0.798086 -0.870479  -0.560857   \n",
       "5324    1.017761        1         0  1.550305 -0.389085   0.419916   \n",
       "\n",
       "      MntMeatProducts  MntFishProducts  MntSweetProducts  MntGoldProds  \\\n",
       "ID                                                                       \n",
       "5524         1.679702         2.462147          1.476500      0.843207   \n",
       "2174        -0.713225        -0.650449         -0.631503     -0.729006   \n",
       "4141        -0.177032         1.345274         -0.146905     -0.038766   \n",
       "6182        -0.651187        -0.503974         -0.583043     -0.748179   \n",
       "5324        -0.216914         0.155164         -0.001525     -0.556446   \n",
       "\n",
       "      NumDealsPurchases  NumWebPurchases  NumCatalogPurchases  \\\n",
       "ID                                                              \n",
       "5524           0.349414         1.409304             2.510890   \n",
       "2174          -0.168236        -1.110409            -0.568720   \n",
       "4141          -0.685887         1.409304            -0.226541   \n",
       "6182          -0.168236        -0.750450            -0.910898   \n",
       "5324           1.384715         0.329427             0.115638   \n",
       "\n",
       "      NumStorePurchases  NumWebVisitsMonth  Complain  AcceptedCmp  \\\n",
       "ID                                                                  \n",
       "5524          -0.550785           0.693904         0            1   \n",
       "2174          -1.166125          -0.130463         0            0   \n",
       "4141           1.295237          -0.542647         0            0   \n",
       "6182          -0.550785           0.281720         0            0   \n",
       "5324           0.064556          -0.130463         0            0   \n",
       "\n",
       "      Education_2n Cycle  Education_Basic  Education_Graduation  \\\n",
       "ID                                                                \n",
       "5524                   0                0                     1   \n",
       "2174                   0                0                     1   \n",
       "4141                   0                0                     1   \n",
       "6182                   0                0                     1   \n",
       "5324                   0                0                     0   \n",
       "\n",
       "      Education_Master  Education_PhD  Marital_Status_Married  \\\n",
       "ID                                                              \n",
       "5524                 0              0                       0   \n",
       "2174                 0              0                       0   \n",
       "4141                 0              0                       0   \n",
       "6182                 0              0                       0   \n",
       "5324                 0              1                       1   \n",
       "\n",
       "      Marital_Status_Single  Marital_Status_Together  recent_customer  \n",
       "ID                                                                     \n",
       "5524                      1                        0            False  \n",
       "2174                      1                        0             True  \n",
       "4141                      0                        1            False  \n",
       "6182                      0                        1             True  \n",
       "5324                      0                        0            False  "
      ]
     },
     "execution_count": 98,
     "metadata": {},
     "output_type": "execute_result"
    }
   ],
   "source": [
    "data_pp.head()"
   ]
  },
  {
   "cell_type": "code",
   "execution_count": 99,
   "metadata": {},
   "outputs": [],
   "source": [
    "X = data_pp.drop(labels='AcceptedCmp', axis=1)"
   ]
  },
  {
   "cell_type": "code",
   "execution_count": 100,
   "metadata": {},
   "outputs": [],
   "source": [
    "y = data_pp.AcceptedCmp"
   ]
  },
  {
   "cell_type": "code",
   "execution_count": 101,
   "metadata": {},
   "outputs": [],
   "source": [
    "X_train, X_test, y_train, y_test = train_test_split(\n",
    "    X, y,\n",
    "    test_size=.3,\n",
    "    random_state=42,\n",
    "    shuffle=True,\n",
    "    stratify=y,\n",
    ")"
   ]
  },
  {
   "cell_type": "code",
   "execution_count": 102,
   "metadata": {},
   "outputs": [
    {
     "data": {
      "text/plain": [
       "((1568, 25), (672, 25), (1568,), (672,))"
      ]
     },
     "execution_count": 102,
     "metadata": {},
     "output_type": "execute_result"
    }
   ],
   "source": [
    "X_train.shape, X_test.shape, y_train.shape, y_test.shape"
   ]
  },
  {
   "cell_type": "code",
   "execution_count": 103,
   "metadata": {},
   "outputs": [],
   "source": [
    "cv = KFold(n_splits=5, shuffle=True, random_state=42)\n",
    "clf = LogisticRegression(max_iter=5000)"
   ]
  },
  {
   "cell_type": "code",
   "execution_count": 104,
   "metadata": {},
   "outputs": [],
   "source": [
    "paramGrid = {\n",
    "    'C': np.logspace(-1, 3, num=4)\n",
    "}\n",
    "gridSearch = GridSearchCV(clf, param_grid=paramGrid, cv=cv)"
   ]
  },
  {
   "cell_type": "code",
   "execution_count": 105,
   "metadata": {},
   "outputs": [
    {
     "data": {
      "text/plain": [
       "GridSearchCV(cv=KFold(n_splits=5, random_state=42, shuffle=True),\n",
       "             estimator=LogisticRegression(max_iter=5000),\n",
       "             param_grid={'C': array([1.00000000e-01, 2.15443469e+00, 4.64158883e+01, 1.00000000e+03])})"
      ]
     },
     "execution_count": 105,
     "metadata": {},
     "output_type": "execute_result"
    }
   ],
   "source": [
    "gridSearch.fit(X_train, y_train)"
   ]
  },
  {
   "cell_type": "code",
   "execution_count": 106,
   "metadata": {},
   "outputs": [
    {
     "data": {
      "text/plain": [
       "LogisticRegression(C=2.1544346900318834, max_iter=5000)"
      ]
     },
     "execution_count": 106,
     "metadata": {},
     "output_type": "execute_result"
    }
   ],
   "source": [
    "gridSearch.best_estimator_"
   ]
  },
  {
   "cell_type": "code",
   "execution_count": 107,
   "metadata": {},
   "outputs": [
    {
     "data": {
      "text/plain": [
       "0.8667141490812152"
      ]
     },
     "execution_count": 107,
     "metadata": {},
     "output_type": "execute_result"
    }
   ],
   "source": [
    "gridSearch.best_score_"
   ]
  },
  {
   "cell_type": "code",
   "execution_count": 108,
   "metadata": {},
   "outputs": [],
   "source": [
    "clf = gridSearch.best_estimator_"
   ]
  },
  {
   "cell_type": "code",
   "execution_count": 109,
   "metadata": {},
   "outputs": [
    {
     "data": {
      "text/plain": [
       "LogisticRegression(C=2.1544346900318834, max_iter=5000)"
      ]
     },
     "execution_count": 109,
     "metadata": {},
     "output_type": "execute_result"
    }
   ],
   "source": [
    "clf.fit(X_train, y_train)"
   ]
  },
  {
   "cell_type": "code",
   "execution_count": 110,
   "metadata": {},
   "outputs": [
    {
     "data": {
      "text/plain": [
       "0.3835616438356165"
      ]
     },
     "execution_count": 110,
     "metadata": {},
     "output_type": "execute_result"
    }
   ],
   "source": [
    "y_pred = clf.predict(X_test)\n",
    "f1_score(y_test, y_pred)"
   ]
  },
  {
   "cell_type": "markdown",
   "metadata": {},
   "source": [
    "### Q4.5\n",
    "\n",
    "Another popular metric for unbalanced classification tasks is the ROC curve. Train a k-NN and random forest with optimal params and build a roc-curve for both of them on the sample plot. What is the difference between them on FPR 0.7 (approximately)?"
   ]
  },
  {
   "cell_type": "code",
   "execution_count": 111,
   "metadata": {},
   "outputs": [],
   "source": [
    "from sklearn.metrics import roc_curve"
   ]
  },
  {
   "cell_type": "code",
   "execution_count": 112,
   "metadata": {},
   "outputs": [],
   "source": [
    "cv = KFold(n_splits=5, shuffle=True, random_state=42)\n",
    "clfKNN = KNeighborsClassifier()\n",
    "paramGrid = {\n",
    "    'n_neighbors': range(2, 10, 2),\n",
    "    'weights': ['uniform', 'distance'],\n",
    "    'p': [1, 2, np.inf]\n",
    "}\n",
    "gridSearch = GridSearchCV(clfKNN, param_grid=paramGrid, cv=cv)"
   ]
  },
  {
   "cell_type": "code",
   "execution_count": 113,
   "metadata": {},
   "outputs": [
    {
     "data": {
      "text/plain": [
       "GridSearchCV(cv=KFold(n_splits=5, random_state=42, shuffle=True),\n",
       "             estimator=KNeighborsClassifier(),\n",
       "             param_grid={'n_neighbors': range(2, 10, 2), 'p': [1, 2, inf],\n",
       "                         'weights': ['uniform', 'distance']})"
      ]
     },
     "execution_count": 113,
     "metadata": {},
     "output_type": "execute_result"
    }
   ],
   "source": [
    "gridSearch.fit(X_train, y_train)"
   ]
  },
  {
   "cell_type": "code",
   "execution_count": 114,
   "metadata": {},
   "outputs": [
    {
     "name": "stdout",
     "output_type": "stream",
     "text": [
      "KNeighborsClassifier(n_neighbors=8, weights='distance')\n"
     ]
    }
   ],
   "source": [
    "print(gridSearch.best_estimator_)\n",
    "clfKNN = gridSearch.best_estimator_"
   ]
  },
  {
   "cell_type": "code",
   "execution_count": 115,
   "metadata": {},
   "outputs": [
    {
     "data": {
      "text/plain": [
       "KNeighborsClassifier(n_neighbors=8, weights='distance')"
      ]
     },
     "execution_count": 115,
     "metadata": {},
     "output_type": "execute_result"
    }
   ],
   "source": [
    "clfKNN.fit(X_train, y_train)"
   ]
  },
  {
   "cell_type": "code",
   "execution_count": 116,
   "metadata": {},
   "outputs": [],
   "source": [
    "y_pred = clfKNN.predict(X_test)\n",
    "y_prob = clfKNN.predict_proba(X_test)"
   ]
  },
  {
   "cell_type": "code",
   "execution_count": 117,
   "metadata": {},
   "outputs": [
    {
     "data": {
      "text/plain": [
       "array([0, 0, 0, 0, 0], dtype=int64)"
      ]
     },
     "execution_count": 117,
     "metadata": {},
     "output_type": "execute_result"
    }
   ],
   "source": [
    "y_pred[:5]"
   ]
  },
  {
   "cell_type": "code",
   "execution_count": 118,
   "metadata": {},
   "outputs": [
    {
     "data": {
      "text/plain": [
       "array([[0.85050637, 0.14949363],\n",
       "       [0.88174446, 0.11825554],\n",
       "       [0.61818508, 0.38181492],\n",
       "       [1.        , 0.        ],\n",
       "       [0.64527464, 0.35472536]])"
      ]
     },
     "execution_count": 118,
     "metadata": {},
     "output_type": "execute_result"
    }
   ],
   "source": [
    "y_prob[:5]"
   ]
  },
  {
   "cell_type": "code",
   "execution_count": 119,
   "metadata": {},
   "outputs": [],
   "source": [
    "fprKNN, tprKNN, _ = roc_curve(y_test, y_prob[:, 1])"
   ]
  },
  {
   "cell_type": "code",
   "execution_count": 120,
   "metadata": {},
   "outputs": [
    {
     "data": {
      "text/plain": [
       "[<matplotlib.lines.Line2D at 0x158479347c0>]"
      ]
     },
     "execution_count": 120,
     "metadata": {},
     "output_type": "execute_result"
    },
    {
     "data": {
      "image/png": "[encoded data removed]",
      "text/plain": [
       "<Figure size 460.8x403.2 with 1 Axes>"
      ]
     },
     "metadata": {},
     "output_type": "display_data"
    }
   ],
   "source": [
    "plt.plot(fprKNN, tprKNN)"
   ]
  },
  {
   "cell_type": "code",
   "execution_count": null,
   "metadata": {},
   "outputs": [],
   "source": []
  },
  {
   "cell_type": "code",
   "execution_count": 121,
   "metadata": {},
   "outputs": [],
   "source": [
    "cv = KFold(n_splits=5, shuffle=True, random_state=42)\n",
    "clfRandomForest = RandomForestClassifier()\n",
    "paramGrid = {\n",
    "    'n_estimators': range(50, 300, 50),\n",
    "    'max_features': ['auto', 'log2'],\n",
    "}\n",
    "gridSearch = GridSearchCV(clfRandomForest, param_grid=paramGrid, cv=cv)"
   ]
  },
  {
   "cell_type": "code",
   "execution_count": 122,
   "metadata": {},
   "outputs": [
    {
     "data": {
      "text/plain": [
       "GridSearchCV(cv=KFold(n_splits=5, random_state=42, shuffle=True),\n",
       "             estimator=RandomForestClassifier(),\n",
       "             param_grid={'max_features': ['auto', 'log2'],\n",
       "                         'n_estimators': range(50, 300, 50)})"
      ]
     },
     "execution_count": 122,
     "metadata": {},
     "output_type": "execute_result"
    }
   ],
   "source": [
    "gridSearch.fit(X_train, y_train)"
   ]
  },
  {
   "cell_type": "code",
   "execution_count": 123,
   "metadata": {},
   "outputs": [
    {
     "name": "stdout",
     "output_type": "stream",
     "text": [
      "RandomForestClassifier(n_estimators=50)\n"
     ]
    }
   ],
   "source": [
    "print(gridSearch.best_estimator_)\n",
    "clfRandomForest = gridSearch.best_estimator_"
   ]
  },
  {
   "cell_type": "code",
   "execution_count": 124,
   "metadata": {},
   "outputs": [
    {
     "data": {
      "text/plain": [
       "RandomForestClassifier(n_estimators=50)"
      ]
     },
     "execution_count": 124,
     "metadata": {},
     "output_type": "execute_result"
    }
   ],
   "source": [
    "clfRandomForest.fit(X_train, y_train)"
   ]
  },
  {
   "cell_type": "code",
   "execution_count": 125,
   "metadata": {},
   "outputs": [],
   "source": [
    "y_prob = clfRandomForest.predict_proba(X_test)\n",
    "fprRandomForest, tprRandomForest, _ = roc_curve(y_test, y_prob[:, 1])"
   ]
  },
  {
   "cell_type": "code",
   "execution_count": 126,
   "metadata": {},
   "outputs": [
    {
     "data": {
      "text/plain": [
       "[<matplotlib.lines.Line2D at 0x15848cbfca0>]"
      ]
     },
     "execution_count": 126,
     "metadata": {},
     "output_type": "execute_result"
    },
    {
     "data": {
      "image/png": "[encoded data removed]",
      "text/plain": [
       "<Figure size 460.8x403.2 with 1 Axes>"
      ]
     },
     "metadata": {},
     "output_type": "display_data"
    }
   ],
   "source": [
    "plt.plot(fprRandomForest, tprRandomForest)"
   ]
  },
  {
   "cell_type": "code",
   "execution_count": 127,
   "metadata": {},
   "outputs": [
    {
     "data": {
      "image/png": "[encoded data removed]",
      "text/plain": [
       "<Figure size 460.8x403.2 with 1 Axes>"
      ]
     },
     "metadata": {},
     "output_type": "display_data"
    }
   ],
   "source": [
    "plt.plot(fprKNN, tprKNN, label='KNN')\n",
    "plt.plot(fprRandomForest, tprRandomForest, label='Random Forest')\n",
    "plt.legend();"
   ]
  },
  {
   "cell_type": "code",
   "execution_count": 128,
   "metadata": {},
   "outputs": [
    {
     "data": {
      "text/plain": [
       "(110,)"
      ]
     },
     "execution_count": 128,
     "metadata": {},
     "output_type": "execute_result"
    }
   ],
   "source": [
    "tprKNN.shape"
   ]
  },
  {
   "cell_type": "code",
   "execution_count": null,
   "metadata": {},
   "outputs": [],
   "source": []
  },
  {
   "cell_type": "code",
   "execution_count": null,
   "metadata": {},
   "outputs": [],
   "source": []
  },
  {
   "cell_type": "markdown",
   "metadata": {},
   "source": [
    "### Q5.1 (2 points)\n",
    "\n",
    "Propose two derivative features and retrain one of the models with them. What is the performance?"
   ]
  },
  {
   "cell_type": "code",
   "execution_count": 129,
   "metadata": {},
   "outputs": [],
   "source": [
    "X_train = X_train.copy()"
   ]
  },
  {
   "cell_type": "code",
   "execution_count": 130,
   "metadata": {},
   "outputs": [],
   "source": [
    "X_train['KidsTotal'] = X_train.Kidhome + X_train.Teenhome"
   ]
  },
  {
   "cell_type": "code",
   "execution_count": 131,
   "metadata": {},
   "outputs": [
    {
     "data": {
      "text/html": [
       "<div>\n",
       "<style scoped>\n",
       "    .dataframe tbody tr th:only-of-type {\n",
       "        vertical-align: middle;\n",
       "    }\n",
       "\n",
       "    .dataframe tbody tr th {\n",
       "        vertical-align: top;\n",
       "    }\n",
       "\n",
       "    .dataframe thead th {\n",
       "        text-align: right;\n",
       "    }\n",
       "</style>\n",
       "<table border=\"1\" class=\"dataframe\">\n",
       "  <thead>\n",
       "    <tr style=\"text-align: right;\">\n",
       "      <th></th>\n",
       "      <th>Year_Birth</th>\n",
       "      <th>Kidhome</th>\n",
       "      <th>Teenhome</th>\n",
       "      <th>Recency</th>\n",
       "      <th>MntWines</th>\n",
       "      <th>MntFruits</th>\n",
       "      <th>MntMeatProducts</th>\n",
       "      <th>MntFishProducts</th>\n",
       "      <th>MntSweetProducts</th>\n",
       "      <th>MntGoldProds</th>\n",
       "      <th>NumDealsPurchases</th>\n",
       "      <th>NumWebPurchases</th>\n",
       "      <th>NumCatalogPurchases</th>\n",
       "      <th>NumStorePurchases</th>\n",
       "      <th>NumWebVisitsMonth</th>\n",
       "      <th>Complain</th>\n",
       "      <th>Education_2n Cycle</th>\n",
       "      <th>Education_Basic</th>\n",
       "      <th>Education_Graduation</th>\n",
       "      <th>Education_Master</th>\n",
       "      <th>Education_PhD</th>\n",
       "      <th>Marital_Status_Married</th>\n",
       "      <th>Marital_Status_Single</th>\n",
       "      <th>Marital_Status_Together</th>\n",
       "      <th>recent_customer</th>\n",
       "      <th>KidsTotal</th>\n",
       "    </tr>\n",
       "    <tr>\n",
       "      <th>ID</th>\n",
       "      <th></th>\n",
       "      <th></th>\n",
       "      <th></th>\n",
       "      <th></th>\n",
       "      <th></th>\n",
       "      <th></th>\n",
       "      <th></th>\n",
       "      <th></th>\n",
       "      <th></th>\n",
       "      <th></th>\n",
       "      <th></th>\n",
       "      <th></th>\n",
       "      <th></th>\n",
       "      <th></th>\n",
       "      <th></th>\n",
       "      <th></th>\n",
       "      <th></th>\n",
       "      <th></th>\n",
       "      <th></th>\n",
       "      <th></th>\n",
       "      <th></th>\n",
       "      <th></th>\n",
       "      <th></th>\n",
       "      <th></th>\n",
       "      <th></th>\n",
       "      <th></th>\n",
       "    </tr>\n",
       "  </thead>\n",
       "  <tbody>\n",
       "    <tr>\n",
       "      <th>10821</th>\n",
       "      <td>0.767373</td>\n",
       "      <td>1</td>\n",
       "      <td>1</td>\n",
       "      <td>-0.141918</td>\n",
       "      <td>-0.362341</td>\n",
       "      <td>-0.560857</td>\n",
       "      <td>-0.593579</td>\n",
       "      <td>-0.687068</td>\n",
       "      <td>-0.607273</td>\n",
       "      <td>-0.038766</td>\n",
       "      <td>1.902365</td>\n",
       "      <td>-0.030532</td>\n",
       "      <td>-0.568720</td>\n",
       "      <td>-0.243114</td>\n",
       "      <td>0.693904</td>\n",
       "      <td>0</td>\n",
       "      <td>0</td>\n",
       "      <td>0</td>\n",
       "      <td>1</td>\n",
       "      <td>0</td>\n",
       "      <td>0</td>\n",
       "      <td>1</td>\n",
       "      <td>0</td>\n",
       "      <td>0</td>\n",
       "      <td>False</td>\n",
       "      <td>2</td>\n",
       "    </tr>\n",
       "    <tr>\n",
       "      <th>5680</th>\n",
       "      <td>1.268149</td>\n",
       "      <td>1</td>\n",
       "      <td>0</td>\n",
       "      <td>0.583321</td>\n",
       "      <td>-0.873451</td>\n",
       "      <td>-0.560857</td>\n",
       "      <td>-0.708794</td>\n",
       "      <td>-0.687068</td>\n",
       "      <td>-0.510354</td>\n",
       "      <td>-0.786526</td>\n",
       "      <td>-0.685887</td>\n",
       "      <td>-1.110409</td>\n",
       "      <td>-0.910898</td>\n",
       "      <td>-0.858455</td>\n",
       "      <td>0.281720</td>\n",
       "      <td>0</td>\n",
       "      <td>1</td>\n",
       "      <td>0</td>\n",
       "      <td>0</td>\n",
       "      <td>0</td>\n",
       "      <td>0</td>\n",
       "      <td>1</td>\n",
       "      <td>0</td>\n",
       "      <td>0</td>\n",
       "      <td>False</td>\n",
       "      <td>1</td>\n",
       "    </tr>\n",
       "    <tr>\n",
       "      <th>4084</th>\n",
       "      <td>0.516985</td>\n",
       "      <td>0</td>\n",
       "      <td>1</td>\n",
       "      <td>-0.280059</td>\n",
       "      <td>-0.237535</td>\n",
       "      <td>3.236495</td>\n",
       "      <td>-0.052955</td>\n",
       "      <td>2.828335</td>\n",
       "      <td>1.597650</td>\n",
       "      <td>0.191314</td>\n",
       "      <td>-0.168236</td>\n",
       "      <td>0.689386</td>\n",
       "      <td>0.457817</td>\n",
       "      <td>1.602907</td>\n",
       "      <td>-0.542647</td>\n",
       "      <td>0</td>\n",
       "      <td>0</td>\n",
       "      <td>0</td>\n",
       "      <td>1</td>\n",
       "      <td>0</td>\n",
       "      <td>0</td>\n",
       "      <td>0</td>\n",
       "      <td>0</td>\n",
       "      <td>1</td>\n",
       "      <td>False</td>\n",
       "      <td>1</td>\n",
       "    </tr>\n",
       "    <tr>\n",
       "      <th>6983</th>\n",
       "      <td>-1.569584</td>\n",
       "      <td>1</td>\n",
       "      <td>1</td>\n",
       "      <td>-0.867157</td>\n",
       "      <td>-0.834821</td>\n",
       "      <td>-0.611153</td>\n",
       "      <td>-0.664481</td>\n",
       "      <td>-0.650449</td>\n",
       "      <td>-0.631503</td>\n",
       "      <td>-0.844046</td>\n",
       "      <td>-0.168236</td>\n",
       "      <td>-0.750450</td>\n",
       "      <td>-0.910898</td>\n",
       "      <td>-0.858455</td>\n",
       "      <td>0.693904</td>\n",
       "      <td>0</td>\n",
       "      <td>0</td>\n",
       "      <td>0</td>\n",
       "      <td>0</td>\n",
       "      <td>1</td>\n",
       "      <td>0</td>\n",
       "      <td>0</td>\n",
       "      <td>1</td>\n",
       "      <td>0</td>\n",
       "      <td>False</td>\n",
       "      <td>2</td>\n",
       "    </tr>\n",
       "    <tr>\n",
       "      <th>8233</th>\n",
       "      <td>-1.569584</td>\n",
       "      <td>0</td>\n",
       "      <td>1</td>\n",
       "      <td>-1.385184</td>\n",
       "      <td>0.606392</td>\n",
       "      <td>-0.535709</td>\n",
       "      <td>-0.646755</td>\n",
       "      <td>-0.558902</td>\n",
       "      <td>-0.534583</td>\n",
       "      <td>-0.652312</td>\n",
       "      <td>0.867064</td>\n",
       "      <td>1.049345</td>\n",
       "      <td>0.115638</td>\n",
       "      <td>0.372226</td>\n",
       "      <td>-0.130463</td>\n",
       "      <td>0</td>\n",
       "      <td>0</td>\n",
       "      <td>0</td>\n",
       "      <td>0</td>\n",
       "      <td>1</td>\n",
       "      <td>0</td>\n",
       "      <td>0</td>\n",
       "      <td>1</td>\n",
       "      <td>0</td>\n",
       "      <td>False</td>\n",
       "      <td>1</td>\n",
       "    </tr>\n",
       "  </tbody>\n",
       "</table>\n",
       "</div>"
      ],
      "text/plain": [
       "       Year_Birth  Kidhome  Teenhome   Recency  MntWines  MntFruits  \\\n",
       "ID                                                                    \n",
       "10821    0.767373        1         1 -0.141918 -0.362341  -0.560857   \n",
       "5680     1.268149        1         0  0.583321 -0.873451  -0.560857   \n",
       "4084     0.516985        0         1 -0.280059 -0.237535   3.236495   \n",
       "6983    -1.569584        1         1 -0.867157 -0.834821  -0.611153   \n",
       "8233    -1.569584        0         1 -1.385184  0.606392  -0.535709   \n",
       "\n",
       "       MntMeatProducts  MntFishProducts  MntSweetProducts  MntGoldProds  \\\n",
       "ID                                                                        \n",
       "10821        -0.593579        -0.687068         -0.607273     -0.038766   \n",
       "5680         -0.708794        -0.687068         -0.510354     -0.786526   \n",
       "4084         -0.052955         2.828335          1.597650      0.191314   \n",
       "6983         -0.664481        -0.650449         -0.631503     -0.844046   \n",
       "8233         -0.646755        -0.558902         -0.534583     -0.652312   \n",
       "\n",
       "       NumDealsPurchases  NumWebPurchases  NumCatalogPurchases  \\\n",
       "ID                                                               \n",
       "10821           1.902365        -0.030532            -0.568720   \n",
       "5680           -0.685887        -1.110409            -0.910898   \n",
       "4084           -0.168236         0.689386             0.457817   \n",
       "6983           -0.168236        -0.750450            -0.910898   \n",
       "8233            0.867064         1.049345             0.115638   \n",
       "\n",
       "       NumStorePurchases  NumWebVisitsMonth  Complain  Education_2n Cycle  \\\n",
       "ID                                                                          \n",
       "10821          -0.243114           0.693904         0                   0   \n",
       "5680           -0.858455           0.281720         0                   1   \n",
       "4084            1.602907          -0.542647         0                   0   \n",
       "6983           -0.858455           0.693904         0                   0   \n",
       "8233            0.372226          -0.130463         0                   0   \n",
       "\n",
       "       Education_Basic  Education_Graduation  Education_Master  Education_PhD  \\\n",
       "ID                                                                              \n",
       "10821                0                     1                 0              0   \n",
       "5680                 0                     0                 0              0   \n",
       "4084                 0                     1                 0              0   \n",
       "6983                 0                     0                 1              0   \n",
       "8233                 0                     0                 1              0   \n",
       "\n",
       "       Marital_Status_Married  Marital_Status_Single  Marital_Status_Together  \\\n",
       "ID                                                                              \n",
       "10821                       1                      0                        0   \n",
       "5680                        1                      0                        0   \n",
       "4084                        0                      0                        1   \n",
       "6983                        0                      1                        0   \n",
       "8233                        0                      1                        0   \n",
       "\n",
       "       recent_customer  KidsTotal  \n",
       "ID                                 \n",
       "10821            False          2  \n",
       "5680             False          1  \n",
       "4084             False          1  \n",
       "6983             False          2  \n",
       "8233             False          1  "
      ]
     },
     "execution_count": 131,
     "metadata": {},
     "output_type": "execute_result"
    }
   ],
   "source": [
    "X_train.head()"
   ]
  },
  {
   "cell_type": "code",
   "execution_count": 132,
   "metadata": {},
   "outputs": [],
   "source": [
    "# Was there any activity recently? Or he just vanished one day?\n",
    "X_train['Recent_Activity'] =\\\n",
    "    (X_train.Recency > X_train.Recency.mean()) |\\\n",
    "    X_train.Complain |\\\n",
    "    X_train.recent_customer"
   ]
  },
  {
   "cell_type": "code",
   "execution_count": 133,
   "metadata": {},
   "outputs": [
    {
     "data": {
      "text/html": [
       "<div>\n",
       "<style scoped>\n",
       "    .dataframe tbody tr th:only-of-type {\n",
       "        vertical-align: middle;\n",
       "    }\n",
       "\n",
       "    .dataframe tbody tr th {\n",
       "        vertical-align: top;\n",
       "    }\n",
       "\n",
       "    .dataframe thead th {\n",
       "        text-align: right;\n",
       "    }\n",
       "</style>\n",
       "<table border=\"1\" class=\"dataframe\">\n",
       "  <thead>\n",
       "    <tr style=\"text-align: right;\">\n",
       "      <th></th>\n",
       "      <th>Year_Birth</th>\n",
       "      <th>Kidhome</th>\n",
       "      <th>Teenhome</th>\n",
       "      <th>Recency</th>\n",
       "      <th>MntWines</th>\n",
       "      <th>MntFruits</th>\n",
       "      <th>MntMeatProducts</th>\n",
       "      <th>MntFishProducts</th>\n",
       "      <th>MntSweetProducts</th>\n",
       "      <th>MntGoldProds</th>\n",
       "      <th>NumDealsPurchases</th>\n",
       "      <th>NumWebPurchases</th>\n",
       "      <th>NumCatalogPurchases</th>\n",
       "      <th>NumStorePurchases</th>\n",
       "      <th>NumWebVisitsMonth</th>\n",
       "      <th>Complain</th>\n",
       "      <th>Education_2n Cycle</th>\n",
       "      <th>Education_Basic</th>\n",
       "      <th>Education_Graduation</th>\n",
       "      <th>Education_Master</th>\n",
       "      <th>Education_PhD</th>\n",
       "      <th>Marital_Status_Married</th>\n",
       "      <th>Marital_Status_Single</th>\n",
       "      <th>Marital_Status_Together</th>\n",
       "      <th>recent_customer</th>\n",
       "      <th>KidsTotal</th>\n",
       "      <th>Recent_Activity</th>\n",
       "    </tr>\n",
       "    <tr>\n",
       "      <th>ID</th>\n",
       "      <th></th>\n",
       "      <th></th>\n",
       "      <th></th>\n",
       "      <th></th>\n",
       "      <th></th>\n",
       "      <th></th>\n",
       "      <th></th>\n",
       "      <th></th>\n",
       "      <th></th>\n",
       "      <th></th>\n",
       "      <th></th>\n",
       "      <th></th>\n",
       "      <th></th>\n",
       "      <th></th>\n",
       "      <th></th>\n",
       "      <th></th>\n",
       "      <th></th>\n",
       "      <th></th>\n",
       "      <th></th>\n",
       "      <th></th>\n",
       "      <th></th>\n",
       "      <th></th>\n",
       "      <th></th>\n",
       "      <th></th>\n",
       "      <th></th>\n",
       "      <th></th>\n",
       "      <th></th>\n",
       "    </tr>\n",
       "  </thead>\n",
       "  <tbody>\n",
       "    <tr>\n",
       "      <th>10821</th>\n",
       "      <td>0.767373</td>\n",
       "      <td>1</td>\n",
       "      <td>1</td>\n",
       "      <td>-0.141918</td>\n",
       "      <td>-0.362341</td>\n",
       "      <td>-0.560857</td>\n",
       "      <td>-0.593579</td>\n",
       "      <td>-0.687068</td>\n",
       "      <td>-0.607273</td>\n",
       "      <td>-0.038766</td>\n",
       "      <td>1.902365</td>\n",
       "      <td>-0.030532</td>\n",
       "      <td>-0.568720</td>\n",
       "      <td>-0.243114</td>\n",
       "      <td>0.693904</td>\n",
       "      <td>0</td>\n",
       "      <td>0</td>\n",
       "      <td>0</td>\n",
       "      <td>1</td>\n",
       "      <td>0</td>\n",
       "      <td>0</td>\n",
       "      <td>1</td>\n",
       "      <td>0</td>\n",
       "      <td>0</td>\n",
       "      <td>False</td>\n",
       "      <td>2</td>\n",
       "      <td>False</td>\n",
       "    </tr>\n",
       "    <tr>\n",
       "      <th>5680</th>\n",
       "      <td>1.268149</td>\n",
       "      <td>1</td>\n",
       "      <td>0</td>\n",
       "      <td>0.583321</td>\n",
       "      <td>-0.873451</td>\n",
       "      <td>-0.560857</td>\n",
       "      <td>-0.708794</td>\n",
       "      <td>-0.687068</td>\n",
       "      <td>-0.510354</td>\n",
       "      <td>-0.786526</td>\n",
       "      <td>-0.685887</td>\n",
       "      <td>-1.110409</td>\n",
       "      <td>-0.910898</td>\n",
       "      <td>-0.858455</td>\n",
       "      <td>0.281720</td>\n",
       "      <td>0</td>\n",
       "      <td>1</td>\n",
       "      <td>0</td>\n",
       "      <td>0</td>\n",
       "      <td>0</td>\n",
       "      <td>0</td>\n",
       "      <td>1</td>\n",
       "      <td>0</td>\n",
       "      <td>0</td>\n",
       "      <td>False</td>\n",
       "      <td>1</td>\n",
       "      <td>True</td>\n",
       "    </tr>\n",
       "    <tr>\n",
       "      <th>4084</th>\n",
       "      <td>0.516985</td>\n",
       "      <td>0</td>\n",
       "      <td>1</td>\n",
       "      <td>-0.280059</td>\n",
       "      <td>-0.237535</td>\n",
       "      <td>3.236495</td>\n",
       "      <td>-0.052955</td>\n",
       "      <td>2.828335</td>\n",
       "      <td>1.597650</td>\n",
       "      <td>0.191314</td>\n",
       "      <td>-0.168236</td>\n",
       "      <td>0.689386</td>\n",
       "      <td>0.457817</td>\n",
       "      <td>1.602907</td>\n",
       "      <td>-0.542647</td>\n",
       "      <td>0</td>\n",
       "      <td>0</td>\n",
       "      <td>0</td>\n",
       "      <td>1</td>\n",
       "      <td>0</td>\n",
       "      <td>0</td>\n",
       "      <td>0</td>\n",
       "      <td>0</td>\n",
       "      <td>1</td>\n",
       "      <td>False</td>\n",
       "      <td>1</td>\n",
       "      <td>False</td>\n",
       "    </tr>\n",
       "    <tr>\n",
       "      <th>6983</th>\n",
       "      <td>-1.569584</td>\n",
       "      <td>1</td>\n",
       "      <td>1</td>\n",
       "      <td>-0.867157</td>\n",
       "      <td>-0.834821</td>\n",
       "      <td>-0.611153</td>\n",
       "      <td>-0.664481</td>\n",
       "      <td>-0.650449</td>\n",
       "      <td>-0.631503</td>\n",
       "      <td>-0.844046</td>\n",
       "      <td>-0.168236</td>\n",
       "      <td>-0.750450</td>\n",
       "      <td>-0.910898</td>\n",
       "      <td>-0.858455</td>\n",
       "      <td>0.693904</td>\n",
       "      <td>0</td>\n",
       "      <td>0</td>\n",
       "      <td>0</td>\n",
       "      <td>0</td>\n",
       "      <td>1</td>\n",
       "      <td>0</td>\n",
       "      <td>0</td>\n",
       "      <td>1</td>\n",
       "      <td>0</td>\n",
       "      <td>False</td>\n",
       "      <td>2</td>\n",
       "      <td>False</td>\n",
       "    </tr>\n",
       "    <tr>\n",
       "      <th>8233</th>\n",
       "      <td>-1.569584</td>\n",
       "      <td>0</td>\n",
       "      <td>1</td>\n",
       "      <td>-1.385184</td>\n",
       "      <td>0.606392</td>\n",
       "      <td>-0.535709</td>\n",
       "      <td>-0.646755</td>\n",
       "      <td>-0.558902</td>\n",
       "      <td>-0.534583</td>\n",
       "      <td>-0.652312</td>\n",
       "      <td>0.867064</td>\n",
       "      <td>1.049345</td>\n",
       "      <td>0.115638</td>\n",
       "      <td>0.372226</td>\n",
       "      <td>-0.130463</td>\n",
       "      <td>0</td>\n",
       "      <td>0</td>\n",
       "      <td>0</td>\n",
       "      <td>0</td>\n",
       "      <td>1</td>\n",
       "      <td>0</td>\n",
       "      <td>0</td>\n",
       "      <td>1</td>\n",
       "      <td>0</td>\n",
       "      <td>False</td>\n",
       "      <td>1</td>\n",
       "      <td>False</td>\n",
       "    </tr>\n",
       "  </tbody>\n",
       "</table>\n",
       "</div>"
      ],
      "text/plain": [
       "       Year_Birth  Kidhome  Teenhome   Recency  MntWines  MntFruits  \\\n",
       "ID                                                                    \n",
       "10821    0.767373        1         1 -0.141918 -0.362341  -0.560857   \n",
       "5680     1.268149        1         0  0.583321 -0.873451  -0.560857   \n",
       "4084     0.516985        0         1 -0.280059 -0.237535   3.236495   \n",
       "6983    -1.569584        1         1 -0.867157 -0.834821  -0.611153   \n",
       "8233    -1.569584        0         1 -1.385184  0.606392  -0.535709   \n",
       "\n",
       "       MntMeatProducts  MntFishProducts  MntSweetProducts  MntGoldProds  \\\n",
       "ID                                                                        \n",
       "10821        -0.593579        -0.687068         -0.607273     -0.038766   \n",
       "5680         -0.708794        -0.687068         -0.510354     -0.786526   \n",
       "4084         -0.052955         2.828335          1.597650      0.191314   \n",
       "6983         -0.664481        -0.650449         -0.631503     -0.844046   \n",
       "8233         -0.646755        -0.558902         -0.534583     -0.652312   \n",
       "\n",
       "       NumDealsPurchases  NumWebPurchases  NumCatalogPurchases  \\\n",
       "ID                                                               \n",
       "10821           1.902365        -0.030532            -0.568720   \n",
       "5680           -0.685887        -1.110409            -0.910898   \n",
       "4084           -0.168236         0.689386             0.457817   \n",
       "6983           -0.168236        -0.750450            -0.910898   \n",
       "8233            0.867064         1.049345             0.115638   \n",
       "\n",
       "       NumStorePurchases  NumWebVisitsMonth  Complain  Education_2n Cycle  \\\n",
       "ID                                                                          \n",
       "10821          -0.243114           0.693904         0                   0   \n",
       "5680           -0.858455           0.281720         0                   1   \n",
       "4084            1.602907          -0.542647         0                   0   \n",
       "6983           -0.858455           0.693904         0                   0   \n",
       "8233            0.372226          -0.130463         0                   0   \n",
       "\n",
       "       Education_Basic  Education_Graduation  Education_Master  Education_PhD  \\\n",
       "ID                                                                              \n",
       "10821                0                     1                 0              0   \n",
       "5680                 0                     0                 0              0   \n",
       "4084                 0                     1                 0              0   \n",
       "6983                 0                     0                 1              0   \n",
       "8233                 0                     0                 1              0   \n",
       "\n",
       "       Marital_Status_Married  Marital_Status_Single  Marital_Status_Together  \\\n",
       "ID                                                                              \n",
       "10821                       1                      0                        0   \n",
       "5680                        1                      0                        0   \n",
       "4084                        0                      0                        1   \n",
       "6983                        0                      1                        0   \n",
       "8233                        0                      1                        0   \n",
       "\n",
       "       recent_customer  KidsTotal  Recent_Activity  \n",
       "ID                                                  \n",
       "10821            False          2            False  \n",
       "5680             False          1             True  \n",
       "4084             False          1            False  \n",
       "6983             False          2            False  \n",
       "8233             False          1            False  "
      ]
     },
     "execution_count": 133,
     "metadata": {},
     "output_type": "execute_result"
    }
   ],
   "source": [
    "X_train.head()"
   ]
  },
  {
   "cell_type": "code",
   "execution_count": 134,
   "metadata": {},
   "outputs": [],
   "source": [
    "X_test = X_test.copy()"
   ]
  },
  {
   "cell_type": "code",
   "execution_count": 135,
   "metadata": {},
   "outputs": [],
   "source": [
    "X_test['KidsTotal'] = X_test.Kidhome + X_test.Teenhome"
   ]
  },
  {
   "cell_type": "code",
   "execution_count": 136,
   "metadata": {},
   "outputs": [],
   "source": [
    "X_test['Recent_Activity'] =\\\n",
    "    (X_test.Recency > X_test.Recency.mean()) |\\\n",
    "    X_test.Complain |\\\n",
    "    X_test.recent_customer"
   ]
  },
  {
   "cell_type": "markdown",
   "metadata": {
    "tags": []
   },
   "source": [
    "### Q5.2\n",
    "\n",
    "Train an xboost model with f1 score 0.47+"
   ]
  },
  {
   "cell_type": "code",
   "execution_count": 1,
   "metadata": {},
   "outputs": [],
   "source": [
    "import xgboost as xgb"
   ]
  },
  {
   "cell_type": "code",
   "execution_count": 147,
   "metadata": {},
   "outputs": [],
   "source": [
    "dataDM = xgb.DMatrix(X_train, label=y_train)"
   ]
  },
  {
   "cell_type": "code",
   "execution_count": 184,
   "metadata": {},
   "outputs": [],
   "source": [
    "xg = xgb.XGBClassifier(\n",
    "    colsample_bytree=.3,\n",
    "    learning_rate=.15,\n",
    "    max_depth=10,\n",
    "    alpha=.1,\n",
    "    n_estimators=150,\n",
    ")"
   ]
  },
  {
   "cell_type": "code",
   "execution_count": 185,
   "metadata": {},
   "outputs": [
    {
     "name": "stdout",
     "output_type": "stream",
     "text": [
      "[22:51:09] WARNING: ..\\src\\learner.cc:1061: Starting in XGBoost 1.3.0, the default evaluation metric used with the objective 'binary:logistic' was changed from 'error' to 'logloss'. Explicitly set eval_metric if you'd like to restore the old behavior.\n"
     ]
    },
    {
     "name": "stderr",
     "output_type": "stream",
     "text": [
      "C:\\Users\\kuzne\\anaconda3\\lib\\site-packages\\xgboost\\sklearn.py:888: UserWarning: The use of label encoder in XGBClassifier is deprecated and will be removed in a future release. To remove this warning, do the following: 1) Pass option use_label_encoder=False when constructing XGBClassifier object; and 2) Encode your labels (y) as integers starting with 0, i.e. 0, 1, 2, ..., [num_class - 1].\n",
      "  warnings.warn(label_encoder_deprecation_msg, UserWarning)\n"
     ]
    },
    {
     "data": {
      "text/plain": [
       "XGBClassifier(alpha=0.1, base_score=0.5, booster='gbtree', colsample_bylevel=1,\n",
       "              colsample_bynode=1, colsample_bytree=0.3, gamma=0, gpu_id=-1,\n",
       "              importance_type='gain', interaction_constraints='',\n",
       "              learning_rate=0.15, max_delta_step=0, max_depth=10,\n",
       "              min_child_weight=1, missing=nan, monotone_constraints='()',\n",
       "              n_estimators=150, n_jobs=12, num_parallel_tree=1, random_state=0,\n",
       "              reg_alpha=0.100000001, reg_lambda=1, scale_pos_weight=1,\n",
       "              subsample=1, tree_method='exact', validate_parameters=1,\n",
       "              verbosity=None)"
      ]
     },
     "execution_count": 185,
     "metadata": {},
     "output_type": "execute_result"
    }
   ],
   "source": [
    "xg.fit(X_train, y_train)"
   ]
  },
  {
   "cell_type": "code",
   "execution_count": 186,
   "metadata": {},
   "outputs": [],
   "source": [
    "y_pred = xg.predict(X_test)"
   ]
  },
  {
   "cell_type": "code",
   "execution_count": 187,
   "metadata": {},
   "outputs": [
    {
     "data": {
      "text/plain": [
       "0.47297297297297297"
      ]
     },
     "execution_count": 187,
     "metadata": {},
     "output_type": "execute_result"
    }
   ],
   "source": [
    "f1_score(y_test, y_pred)"
   ]
  },
  {
   "cell_type": "code",
   "execution_count": null,
   "metadata": {},
   "outputs": [],
   "source": []
  },
  {
   "cell_type": "code",
   "execution_count": null,
   "metadata": {},
   "outputs": [],
   "source": []
  }
 ],
 "metadata": {
  "colab": {
   "name": "kickstarter.ipynb",
   "provenance": []
  },
  "kernelspec": {
   "display_name": "Python 3 (ipykernel)",
   "language": "python",
   "name": "python3"
  },
  "language_info": {
   "codemirror_mode": {
    "name": "ipython",
    "version": 3
   },
   "file_extension": ".py",
   "mimetype": "text/x-python",
   "name": "python",
   "nbconvert_exporter": "python",
   "pygments_lexer": "ipython3",
   "version": "3.9.7"
  }
 },
 "nbformat": 4,
 "nbformat_minor": 4
}
